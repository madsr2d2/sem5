{
 "cells": [
  {
   "cell_type": "code",
   "execution_count": 37,
   "metadata": {},
   "outputs": [],
   "source": [
    "import sympy as sp\n",
    "from sympy import exp, Q, assuming, ask"
   ]
  },
  {
   "cell_type": "code",
   "execution_count": 195,
   "metadata": {},
   "outputs": [],
   "source": [
    "from sympy import diff\n",
    "\n",
    "\n",
    "alpha, beta= sp.symbols('alpha beta', real=True, positive=True)  \n",
    "r = sp.symbols('r')\n",
    "t = sp.symbols('t', real=True)\n",
    "\n",
    "x = sp.Function('x')(t)\n",
    "u = sp.Function('u')(t)\n",
    "\n",
    "x_hom = sp.Eq(diff(x, t,3) + (alpha + beta)*diff(x,t,2) + (1 + alpha*beta)*diff(x,t), 0)\n",
    "\n",
    "# Solve the differential equation for x(t)\n",
    "solution = sp.dsolve(x_hom, x)\n",
    "\n",
    "\n",
    "# Replace derivatives with powers of r\n",
    "char_eq = x_hom.subs({sp.Derivative(x, t, 3): r**3,\n",
    "                  sp.Derivative(x, t, 2): r**2, sp.Derivative(x, t): r})\n",
    "\n",
    "# Extract the characteristic polynomial\n",
    "char_poly = sp.simplify(char_eq.lhs)\n",
    "\n",
    "# Display the characteristic polynomial\n",
    "char_poly\n",
    "\n",
    "# Solve the characteristic equation\n",
    "char_roots = sp.solve(char_poly, r)\n",
    "\n",
    "\n",
    "\n",
    "r0 = char_roots[0]\n",
    "\n",
    "# Factor out the negative term to insert 'i' at the right place\n",
    "r1 = char_roots[1].replace(\n",
    "    sp.sqrt(-(-alpha + beta + 2)*(alpha - beta + 2)),\n",
    "    sp.I * sp.sqrt((-alpha + beta + 2)*(alpha - beta + 2))\n",
    ")\n",
    "\n",
    "r2 = char_roots[2].replace(\n",
    "    sp.sqrt(-(-alpha + beta + 2)*(alpha - beta + 2)),\n",
    "    sp.I * sp.sqrt(abs((-alpha + beta + 2)*(alpha - beta + 2)))\n",
    ")\n",
    "\n",
    "r2"
   ]
  },
  {
   "cell_type": "code",
   "execution_count": 187,
   "metadata": {},
   "outputs": [
    {
     "data": {
      "text/latex": [
       "$\\displaystyle \\frac{- 4 \\alpha - 4 \\beta}{\\left(- 4 \\alpha - 4 \\beta\\right)^{2} + \\left(2 \\alpha \\beta - 6\\right)^{2}}$"
      ],
      "text/plain": [
       "(-4*alpha - 4*beta)/((-4*alpha - 4*beta)**2 + (2*alpha*beta - 6)**2)"
      ]
     },
     "execution_count": 187,
     "metadata": {},
     "output_type": "execute_result"
    }
   ],
   "source": [
    "s = sp.symbols('s') \n",
    "H = 1/(s**3 + (alpha + beta)*s**2 + (1 + alpha*beta)*s)\n",
    "H=H.subs(s, 2*sp.I).expand().collect(sp.I)\n",
    "\n",
    "a1 = -4*(alpha + beta)\n",
    "b1 = 2*alpha*beta -6\n",
    "\n",
    "real_part, imag_part = H.subs(s, 2*sp.I).as_real_imag()\n",
    "real_part.simplify()\n",
    "imag_part.simplify()\n",
    "\n",
    "a1/(a1**2 + b1**2)"
   ]
  },
  {
   "cell_type": "code",
   "execution_count": 192,
   "metadata": {},
   "outputs": [
    {
     "data": {
      "text/latex": [
       "$\\displaystyle \\frac{- \\alpha - \\beta}{4 \\left(\\alpha + \\beta\\right)^{2} + \\left(\\alpha \\beta - 3\\right)^{2}}$"
      ],
      "text/plain": [
       "(-alpha - beta)/(4*(alpha + beta)**2 + (alpha*beta - 3)**2)"
      ]
     },
     "execution_count": 192,
     "metadata": {},
     "output_type": "execute_result"
    }
   ],
   "source": [
    "real_part.simplify()"
   ]
  },
  {
   "cell_type": "code",
   "execution_count": 194,
   "metadata": {},
   "outputs": [
    {
     "data": {
      "text/latex": [
       "$\\displaystyle \\frac{- \\alpha \\beta + 3}{2 \\left(4 \\left(\\alpha + \\beta\\right)^{2} + \\left(\\alpha \\beta - 3\\right)^{2}\\right)}$"
      ],
      "text/plain": [
       "(-alpha*beta + 3)/(2*(4*(alpha + beta)**2 + (alpha*beta - 3)**2))"
      ]
     },
     "execution_count": 194,
     "metadata": {},
     "output_type": "execute_result"
    }
   ],
   "source": [
    "imag_part.simplify()"
   ]
  },
  {
   "cell_type": "code",
   "execution_count": 139,
   "metadata": {},
   "outputs": [
    {
     "data": {
      "text/latex": [
       "$\\displaystyle - \\frac{\\alpha}{2} - \\frac{\\beta}{2} - \\frac{i \\sin{\\left(\\frac{\\operatorname{atan}_{2}{\\left(0,\\alpha^{2} - 2 \\alpha \\beta + \\beta^{2} - 4 \\right)}}{2} \\right)} \\sqrt{\\left|{- \\alpha + \\beta + 2}\\right|} \\sqrt{\\left|{\\alpha - \\beta + 2}\\right|}}{2} - \\frac{\\cos{\\left(\\frac{\\operatorname{atan}_{2}{\\left(0,\\alpha^{2} - 2 \\alpha \\beta + \\beta^{2} - 4 \\right)}}{2} \\right)} \\sqrt{\\left|{- \\alpha + \\beta + 2}\\right|} \\sqrt{\\left|{\\alpha - \\beta + 2}\\right|}}{2}$"
      ],
      "text/plain": [
       "-alpha/2 - beta/2 - I*sin(atan2(0, alpha**2 - 2*alpha*beta + beta**2 - 4)/2)*sqrt(Abs(-alpha + beta + 2))*sqrt(Abs(alpha - beta + 2))/2 - cos(atan2(0, alpha**2 - 2*alpha*beta + beta**2 - 4)/2)*sqrt(Abs(-alpha + beta + 2))*sqrt(Abs(alpha - beta + 2))/2"
      ]
     },
     "execution_count": 139,
     "metadata": {},
     "output_type": "execute_result"
    }
   ],
   "source": [
    "char_roots[1].expand(complex=True)\n"
   ]
  },
  {
   "cell_type": "code",
   "execution_count": 116,
   "metadata": {},
   "outputs": [
    {
     "data": {
      "text/latex": [
       "$\\displaystyle \\frac{\\alpha^{2}}{4} - \\frac{\\alpha \\beta}{2} + \\frac{\\beta^{2}}{4} - 1$"
      ],
      "text/plain": [
       "alpha**2/4 - alpha*beta/2 + beta**2/4 - 1"
      ]
     },
     "execution_count": 116,
     "metadata": {},
     "output_type": "execute_result"
    }
   ],
   "source": [
    "sp.expand(-1 - alpha*beta + ((alpha + beta)**2)/4)"
   ]
  },
  {
   "cell_type": "code",
   "execution_count": 118,
   "metadata": {},
   "outputs": [
    {
     "data": {
      "text/latex": [
       "$\\displaystyle \\alpha^{2} - 2 \\alpha \\beta + \\beta^{2} - 4$"
      ],
      "text/plain": [
       "alpha**2 - 2*alpha*beta + beta**2 - 4"
      ]
     },
     "execution_count": 118,
     "metadata": {},
     "output_type": "execute_result"
    }
   ],
   "source": [
    "sp.expand(-(-alpha + beta + 2)*(alpha - beta + 2))"
   ]
  },
  {
   "cell_type": "code",
   "execution_count": 123,
   "metadata": {},
   "outputs": [
    {
     "data": {
      "text/latex": [
       "$\\displaystyle e^{- \\frac{\\alpha t}{2} - \\frac{\\beta t}{2} - \\frac{t \\sin{\\left(\\frac{\\operatorname{atan}_{2}{\\left(0,- \\alpha^{2} + 2 \\alpha \\beta - \\beta^{2} + 4 \\right)}}{2} \\right)} \\sqrt{\\left|{- \\alpha + \\beta + 2}\\right|} \\sqrt{\\left|{\\alpha - \\beta + 2}\\right|}}{2}} \\cos{\\left(\\frac{t \\cos{\\left(\\frac{\\operatorname{atan}_{2}{\\left(0,- \\alpha^{2} + 2 \\alpha \\beta - \\beta^{2} + 4 \\right)}}{2} \\right)} \\sqrt{\\left|{- \\alpha + \\beta + 2}\\right|} \\sqrt{\\left|{\\alpha - \\beta + 2}\\right|}}{2} \\right)}$"
      ],
      "text/plain": [
       "exp(-alpha*t/2 - beta*t/2 - t*sin(atan2(0, -alpha**2 + 2*alpha*beta - beta**2 + 4)/2)*sqrt(Abs(-alpha + beta + 2))*sqrt(Abs(alpha - beta + 2))/2)*cos(t*cos(atan2(0, -alpha**2 + 2*alpha*beta - beta**2 + 4)/2)*sqrt(Abs(-alpha + beta + 2))*sqrt(Abs(alpha - beta + 2))/2)"
      ]
     },
     "execution_count": 123,
     "metadata": {},
     "output_type": "execute_result"
    }
   ],
   "source": [
    "C = sp.symbols('C0:3', real=True) \n",
    "\n",
    "sp.re(exp(r2*t))"
   ]
  },
  {
   "cell_type": "code",
   "execution_count": 45,
   "metadata": {},
   "outputs": [
    {
     "data": {
      "text/latex": [
       "$\\displaystyle - \\frac{\\alpha}{2} - \\frac{\\beta}{2} + \\frac{\\sqrt{\\left(\\alpha - \\beta - 2\\right) \\left(\\alpha - \\beta + 2\\right)}}{2}$"
      ],
      "text/plain": [
       "-alpha/2 - beta/2 + sqrt((alpha - beta - 2)*(alpha - beta + 2))/2"
      ]
     },
     "execution_count": 45,
     "metadata": {},
     "output_type": "execute_result"
    }
   ],
   "source": [
    "lam = sp.symbols('lambda')\n",
    "P = lam**3 + (alpha + beta)*lam**2 + (1 + alpha*beta)*lam\n",
    "\n",
    "# Solve the characteristic equation for the roots\n",
    "roots = sp.solve(P, lam)\n",
    "roots[2]\n"
   ]
  },
  {
   "cell_type": "code",
   "execution_count": 126,
   "metadata": {},
   "outputs": [
    {
     "data": {
      "text/latex": [
       "$\\displaystyle \\left(\\left(\\operatorname{re}{\\left(C_{1}\\right)} + i \\operatorname{im}{\\left(C_{1}\\right)}\\right) e^{\\frac{t \\left(2 \\alpha + 2 \\beta + \\cos{\\left(\\frac{\\operatorname{atan}_{2}{\\left(0,\\alpha^{2} - 2 \\alpha \\beta + \\beta^{2} - 4 \\right)}}{2} \\right)} \\sqrt{\\left|{\\alpha^{2} - 2 \\alpha \\beta + \\beta^{2} - 4}\\right|}\\right)}{2}} + \\left(i \\sin{\\left(\\frac{t \\sin{\\left(\\frac{\\operatorname{atan}_{2}{\\left(0,\\alpha^{2} - 2 \\alpha \\beta + \\beta^{2} - 4 \\right)}}{2} \\right)} \\sqrt{\\left|{\\alpha^{2} - 2 \\alpha \\beta + \\beta^{2} - 4}\\right|}}{2} \\right)} \\operatorname{re}{\\left(C_{2}\\right)} - \\sin{\\left(\\frac{t \\sin{\\left(\\frac{\\operatorname{atan}_{2}{\\left(0,\\alpha^{2} - 2 \\alpha \\beta + \\beta^{2} - 4 \\right)}}{2} \\right)} \\sqrt{\\left|{\\alpha^{2} - 2 \\alpha \\beta + \\beta^{2} - 4}\\right|}}{2} \\right)} \\operatorname{im}{\\left(C_{2}\\right)} + \\cos{\\left(\\frac{t \\sin{\\left(\\frac{\\operatorname{atan}_{2}{\\left(0,\\alpha^{2} - 2 \\alpha \\beta + \\beta^{2} - 4 \\right)}}{2} \\right)} \\sqrt{\\left|{\\alpha^{2} - 2 \\alpha \\beta + \\beta^{2} - 4}\\right|}}{2} \\right)} \\operatorname{re}{\\left(C_{2}\\right)} + i \\cos{\\left(\\frac{t \\sin{\\left(\\frac{\\operatorname{atan}_{2}{\\left(0,\\alpha^{2} - 2 \\alpha \\beta + \\beta^{2} - 4 \\right)}}{2} \\right)} \\sqrt{\\left|{\\alpha^{2} - 2 \\alpha \\beta + \\beta^{2} - 4}\\right|}}{2} \\right)} \\operatorname{im}{\\left(C_{2}\\right)}\\right) e^{t \\left(\\frac{\\alpha}{2} + \\frac{\\beta}{2} + \\cos{\\left(\\frac{\\operatorname{atan}_{2}{\\left(0,\\alpha^{2} - 2 \\alpha \\beta + \\beta^{2} - 4 \\right)}}{2} \\right)} \\sqrt{\\left|{\\alpha^{2} - 2 \\alpha \\beta + \\beta^{2} - 4}\\right|}\\right)} + \\left(- i \\sin{\\left(\\frac{t \\sin{\\left(\\frac{\\operatorname{atan}_{2}{\\left(0,\\alpha^{2} - 2 \\alpha \\beta + \\beta^{2} - 4 \\right)}}{2} \\right)} \\sqrt{\\left|{\\alpha^{2} - 2 \\alpha \\beta + \\beta^{2} - 4}\\right|}}{2} \\right)} \\operatorname{re}{\\left(C_{3}\\right)} + \\sin{\\left(\\frac{t \\sin{\\left(\\frac{\\operatorname{atan}_{2}{\\left(0,\\alpha^{2} - 2 \\alpha \\beta + \\beta^{2} - 4 \\right)}}{2} \\right)} \\sqrt{\\left|{\\alpha^{2} - 2 \\alpha \\beta + \\beta^{2} - 4}\\right|}}{2} \\right)} \\operatorname{im}{\\left(C_{3}\\right)} + \\cos{\\left(\\frac{t \\sin{\\left(\\frac{\\operatorname{atan}_{2}{\\left(0,\\alpha^{2} - 2 \\alpha \\beta + \\beta^{2} - 4 \\right)}}{2} \\right)} \\sqrt{\\left|{\\alpha^{2} - 2 \\alpha \\beta + \\beta^{2} - 4}\\right|}}{2} \\right)} \\operatorname{re}{\\left(C_{3}\\right)} + i \\cos{\\left(\\frac{t \\sin{\\left(\\frac{\\operatorname{atan}_{2}{\\left(0,\\alpha^{2} - 2 \\alpha \\beta + \\beta^{2} - 4 \\right)}}{2} \\right)} \\sqrt{\\left|{\\alpha^{2} - 2 \\alpha \\beta + \\beta^{2} - 4}\\right|}}{2} \\right)} \\operatorname{im}{\\left(C_{3}\\right)}\\right) e^{\\frac{t \\left(\\alpha + \\beta\\right)}{2}}\\right) e^{- \\frac{t \\left(2 \\alpha + 2 \\beta + \\cos{\\left(\\frac{\\operatorname{atan}_{2}{\\left(0,\\alpha^{2} - 2 \\alpha \\beta + \\beta^{2} - 4 \\right)}}{2} \\right)} \\sqrt{\\left|{\\alpha^{2} - 2 \\alpha \\beta + \\beta^{2} - 4}\\right|}\\right)}{2}}$"
      ],
      "text/plain": [
       "((re(C1) + I*im(C1))*exp(t*(2*alpha + 2*beta + cos(atan2(0, alpha**2 - 2*alpha*beta + beta**2 - 4)/2)*sqrt(Abs(alpha**2 - 2*alpha*beta + beta**2 - 4)))/2) + (I*sin(t*sin(atan2(0, alpha**2 - 2*alpha*beta + beta**2 - 4)/2)*sqrt(Abs(alpha**2 - 2*alpha*beta + beta**2 - 4))/2)*re(C2) - sin(t*sin(atan2(0, alpha**2 - 2*alpha*beta + beta**2 - 4)/2)*sqrt(Abs(alpha**2 - 2*alpha*beta + beta**2 - 4))/2)*im(C2) + cos(t*sin(atan2(0, alpha**2 - 2*alpha*beta + beta**2 - 4)/2)*sqrt(Abs(alpha**2 - 2*alpha*beta + beta**2 - 4))/2)*re(C2) + I*cos(t*sin(atan2(0, alpha**2 - 2*alpha*beta + beta**2 - 4)/2)*sqrt(Abs(alpha**2 - 2*alpha*beta + beta**2 - 4))/2)*im(C2))*exp(t*(alpha/2 + beta/2 + cos(atan2(0, alpha**2 - 2*alpha*beta + beta**2 - 4)/2)*sqrt(Abs(alpha**2 - 2*alpha*beta + beta**2 - 4)))) + (-I*sin(t*sin(atan2(0, alpha**2 - 2*alpha*beta + beta**2 - 4)/2)*sqrt(Abs(alpha**2 - 2*alpha*beta + beta**2 - 4))/2)*re(C3) + sin(t*sin(atan2(0, alpha**2 - 2*alpha*beta + beta**2 - 4)/2)*sqrt(Abs(alpha**2 - 2*alpha*beta + beta**2 - 4))/2)*im(C3) + cos(t*sin(atan2(0, alpha**2 - 2*alpha*beta + beta**2 - 4)/2)*sqrt(Abs(alpha**2 - 2*alpha*beta + beta**2 - 4))/2)*re(C3) + I*cos(t*sin(atan2(0, alpha**2 - 2*alpha*beta + beta**2 - 4)/2)*sqrt(Abs(alpha**2 - 2*alpha*beta + beta**2 - 4))/2)*im(C3))*exp(t*(alpha + beta)/2))*exp(-t*(2*alpha + 2*beta + cos(atan2(0, alpha**2 - 2*alpha*beta + beta**2 - 4)/2)*sqrt(Abs(alpha**2 - 2*alpha*beta + beta**2 - 4)))/2)"
      ]
     },
     "execution_count": 126,
     "metadata": {},
     "output_type": "execute_result"
    }
   ],
   "source": [
    "neg_sum = solution.args[1].args[1].args[1].args[0].args[2].args[0].args[0]\n",
    "\n",
    "\n",
    "\n",
    "with assuming(Q.negative(neg_sum)):\n",
    "    simp_expr = sp.simplify(sp.expand(solution.args[1], complex=True))\n",
    "simp_expr"
   ]
  },
  {
   "cell_type": "code",
   "execution_count": 19,
   "metadata": {},
   "outputs": [
    {
     "data": {
      "text/latex": [
       "$\\displaystyle x{\\left(t \\right)} = - \\frac{i \\alpha t \\sin{\\left(t \\right)} \\operatorname{re}{\\left(C_{2}\\right)}}{2} + \\frac{i \\alpha t \\sin{\\left(t \\right)} \\operatorname{re}{\\left(C_{3}\\right)}}{2} + \\frac{\\alpha t \\sin{\\left(t \\right)} \\operatorname{im}{\\left(C_{2}\\right)}}{2} - \\frac{\\alpha t \\sin{\\left(t \\right)} \\operatorname{im}{\\left(C_{3}\\right)}}{2} - \\frac{\\alpha t \\cos{\\left(t \\right)} \\operatorname{re}{\\left(C_{2}\\right)}}{2} - \\frac{\\alpha t \\cos{\\left(t \\right)} \\operatorname{re}{\\left(C_{3}\\right)}}{2} - \\frac{i \\alpha t \\cos{\\left(t \\right)} \\operatorname{im}{\\left(C_{2}\\right)}}{2} - \\frac{i \\alpha t \\cos{\\left(t \\right)} \\operatorname{im}{\\left(C_{3}\\right)}}{2} + \\beta \\left(\\frac{i \\alpha t^{2} \\sin{\\left(t \\right)} \\operatorname{re}{\\left(C_{2}\\right)}}{4} - \\frac{i \\alpha t^{2} \\sin{\\left(t \\right)} \\operatorname{re}{\\left(C_{3}\\right)}}{4} - \\frac{\\alpha t^{2} \\sin{\\left(t \\right)} \\operatorname{im}{\\left(C_{2}\\right)}}{4} + \\frac{\\alpha t^{2} \\sin{\\left(t \\right)} \\operatorname{im}{\\left(C_{3}\\right)}}{4} + \\frac{\\alpha t^{2} \\cos{\\left(t \\right)} \\operatorname{re}{\\left(C_{2}\\right)}}{4} + \\frac{\\alpha t^{2} \\cos{\\left(t \\right)} \\operatorname{re}{\\left(C_{3}\\right)}}{4} + \\frac{i \\alpha t^{2} \\cos{\\left(t \\right)} \\operatorname{im}{\\left(C_{2}\\right)}}{4} + \\frac{i \\alpha t^{2} \\cos{\\left(t \\right)} \\operatorname{im}{\\left(C_{3}\\right)}}{4} - \\frac{\\alpha t \\sin{\\left(t \\right)} \\operatorname{re}{\\left(C_{2}\\right)} \\left. \\frac{d}{d \\xi} \\operatorname{re}{\\left(\\xi\\right)} \\right|_{\\substack{ \\xi=0 }}}{4} - \\frac{\\alpha t \\sin{\\left(t \\right)} \\operatorname{re}{\\left(C_{3}\\right)} \\left. \\frac{d}{d \\xi} \\operatorname{re}{\\left(\\xi\\right)} \\right|_{\\substack{ \\xi=0 }}}{4} - \\frac{i \\alpha t \\sin{\\left(t \\right)} \\operatorname{im}{\\left(C_{2}\\right)} \\left. \\frac{d}{d \\xi} \\operatorname{re}{\\left(\\xi\\right)} \\right|_{\\substack{ \\xi=0 }}}{4} - \\frac{i \\alpha t \\sin{\\left(t \\right)} \\operatorname{im}{\\left(C_{3}\\right)} \\left. \\frac{d}{d \\xi} \\operatorname{re}{\\left(\\xi\\right)} \\right|_{\\substack{ \\xi=0 }}}{4} + \\frac{i \\alpha t \\cos{\\left(t \\right)} \\operatorname{re}{\\left(C_{2}\\right)} \\left. \\frac{d}{d \\xi} \\operatorname{re}{\\left(\\xi\\right)} \\right|_{\\substack{ \\xi=0 }}}{4} - \\frac{i \\alpha t \\cos{\\left(t \\right)} \\operatorname{re}{\\left(C_{3}\\right)} \\left. \\frac{d}{d \\xi} \\operatorname{re}{\\left(\\xi\\right)} \\right|_{\\substack{ \\xi=0 }}}{4} - \\frac{\\alpha t \\cos{\\left(t \\right)} \\operatorname{im}{\\left(C_{2}\\right)} \\left. \\frac{d}{d \\xi} \\operatorname{re}{\\left(\\xi\\right)} \\right|_{\\substack{ \\xi=0 }}}{4} + \\frac{\\alpha t \\cos{\\left(t \\right)} \\operatorname{im}{\\left(C_{3}\\right)} \\left. \\frac{d}{d \\xi} \\operatorname{re}{\\left(\\xi\\right)} \\right|_{\\substack{ \\xi=0 }}}{4} - \\frac{i t \\sin{\\left(t \\right)} \\operatorname{re}{\\left(C_{2}\\right)}}{2} + \\frac{i t \\sin{\\left(t \\right)} \\operatorname{re}{\\left(C_{3}\\right)}}{2} + \\frac{t \\sin{\\left(t \\right)} \\operatorname{im}{\\left(C_{2}\\right)}}{2} - \\frac{t \\sin{\\left(t \\right)} \\operatorname{im}{\\left(C_{3}\\right)}}{2} - \\frac{t \\cos{\\left(t \\right)} \\operatorname{re}{\\left(C_{2}\\right)}}{2} - \\frac{t \\cos{\\left(t \\right)} \\operatorname{re}{\\left(C_{3}\\right)}}{2} - \\frac{i t \\cos{\\left(t \\right)} \\operatorname{im}{\\left(C_{2}\\right)}}{2} - \\frac{i t \\cos{\\left(t \\right)} \\operatorname{im}{\\left(C_{3}\\right)}}{2}\\right) + i \\sin{\\left(t \\right)} \\operatorname{re}{\\left(C_{2}\\right)} - i \\sin{\\left(t \\right)} \\operatorname{re}{\\left(C_{3}\\right)} - \\sin{\\left(t \\right)} \\operatorname{im}{\\left(C_{2}\\right)} + \\sin{\\left(t \\right)} \\operatorname{im}{\\left(C_{3}\\right)} + \\cos{\\left(t \\right)} \\operatorname{re}{\\left(C_{2}\\right)} + \\cos{\\left(t \\right)} \\operatorname{re}{\\left(C_{3}\\right)} + i \\cos{\\left(t \\right)} \\operatorname{im}{\\left(C_{2}\\right)} + i \\cos{\\left(t \\right)} \\operatorname{im}{\\left(C_{3}\\right)} + \\operatorname{re}{\\left(C_{1}\\right)} + i \\operatorname{im}{\\left(C_{1}\\right)}$"
      ],
      "text/plain": [
       "Eq(x(t), -I*alpha*t*sin(t)*re(C2)/2 + I*alpha*t*sin(t)*re(C3)/2 + alpha*t*sin(t)*im(C2)/2 - alpha*t*sin(t)*im(C3)/2 - alpha*t*cos(t)*re(C2)/2 - alpha*t*cos(t)*re(C3)/2 - I*alpha*t*cos(t)*im(C2)/2 - I*alpha*t*cos(t)*im(C3)/2 + beta*(I*alpha*t**2*sin(t)*re(C2)/4 - I*alpha*t**2*sin(t)*re(C3)/4 - alpha*t**2*sin(t)*im(C2)/4 + alpha*t**2*sin(t)*im(C3)/4 + alpha*t**2*cos(t)*re(C2)/4 + alpha*t**2*cos(t)*re(C3)/4 + I*alpha*t**2*cos(t)*im(C2)/4 + I*alpha*t**2*cos(t)*im(C3)/4 - alpha*t*sin(t)*re(C2)*Subs(Derivative(re(xi), xi), xi, 0)/4 - alpha*t*sin(t)*re(C3)*Subs(Derivative(re(xi), xi), xi, 0)/4 - I*alpha*t*sin(t)*im(C2)*Subs(Derivative(re(xi), xi), xi, 0)/4 - I*alpha*t*sin(t)*im(C3)*Subs(Derivative(re(xi), xi), xi, 0)/4 + I*alpha*t*cos(t)*re(C2)*Subs(Derivative(re(xi), xi), xi, 0)/4 - I*alpha*t*cos(t)*re(C3)*Subs(Derivative(re(xi), xi), xi, 0)/4 - alpha*t*cos(t)*im(C2)*Subs(Derivative(re(xi), xi), xi, 0)/4 + alpha*t*cos(t)*im(C3)*Subs(Derivative(re(xi), xi), xi, 0)/4 - I*t*sin(t)*re(C2)/2 + I*t*sin(t)*re(C3)/2 + t*sin(t)*im(C2)/2 - t*sin(t)*im(C3)/2 - t*cos(t)*re(C2)/2 - t*cos(t)*re(C3)/2 - I*t*cos(t)*im(C2)/2 - I*t*cos(t)*im(C3)/2) + I*sin(t)*re(C2) - I*sin(t)*re(C3) - sin(t)*im(C2) + sin(t)*im(C3) + cos(t)*re(C2) + cos(t)*re(C3) + I*cos(t)*im(C2) + I*cos(t)*im(C3) + re(C1) + I*im(C1))"
      ]
     },
     "execution_count": 19,
     "metadata": {},
     "output_type": "execute_result"
    }
   ],
   "source": [
    "# Expand the solution to separate real and imaginary parts (if needed)\n",
    "real_solution = solution.rhs.expand(complex=True)  # Extract the right-hand side (RHS)\n",
    "\n",
    "# Take the series expansion around alpha -> 0 and beta -> 0 (small alpha and beta)\n",
    "approx_solution = real_solution.series(alpha, 0, 2).removeO().series(beta, 0, 2).removeO()\n",
    "\n",
    "# Create the final approximated solution as an equation\n",
    "approx_eq = sp.Eq(x, approx_solution)\n",
    "\n",
    "approx_eq"
   ]
  },
  {
   "cell_type": "code",
   "execution_count": 16,
   "metadata": {},
   "outputs": [
    {
     "ename": "KeyboardInterrupt",
     "evalue": "",
     "output_type": "error",
     "traceback": [
      "\u001b[0;31m---------------------------------------------------------------------------\u001b[0m",
      "\u001b[0;31mValueError\u001b[0m                                Traceback (most recent call last)",
      "File \u001b[0;32m~/.venvs/aem/lib/python3.11/site-packages/sympy/core/mul.py:1962\u001b[0m, in \u001b[0;36mMul._eval_nseries\u001b[0;34m(self, x, n, logx, cdir)\u001b[0m\n\u001b[1;32m   1961\u001b[0m \u001b[38;5;28;01mfor\u001b[39;00m t \u001b[38;5;129;01min\u001b[39;00m \u001b[38;5;28mself\u001b[39m\u001b[38;5;241m.\u001b[39margs:\n\u001b[0;32m-> 1962\u001b[0m     coeff, exp \u001b[38;5;241m=\u001b[39m \u001b[43mt\u001b[49m\u001b[38;5;241;43m.\u001b[39;49m\u001b[43mleadterm\u001b[49m\u001b[43m(\u001b[49m\u001b[43mx\u001b[49m\u001b[43m)\u001b[49m\n\u001b[1;32m   1963\u001b[0m     \u001b[38;5;28;01mif\u001b[39;00m \u001b[38;5;129;01mnot\u001b[39;00m coeff\u001b[38;5;241m.\u001b[39mhas(x):\n",
      "File \u001b[0;32m~/.venvs/aem/lib/python3.11/site-packages/sympy/core/expr.py:3533\u001b[0m, in \u001b[0;36mExpr.leadterm\u001b[0;34m(self, x, logx, cdir)\u001b[0m\n\u001b[1;32m   3532\u001b[0m \u001b[38;5;28;01mif\u001b[39;00m x \u001b[38;5;129;01min\u001b[39;00m c\u001b[38;5;241m.\u001b[39mfree_symbols:\n\u001b[0;32m-> 3533\u001b[0m     \u001b[38;5;28;01mraise\u001b[39;00m \u001b[38;5;167;01mValueError\u001b[39;00m(filldedent(\u001b[38;5;124m\"\"\"\u001b[39m\n\u001b[1;32m   3534\u001b[0m \u001b[38;5;124m        cannot compute leadterm(\u001b[39m\u001b[38;5;132;01m%s\u001b[39;00m\u001b[38;5;124m, \u001b[39m\u001b[38;5;132;01m%s\u001b[39;00m\u001b[38;5;124m). The coefficient\u001b[39m\n\u001b[1;32m   3535\u001b[0m \u001b[38;5;124m        should have been free of \u001b[39m\u001b[38;5;132;01m%s\u001b[39;00m\u001b[38;5;124m but got \u001b[39m\u001b[38;5;132;01m%s\u001b[39;00m\u001b[38;5;124m\"\"\"\u001b[39m \u001b[38;5;241m%\u001b[39m (\u001b[38;5;28mself\u001b[39m, x, x, c)))\n\u001b[1;32m   3536\u001b[0m c \u001b[38;5;241m=\u001b[39m c\u001b[38;5;241m.\u001b[39msubs(d, log(x))\n",
      "\u001b[0;31mValueError\u001b[0m: \ncannot compute\nleadterm(re(Integral(exp(_x*t/2)*exp(beta*t/2)*exp(t*cos(atan2(0,\n_x**2 - 2*_x*beta + beta**2 - 4)/2)*sqrt(Abs(_x**2 - 2*_x*beta +\nbeta**2 - 4))/2)*cos(t*sin(atan2(0, _x**2 - 2*_x*beta + beta**2 -\n4)/2)*sqrt(Abs(_x**2 - 2*_x*beta + beta**2 - 4))/2)*re(u(t)), t)),\n_x). The coefficient should have been free of _x but got\nre(Integral(exp(_x*t/2 + beta*t/2 + t*cos(atan2(0, _x**2 - 2*_x*beta +\nbeta**2 - 4)/2)*sqrt(Abs(_x**2 - 2*_x*beta + beta**2 -\n4))/2)*cos(t*sin(atan2(0, _x**2 - 2*_x*beta + beta**2 -\n4)/2)*sqrt(Abs(_x**2 - 2*_x*beta + beta**2 - 4))/2)*re(u(t)), t))",
      "\nDuring handling of the above exception, another exception occurred:\n",
      "\u001b[0;31mKeyboardInterrupt\u001b[0m                         Traceback (most recent call last)",
      "Cell \u001b[0;32mIn[16], line 5\u001b[0m\n\u001b[1;32m      2\u001b[0m real_solution \u001b[38;5;241m=\u001b[39m solution\u001b[38;5;241m.\u001b[39mrhs\u001b[38;5;241m.\u001b[39mexpand(\u001b[38;5;28mcomplex\u001b[39m\u001b[38;5;241m=\u001b[39m\u001b[38;5;28;01mTrue\u001b[39;00m)  \u001b[38;5;66;03m# Extract the right-hand side (RHS)\u001b[39;00m\n\u001b[1;32m      4\u001b[0m \u001b[38;5;66;03m# Take the series expansion around alpha -> 0 and beta -> 0 (small alpha and beta)\u001b[39;00m\n\u001b[0;32m----> 5\u001b[0m approx_solution \u001b[38;5;241m=\u001b[39m \u001b[43mreal_solution\u001b[49m\u001b[38;5;241;43m.\u001b[39;49m\u001b[43mseries\u001b[49m\u001b[43m(\u001b[49m\u001b[43malpha\u001b[49m\u001b[43m,\u001b[49m\u001b[43m \u001b[49m\u001b[38;5;241;43m0\u001b[39;49m\u001b[43m,\u001b[49m\u001b[43m \u001b[49m\u001b[38;5;241;43m2\u001b[39;49m\u001b[43m)\u001b[49m\u001b[38;5;241m.\u001b[39mremoveO()\u001b[38;5;241m.\u001b[39mseries(beta, \u001b[38;5;241m0\u001b[39m, \u001b[38;5;241m2\u001b[39m)\u001b[38;5;241m.\u001b[39mremoveO()\n\u001b[1;32m      7\u001b[0m \u001b[38;5;66;03m# Create the final approximated solution as an equation\u001b[39;00m\n\u001b[1;32m      8\u001b[0m approx_eq \u001b[38;5;241m=\u001b[39m sp\u001b[38;5;241m.\u001b[39mEq(x, approx_solution)\n",
      "File \u001b[0;32m~/.venvs/aem/lib/python3.11/site-packages/sympy/core/expr.py:3015\u001b[0m, in \u001b[0;36mExpr.series\u001b[0;34m(self, x, x0, n, dir, logx, cdir)\u001b[0m\n\u001b[1;32m   3012\u001b[0m \u001b[38;5;28;01mif\u001b[39;00m x\u001b[38;5;241m.\u001b[39mis_positive \u001b[38;5;129;01mis\u001b[39;00m x\u001b[38;5;241m.\u001b[39mis_negative \u001b[38;5;129;01mis\u001b[39;00m \u001b[38;5;28;01mNone\u001b[39;00m \u001b[38;5;129;01mor\u001b[39;00m x\u001b[38;5;241m.\u001b[39mis_Symbol \u001b[38;5;129;01mis\u001b[39;00m \u001b[38;5;129;01mnot\u001b[39;00m \u001b[38;5;28;01mTrue\u001b[39;00m:\n\u001b[1;32m   3013\u001b[0m     \u001b[38;5;66;03m# replace x with an x that has a positive assumption\u001b[39;00m\n\u001b[1;32m   3014\u001b[0m     xpos \u001b[38;5;241m=\u001b[39m Dummy(\u001b[38;5;124m'\u001b[39m\u001b[38;5;124mx\u001b[39m\u001b[38;5;124m'\u001b[39m, positive\u001b[38;5;241m=\u001b[39m\u001b[38;5;28;01mTrue\u001b[39;00m)\n\u001b[0;32m-> 3015\u001b[0m     rv \u001b[38;5;241m=\u001b[39m \u001b[38;5;28;43mself\u001b[39;49m\u001b[38;5;241;43m.\u001b[39;49m\u001b[43msubs\u001b[49m\u001b[43m(\u001b[49m\u001b[43mx\u001b[49m\u001b[43m,\u001b[49m\u001b[43m \u001b[49m\u001b[43mxpos\u001b[49m\u001b[43m)\u001b[49m\u001b[38;5;241;43m.\u001b[39;49m\u001b[43mseries\u001b[49m\u001b[43m(\u001b[49m\u001b[43mxpos\u001b[49m\u001b[43m,\u001b[49m\u001b[43m \u001b[49m\u001b[43mx0\u001b[49m\u001b[43m,\u001b[49m\u001b[43m \u001b[49m\u001b[43mn\u001b[49m\u001b[43m,\u001b[49m\u001b[43m \u001b[49m\u001b[38;5;28;43mdir\u001b[39;49m\u001b[43m,\u001b[49m\u001b[43m \u001b[49m\u001b[43mlogx\u001b[49m\u001b[38;5;241;43m=\u001b[39;49m\u001b[43mlogx\u001b[49m\u001b[43m,\u001b[49m\u001b[43m \u001b[49m\u001b[43mcdir\u001b[49m\u001b[38;5;241;43m=\u001b[39;49m\u001b[43mcdir\u001b[49m\u001b[43m)\u001b[49m\n\u001b[1;32m   3016\u001b[0m     \u001b[38;5;28;01mif\u001b[39;00m n \u001b[38;5;129;01mis\u001b[39;00m \u001b[38;5;28;01mNone\u001b[39;00m:\n\u001b[1;32m   3017\u001b[0m         \u001b[38;5;28;01mreturn\u001b[39;00m (s\u001b[38;5;241m.\u001b[39msubs(xpos, x) \u001b[38;5;28;01mfor\u001b[39;00m s \u001b[38;5;129;01min\u001b[39;00m rv)\n",
      "File \u001b[0;32m~/.venvs/aem/lib/python3.11/site-packages/sympy/core/expr.py:3023\u001b[0m, in \u001b[0;36mExpr.series\u001b[0;34m(self, x, x0, n, dir, logx, cdir)\u001b[0m\n\u001b[1;32m   3021\u001b[0m \u001b[38;5;28;01mfrom\u001b[39;00m \u001b[38;5;21;01msympy\u001b[39;00m\u001b[38;5;21;01m.\u001b[39;00m\u001b[38;5;21;01mseries\u001b[39;00m\u001b[38;5;21;01m.\u001b[39;00m\u001b[38;5;21;01morder\u001b[39;00m \u001b[38;5;28;01mimport\u001b[39;00m Order\n\u001b[1;32m   3022\u001b[0m \u001b[38;5;28;01mif\u001b[39;00m n \u001b[38;5;129;01mis\u001b[39;00m \u001b[38;5;129;01mnot\u001b[39;00m \u001b[38;5;28;01mNone\u001b[39;00m:  \u001b[38;5;66;03m# nseries handling\u001b[39;00m\n\u001b[0;32m-> 3023\u001b[0m     s1 \u001b[38;5;241m=\u001b[39m \u001b[38;5;28;43mself\u001b[39;49m\u001b[38;5;241;43m.\u001b[39;49m\u001b[43m_eval_nseries\u001b[49m\u001b[43m(\u001b[49m\u001b[43mx\u001b[49m\u001b[43m,\u001b[49m\u001b[43m \u001b[49m\u001b[43mn\u001b[49m\u001b[38;5;241;43m=\u001b[39;49m\u001b[43mn\u001b[49m\u001b[43m,\u001b[49m\u001b[43m \u001b[49m\u001b[43mlogx\u001b[49m\u001b[38;5;241;43m=\u001b[39;49m\u001b[43mlogx\u001b[49m\u001b[43m,\u001b[49m\u001b[43m \u001b[49m\u001b[43mcdir\u001b[49m\u001b[38;5;241;43m=\u001b[39;49m\u001b[43mcdir\u001b[49m\u001b[43m)\u001b[49m\n\u001b[1;32m   3024\u001b[0m     o \u001b[38;5;241m=\u001b[39m s1\u001b[38;5;241m.\u001b[39mgetO() \u001b[38;5;129;01mor\u001b[39;00m S\u001b[38;5;241m.\u001b[39mZero\n\u001b[1;32m   3025\u001b[0m     \u001b[38;5;28;01mif\u001b[39;00m o:\n\u001b[1;32m   3026\u001b[0m         \u001b[38;5;66;03m# make sure the requested order is returned\u001b[39;00m\n",
      "File \u001b[0;32m~/.venvs/aem/lib/python3.11/site-packages/sympy/core/add.py:507\u001b[0m, in \u001b[0;36mAdd._eval_nseries\u001b[0;34m(self, x, n, logx, cdir)\u001b[0m\n\u001b[1;32m    506\u001b[0m \u001b[38;5;28;01mdef\u001b[39;00m \u001b[38;5;21m_eval_nseries\u001b[39m(\u001b[38;5;28mself\u001b[39m, x, n, logx, cdir\u001b[38;5;241m=\u001b[39m\u001b[38;5;241m0\u001b[39m):\n\u001b[0;32m--> 507\u001b[0m     terms \u001b[38;5;241m=\u001b[39m \u001b[43m[\u001b[49m\u001b[43mt\u001b[49m\u001b[38;5;241;43m.\u001b[39;49m\u001b[43mnseries\u001b[49m\u001b[43m(\u001b[49m\u001b[43mx\u001b[49m\u001b[43m,\u001b[49m\u001b[43m \u001b[49m\u001b[43mn\u001b[49m\u001b[38;5;241;43m=\u001b[39;49m\u001b[43mn\u001b[49m\u001b[43m,\u001b[49m\u001b[43m \u001b[49m\u001b[43mlogx\u001b[49m\u001b[38;5;241;43m=\u001b[39;49m\u001b[43mlogx\u001b[49m\u001b[43m,\u001b[49m\u001b[43m \u001b[49m\u001b[43mcdir\u001b[49m\u001b[38;5;241;43m=\u001b[39;49m\u001b[43mcdir\u001b[49m\u001b[43m)\u001b[49m\u001b[43m \u001b[49m\u001b[38;5;28;43;01mfor\u001b[39;49;00m\u001b[43m \u001b[49m\u001b[43mt\u001b[49m\u001b[43m \u001b[49m\u001b[38;5;129;43;01min\u001b[39;49;00m\u001b[43m \u001b[49m\u001b[38;5;28;43mself\u001b[39;49m\u001b[38;5;241;43m.\u001b[39;49m\u001b[43margs\u001b[49m\u001b[43m]\u001b[49m\n\u001b[1;32m    508\u001b[0m     \u001b[38;5;28;01mreturn\u001b[39;00m \u001b[38;5;28mself\u001b[39m\u001b[38;5;241m.\u001b[39mfunc(\u001b[38;5;241m*\u001b[39mterms)\n",
      "File \u001b[0;32m~/.venvs/aem/lib/python3.11/site-packages/sympy/core/add.py:507\u001b[0m, in \u001b[0;36m<listcomp>\u001b[0;34m(.0)\u001b[0m\n\u001b[1;32m    506\u001b[0m \u001b[38;5;28;01mdef\u001b[39;00m \u001b[38;5;21m_eval_nseries\u001b[39m(\u001b[38;5;28mself\u001b[39m, x, n, logx, cdir\u001b[38;5;241m=\u001b[39m\u001b[38;5;241m0\u001b[39m):\n\u001b[0;32m--> 507\u001b[0m     terms \u001b[38;5;241m=\u001b[39m [\u001b[43mt\u001b[49m\u001b[38;5;241;43m.\u001b[39;49m\u001b[43mnseries\u001b[49m\u001b[43m(\u001b[49m\u001b[43mx\u001b[49m\u001b[43m,\u001b[49m\u001b[43m \u001b[49m\u001b[43mn\u001b[49m\u001b[38;5;241;43m=\u001b[39;49m\u001b[43mn\u001b[49m\u001b[43m,\u001b[49m\u001b[43m \u001b[49m\u001b[43mlogx\u001b[49m\u001b[38;5;241;43m=\u001b[39;49m\u001b[43mlogx\u001b[49m\u001b[43m,\u001b[49m\u001b[43m \u001b[49m\u001b[43mcdir\u001b[49m\u001b[38;5;241;43m=\u001b[39;49m\u001b[43mcdir\u001b[49m\u001b[43m)\u001b[49m \u001b[38;5;28;01mfor\u001b[39;00m t \u001b[38;5;129;01min\u001b[39;00m \u001b[38;5;28mself\u001b[39m\u001b[38;5;241m.\u001b[39margs]\n\u001b[1;32m    508\u001b[0m     \u001b[38;5;28;01mreturn\u001b[39;00m \u001b[38;5;28mself\u001b[39m\u001b[38;5;241m.\u001b[39mfunc(\u001b[38;5;241m*\u001b[39mterms)\n",
      "File \u001b[0;32m~/.venvs/aem/lib/python3.11/site-packages/sympy/core/expr.py:3396\u001b[0m, in \u001b[0;36mExpr.nseries\u001b[0;34m(self, x, x0, n, dir, logx, cdir)\u001b[0m\n\u001b[1;32m   3394\u001b[0m     \u001b[38;5;28;01mreturn\u001b[39;00m \u001b[38;5;28mself\u001b[39m\u001b[38;5;241m.\u001b[39mseries(x, x0, n, \u001b[38;5;28mdir\u001b[39m, cdir\u001b[38;5;241m=\u001b[39mcdir)\n\u001b[1;32m   3395\u001b[0m \u001b[38;5;28;01melse\u001b[39;00m:\n\u001b[0;32m-> 3396\u001b[0m     \u001b[38;5;28;01mreturn\u001b[39;00m \u001b[38;5;28;43mself\u001b[39;49m\u001b[38;5;241;43m.\u001b[39;49m\u001b[43m_eval_nseries\u001b[49m\u001b[43m(\u001b[49m\u001b[43mx\u001b[49m\u001b[43m,\u001b[49m\u001b[43m \u001b[49m\u001b[43mn\u001b[49m\u001b[38;5;241;43m=\u001b[39;49m\u001b[43mn\u001b[49m\u001b[43m,\u001b[49m\u001b[43m \u001b[49m\u001b[43mlogx\u001b[49m\u001b[38;5;241;43m=\u001b[39;49m\u001b[43mlogx\u001b[49m\u001b[43m,\u001b[49m\u001b[43m \u001b[49m\u001b[43mcdir\u001b[49m\u001b[38;5;241;43m=\u001b[39;49m\u001b[43mcdir\u001b[49m\u001b[43m)\u001b[49m\n",
      "File \u001b[0;32m~/.venvs/aem/lib/python3.11/site-packages/sympy/core/mul.py:1986\u001b[0m, in \u001b[0;36mMul._eval_nseries\u001b[0;34m(self, x, n, logx, cdir)\u001b[0m\n\u001b[1;32m   1984\u001b[0m \u001b[38;5;28;01mif\u001b[39;00m n0\u001b[38;5;241m.\u001b[39mis_nonnegative:\n\u001b[1;32m   1985\u001b[0m     n0 \u001b[38;5;241m=\u001b[39m S\u001b[38;5;241m.\u001b[39mZero\n\u001b[0;32m-> 1986\u001b[0m facs \u001b[38;5;241m=\u001b[39m \u001b[43m[\u001b[49m\u001b[43mt\u001b[49m\u001b[38;5;241;43m.\u001b[39;49m\u001b[43mnseries\u001b[49m\u001b[43m(\u001b[49m\u001b[43mx\u001b[49m\u001b[43m,\u001b[49m\u001b[43m \u001b[49m\u001b[43mn\u001b[49m\u001b[38;5;241;43m=\u001b[39;49m\u001b[43mceiling\u001b[49m\u001b[43m(\u001b[49m\u001b[43mn\u001b[49m\u001b[38;5;241;43m-\u001b[39;49m\u001b[43mn0\u001b[49m\u001b[43m)\u001b[49m\u001b[43m,\u001b[49m\u001b[43m \u001b[49m\u001b[43mlogx\u001b[49m\u001b[38;5;241;43m=\u001b[39;49m\u001b[43mlogx\u001b[49m\u001b[43m,\u001b[49m\u001b[43m \u001b[49m\u001b[43mcdir\u001b[49m\u001b[38;5;241;43m=\u001b[39;49m\u001b[43mcdir\u001b[49m\u001b[43m)\u001b[49m\u001b[43m \u001b[49m\u001b[38;5;28;43;01mfor\u001b[39;49;00m\u001b[43m \u001b[49m\u001b[43mt\u001b[49m\u001b[43m \u001b[49m\u001b[38;5;129;43;01min\u001b[39;49;00m\u001b[43m \u001b[49m\u001b[38;5;28;43mself\u001b[39;49m\u001b[38;5;241;43m.\u001b[39;49m\u001b[43margs\u001b[49m\u001b[43m]\u001b[49m\n\u001b[1;32m   1987\u001b[0m \u001b[38;5;28;01mfrom\u001b[39;00m \u001b[38;5;21;01msympy\u001b[39;00m\u001b[38;5;21;01m.\u001b[39;00m\u001b[38;5;21;01msimplify\u001b[39;00m\u001b[38;5;21;01m.\u001b[39;00m\u001b[38;5;21;01mpowsimp\u001b[39;00m \u001b[38;5;28;01mimport\u001b[39;00m powsimp\n\u001b[1;32m   1988\u001b[0m res \u001b[38;5;241m=\u001b[39m powsimp(\u001b[38;5;28mself\u001b[39m\u001b[38;5;241m.\u001b[39mfunc(\u001b[38;5;241m*\u001b[39mfacs)\u001b[38;5;241m.\u001b[39mexpand(), combine\u001b[38;5;241m=\u001b[39m\u001b[38;5;124m'\u001b[39m\u001b[38;5;124mexp\u001b[39m\u001b[38;5;124m'\u001b[39m, deep\u001b[38;5;241m=\u001b[39m\u001b[38;5;28;01mTrue\u001b[39;00m)\n",
      "File \u001b[0;32m~/.venvs/aem/lib/python3.11/site-packages/sympy/core/mul.py:1986\u001b[0m, in \u001b[0;36m<listcomp>\u001b[0;34m(.0)\u001b[0m\n\u001b[1;32m   1984\u001b[0m \u001b[38;5;28;01mif\u001b[39;00m n0\u001b[38;5;241m.\u001b[39mis_nonnegative:\n\u001b[1;32m   1985\u001b[0m     n0 \u001b[38;5;241m=\u001b[39m S\u001b[38;5;241m.\u001b[39mZero\n\u001b[0;32m-> 1986\u001b[0m facs \u001b[38;5;241m=\u001b[39m [\u001b[43mt\u001b[49m\u001b[38;5;241;43m.\u001b[39;49m\u001b[43mnseries\u001b[49m\u001b[43m(\u001b[49m\u001b[43mx\u001b[49m\u001b[43m,\u001b[49m\u001b[43m \u001b[49m\u001b[43mn\u001b[49m\u001b[38;5;241;43m=\u001b[39;49m\u001b[43mceiling\u001b[49m\u001b[43m(\u001b[49m\u001b[43mn\u001b[49m\u001b[38;5;241;43m-\u001b[39;49m\u001b[43mn0\u001b[49m\u001b[43m)\u001b[49m\u001b[43m,\u001b[49m\u001b[43m \u001b[49m\u001b[43mlogx\u001b[49m\u001b[38;5;241;43m=\u001b[39;49m\u001b[43mlogx\u001b[49m\u001b[43m,\u001b[49m\u001b[43m \u001b[49m\u001b[43mcdir\u001b[49m\u001b[38;5;241;43m=\u001b[39;49m\u001b[43mcdir\u001b[49m\u001b[43m)\u001b[49m \u001b[38;5;28;01mfor\u001b[39;00m t \u001b[38;5;129;01min\u001b[39;00m \u001b[38;5;28mself\u001b[39m\u001b[38;5;241m.\u001b[39margs]\n\u001b[1;32m   1987\u001b[0m \u001b[38;5;28;01mfrom\u001b[39;00m \u001b[38;5;21;01msympy\u001b[39;00m\u001b[38;5;21;01m.\u001b[39;00m\u001b[38;5;21;01msimplify\u001b[39;00m\u001b[38;5;21;01m.\u001b[39;00m\u001b[38;5;21;01mpowsimp\u001b[39;00m \u001b[38;5;28;01mimport\u001b[39;00m powsimp\n\u001b[1;32m   1988\u001b[0m res \u001b[38;5;241m=\u001b[39m powsimp(\u001b[38;5;28mself\u001b[39m\u001b[38;5;241m.\u001b[39mfunc(\u001b[38;5;241m*\u001b[39mfacs)\u001b[38;5;241m.\u001b[39mexpand(), combine\u001b[38;5;241m=\u001b[39m\u001b[38;5;124m'\u001b[39m\u001b[38;5;124mexp\u001b[39m\u001b[38;5;124m'\u001b[39m, deep\u001b[38;5;241m=\u001b[39m\u001b[38;5;28;01mTrue\u001b[39;00m)\n",
      "File \u001b[0;32m~/.venvs/aem/lib/python3.11/site-packages/sympy/core/expr.py:3396\u001b[0m, in \u001b[0;36mExpr.nseries\u001b[0;34m(self, x, x0, n, dir, logx, cdir)\u001b[0m\n\u001b[1;32m   3394\u001b[0m     \u001b[38;5;28;01mreturn\u001b[39;00m \u001b[38;5;28mself\u001b[39m\u001b[38;5;241m.\u001b[39mseries(x, x0, n, \u001b[38;5;28mdir\u001b[39m, cdir\u001b[38;5;241m=\u001b[39mcdir)\n\u001b[1;32m   3395\u001b[0m \u001b[38;5;28;01melse\u001b[39;00m:\n\u001b[0;32m-> 3396\u001b[0m     \u001b[38;5;28;01mreturn\u001b[39;00m \u001b[38;5;28;43mself\u001b[39;49m\u001b[38;5;241;43m.\u001b[39;49m\u001b[43m_eval_nseries\u001b[49m\u001b[43m(\u001b[49m\u001b[43mx\u001b[49m\u001b[43m,\u001b[49m\u001b[43m \u001b[49m\u001b[43mn\u001b[49m\u001b[38;5;241;43m=\u001b[39;49m\u001b[43mn\u001b[49m\u001b[43m,\u001b[49m\u001b[43m \u001b[49m\u001b[43mlogx\u001b[49m\u001b[38;5;241;43m=\u001b[39;49m\u001b[43mlogx\u001b[49m\u001b[43m,\u001b[49m\u001b[43m \u001b[49m\u001b[43mcdir\u001b[49m\u001b[38;5;241;43m=\u001b[39;49m\u001b[43mcdir\u001b[49m\u001b[43m)\u001b[49m\n",
      "File \u001b[0;32m~/.venvs/aem/lib/python3.11/site-packages/sympy/core/power.py:1596\u001b[0m, in \u001b[0;36mPow._eval_nseries\u001b[0;34m(self, x, n, logx, cdir)\u001b[0m\n\u001b[1;32m   1594\u001b[0m \u001b[38;5;28;01mif\u001b[39;00m \u001b[38;5;129;01mnot\u001b[39;00m d\u001b[38;5;241m.\u001b[39mis_positive:\n\u001b[1;32m   1595\u001b[0m     g \u001b[38;5;241m=\u001b[39m ((b \u001b[38;5;241m-\u001b[39m f)\u001b[38;5;241m/\u001b[39mf)\u001b[38;5;241m.\u001b[39mexpand()\n\u001b[0;32m-> 1596\u001b[0m     _, d \u001b[38;5;241m=\u001b[39m \u001b[43mg\u001b[49m\u001b[38;5;241;43m.\u001b[39;49m\u001b[43mleadterm\u001b[49m\u001b[43m(\u001b[49m\u001b[43mx\u001b[49m\u001b[43m,\u001b[49m\u001b[43m \u001b[49m\u001b[43mlogx\u001b[49m\u001b[38;5;241;43m=\u001b[39;49m\u001b[43mlogx\u001b[49m\u001b[43m)\u001b[49m\n\u001b[1;32m   1597\u001b[0m     \u001b[38;5;28;01mif\u001b[39;00m \u001b[38;5;129;01mnot\u001b[39;00m d\u001b[38;5;241m.\u001b[39mis_positive:\n\u001b[1;32m   1598\u001b[0m         \u001b[38;5;28;01mraise\u001b[39;00m \u001b[38;5;167;01mNotImplementedError\u001b[39;00m()\n",
      "File \u001b[0;32m~/.venvs/aem/lib/python3.11/site-packages/sympy/core/expr.py:3527\u001b[0m, in \u001b[0;36mExpr.leadterm\u001b[0;34m(self, x, logx, cdir)\u001b[0m\n\u001b[1;32m   3525\u001b[0m \u001b[38;5;28;01mfrom\u001b[39;00m \u001b[38;5;21;01m.\u001b[39;00m\u001b[38;5;21;01msymbol\u001b[39;00m \u001b[38;5;28;01mimport\u001b[39;00m Dummy\n\u001b[1;32m   3526\u001b[0m \u001b[38;5;28;01mfrom\u001b[39;00m \u001b[38;5;21;01msympy\u001b[39;00m\u001b[38;5;21;01m.\u001b[39;00m\u001b[38;5;21;01mfunctions\u001b[39;00m\u001b[38;5;21;01m.\u001b[39;00m\u001b[38;5;21;01melementary\u001b[39;00m\u001b[38;5;21;01m.\u001b[39;00m\u001b[38;5;21;01mexponential\u001b[39;00m \u001b[38;5;28;01mimport\u001b[39;00m log\n\u001b[0;32m-> 3527\u001b[0m l \u001b[38;5;241m=\u001b[39m \u001b[38;5;28;43mself\u001b[39;49m\u001b[38;5;241;43m.\u001b[39;49m\u001b[43mas_leading_term\u001b[49m\u001b[43m(\u001b[49m\u001b[43mx\u001b[49m\u001b[43m,\u001b[49m\u001b[43m \u001b[49m\u001b[43mlogx\u001b[49m\u001b[38;5;241;43m=\u001b[39;49m\u001b[43mlogx\u001b[49m\u001b[43m,\u001b[49m\u001b[43m \u001b[49m\u001b[43mcdir\u001b[49m\u001b[38;5;241;43m=\u001b[39;49m\u001b[43mcdir\u001b[49m\u001b[43m)\u001b[49m\n\u001b[1;32m   3528\u001b[0m d \u001b[38;5;241m=\u001b[39m Dummy(\u001b[38;5;124m'\u001b[39m\u001b[38;5;124mlogx\u001b[39m\u001b[38;5;124m'\u001b[39m)\n\u001b[1;32m   3529\u001b[0m \u001b[38;5;28;01mif\u001b[39;00m l\u001b[38;5;241m.\u001b[39mhas(log(x)):\n",
      "File \u001b[0;32m~/.venvs/aem/lib/python3.11/site-packages/sympy/core/cache.py:72\u001b[0m, in \u001b[0;36m__cacheit.<locals>.func_wrapper.<locals>.wrapper\u001b[0;34m(*args, **kwargs)\u001b[0m\n\u001b[1;32m     69\u001b[0m \u001b[38;5;129m@wraps\u001b[39m(func)\n\u001b[1;32m     70\u001b[0m \u001b[38;5;28;01mdef\u001b[39;00m \u001b[38;5;21mwrapper\u001b[39m(\u001b[38;5;241m*\u001b[39margs, \u001b[38;5;241m*\u001b[39m\u001b[38;5;241m*\u001b[39mkwargs):\n\u001b[1;32m     71\u001b[0m     \u001b[38;5;28;01mtry\u001b[39;00m:\n\u001b[0;32m---> 72\u001b[0m         retval \u001b[38;5;241m=\u001b[39m \u001b[43mcfunc\u001b[49m\u001b[43m(\u001b[49m\u001b[38;5;241;43m*\u001b[39;49m\u001b[43margs\u001b[49m\u001b[43m,\u001b[49m\u001b[43m \u001b[49m\u001b[38;5;241;43m*\u001b[39;49m\u001b[38;5;241;43m*\u001b[39;49m\u001b[43mkwargs\u001b[49m\u001b[43m)\u001b[49m\n\u001b[1;32m     73\u001b[0m     \u001b[38;5;28;01mexcept\u001b[39;00m \u001b[38;5;167;01mTypeError\u001b[39;00m \u001b[38;5;28;01mas\u001b[39;00m e:\n\u001b[1;32m     74\u001b[0m         \u001b[38;5;28;01mif\u001b[39;00m \u001b[38;5;129;01mnot\u001b[39;00m e\u001b[38;5;241m.\u001b[39margs \u001b[38;5;129;01mor\u001b[39;00m \u001b[38;5;129;01mnot\u001b[39;00m e\u001b[38;5;241m.\u001b[39margs[\u001b[38;5;241m0\u001b[39m]\u001b[38;5;241m.\u001b[39mstartswith(\u001b[38;5;124m'\u001b[39m\u001b[38;5;124munhashable type:\u001b[39m\u001b[38;5;124m'\u001b[39m):\n",
      "File \u001b[0;32m~/.venvs/aem/lib/python3.11/site-packages/sympy/core/expr.py:3490\u001b[0m, in \u001b[0;36mExpr.as_leading_term\u001b[0;34m(self, logx, cdir, *symbols)\u001b[0m\n\u001b[1;32m   3488\u001b[0m \u001b[38;5;28;01mif\u001b[39;00m x \u001b[38;5;129;01mnot\u001b[39;00m \u001b[38;5;129;01min\u001b[39;00m \u001b[38;5;28mself\u001b[39m\u001b[38;5;241m.\u001b[39mfree_symbols:\n\u001b[1;32m   3489\u001b[0m     \u001b[38;5;28;01mreturn\u001b[39;00m \u001b[38;5;28mself\u001b[39m\n\u001b[0;32m-> 3490\u001b[0m obj \u001b[38;5;241m=\u001b[39m \u001b[38;5;28;43mself\u001b[39;49m\u001b[38;5;241;43m.\u001b[39;49m\u001b[43m_eval_as_leading_term\u001b[49m\u001b[43m(\u001b[49m\u001b[43mx\u001b[49m\u001b[43m,\u001b[49m\u001b[43m \u001b[49m\u001b[43mlogx\u001b[49m\u001b[38;5;241;43m=\u001b[39;49m\u001b[43mlogx\u001b[49m\u001b[43m,\u001b[49m\u001b[43m \u001b[49m\u001b[43mcdir\u001b[49m\u001b[38;5;241;43m=\u001b[39;49m\u001b[43mcdir\u001b[49m\u001b[43m)\u001b[49m\n\u001b[1;32m   3491\u001b[0m \u001b[38;5;28;01mif\u001b[39;00m obj \u001b[38;5;129;01mis\u001b[39;00m \u001b[38;5;129;01mnot\u001b[39;00m \u001b[38;5;28;01mNone\u001b[39;00m:\n\u001b[1;32m   3492\u001b[0m     \u001b[38;5;28;01mfrom\u001b[39;00m \u001b[38;5;21;01msympy\u001b[39;00m\u001b[38;5;21;01m.\u001b[39;00m\u001b[38;5;21;01msimplify\u001b[39;00m\u001b[38;5;21;01m.\u001b[39;00m\u001b[38;5;21;01mpowsimp\u001b[39;00m \u001b[38;5;28;01mimport\u001b[39;00m powsimp\n",
      "File \u001b[0;32m~/.venvs/aem/lib/python3.11/site-packages/sympy/core/add.py:1080\u001b[0m, in \u001b[0;36mAdd._eval_as_leading_term\u001b[0;34m(self, x, logx, cdir)\u001b[0m\n\u001b[1;32m   1078\u001b[0m incr \u001b[38;5;241m=\u001b[39m S\u001b[38;5;241m.\u001b[39mOne\n\u001b[1;32m   1079\u001b[0m \u001b[38;5;28;01mwhile\u001b[39;00m res\u001b[38;5;241m.\u001b[39mis_Order:\n\u001b[0;32m-> 1080\u001b[0m     res \u001b[38;5;241m=\u001b[39m \u001b[43mold\u001b[49m\u001b[38;5;241;43m.\u001b[39;49m\u001b[43m_eval_nseries\u001b[49m\u001b[43m(\u001b[49m\u001b[43mx\u001b[49m\u001b[43m,\u001b[49m\u001b[43m \u001b[49m\u001b[43mn\u001b[49m\u001b[38;5;241;43m=\u001b[39;49m\u001b[43mn0\u001b[49m\u001b[38;5;241;43m+\u001b[39;49m\u001b[43mincr\u001b[49m\u001b[43m,\u001b[49m\u001b[43m \u001b[49m\u001b[43mlogx\u001b[49m\u001b[38;5;241;43m=\u001b[39;49m\u001b[43mlogx\u001b[49m\u001b[43m,\u001b[49m\u001b[43m \u001b[49m\u001b[43mcdir\u001b[49m\u001b[38;5;241;43m=\u001b[39;49m\u001b[43mcdir\u001b[49m\u001b[43m)\u001b[49m\u001b[38;5;241m.\u001b[39mcancel()\u001b[38;5;241m.\u001b[39mpowsimp()\u001b[38;5;241m.\u001b[39mtrigsimp()\n\u001b[1;32m   1081\u001b[0m     incr \u001b[38;5;241m*\u001b[39m\u001b[38;5;241m=\u001b[39m \u001b[38;5;241m2\u001b[39m\n\u001b[1;32m   1082\u001b[0m \u001b[38;5;28;01mreturn\u001b[39;00m res\u001b[38;5;241m.\u001b[39mas_leading_term(x, logx\u001b[38;5;241m=\u001b[39mlogx, cdir\u001b[38;5;241m=\u001b[39mcdir)\n",
      "File \u001b[0;32m~/.venvs/aem/lib/python3.11/site-packages/sympy/core/add.py:507\u001b[0m, in \u001b[0;36mAdd._eval_nseries\u001b[0;34m(self, x, n, logx, cdir)\u001b[0m\n\u001b[1;32m    506\u001b[0m \u001b[38;5;28;01mdef\u001b[39;00m \u001b[38;5;21m_eval_nseries\u001b[39m(\u001b[38;5;28mself\u001b[39m, x, n, logx, cdir\u001b[38;5;241m=\u001b[39m\u001b[38;5;241m0\u001b[39m):\n\u001b[0;32m--> 507\u001b[0m     terms \u001b[38;5;241m=\u001b[39m \u001b[43m[\u001b[49m\u001b[43mt\u001b[49m\u001b[38;5;241;43m.\u001b[39;49m\u001b[43mnseries\u001b[49m\u001b[43m(\u001b[49m\u001b[43mx\u001b[49m\u001b[43m,\u001b[49m\u001b[43m \u001b[49m\u001b[43mn\u001b[49m\u001b[38;5;241;43m=\u001b[39;49m\u001b[43mn\u001b[49m\u001b[43m,\u001b[49m\u001b[43m \u001b[49m\u001b[43mlogx\u001b[49m\u001b[38;5;241;43m=\u001b[39;49m\u001b[43mlogx\u001b[49m\u001b[43m,\u001b[49m\u001b[43m \u001b[49m\u001b[43mcdir\u001b[49m\u001b[38;5;241;43m=\u001b[39;49m\u001b[43mcdir\u001b[49m\u001b[43m)\u001b[49m\u001b[43m \u001b[49m\u001b[38;5;28;43;01mfor\u001b[39;49;00m\u001b[43m \u001b[49m\u001b[43mt\u001b[49m\u001b[43m \u001b[49m\u001b[38;5;129;43;01min\u001b[39;49;00m\u001b[43m \u001b[49m\u001b[38;5;28;43mself\u001b[39;49m\u001b[38;5;241;43m.\u001b[39;49m\u001b[43margs\u001b[49m\u001b[43m]\u001b[49m\n\u001b[1;32m    508\u001b[0m     \u001b[38;5;28;01mreturn\u001b[39;00m \u001b[38;5;28mself\u001b[39m\u001b[38;5;241m.\u001b[39mfunc(\u001b[38;5;241m*\u001b[39mterms)\n",
      "File \u001b[0;32m~/.venvs/aem/lib/python3.11/site-packages/sympy/core/add.py:507\u001b[0m, in \u001b[0;36m<listcomp>\u001b[0;34m(.0)\u001b[0m\n\u001b[1;32m    506\u001b[0m \u001b[38;5;28;01mdef\u001b[39;00m \u001b[38;5;21m_eval_nseries\u001b[39m(\u001b[38;5;28mself\u001b[39m, x, n, logx, cdir\u001b[38;5;241m=\u001b[39m\u001b[38;5;241m0\u001b[39m):\n\u001b[0;32m--> 507\u001b[0m     terms \u001b[38;5;241m=\u001b[39m [\u001b[43mt\u001b[49m\u001b[38;5;241;43m.\u001b[39;49m\u001b[43mnseries\u001b[49m\u001b[43m(\u001b[49m\u001b[43mx\u001b[49m\u001b[43m,\u001b[49m\u001b[43m \u001b[49m\u001b[43mn\u001b[49m\u001b[38;5;241;43m=\u001b[39;49m\u001b[43mn\u001b[49m\u001b[43m,\u001b[49m\u001b[43m \u001b[49m\u001b[43mlogx\u001b[49m\u001b[38;5;241;43m=\u001b[39;49m\u001b[43mlogx\u001b[49m\u001b[43m,\u001b[49m\u001b[43m \u001b[49m\u001b[43mcdir\u001b[49m\u001b[38;5;241;43m=\u001b[39;49m\u001b[43mcdir\u001b[49m\u001b[43m)\u001b[49m \u001b[38;5;28;01mfor\u001b[39;00m t \u001b[38;5;129;01min\u001b[39;00m \u001b[38;5;28mself\u001b[39m\u001b[38;5;241m.\u001b[39margs]\n\u001b[1;32m    508\u001b[0m     \u001b[38;5;28;01mreturn\u001b[39;00m \u001b[38;5;28mself\u001b[39m\u001b[38;5;241m.\u001b[39mfunc(\u001b[38;5;241m*\u001b[39mterms)\n",
      "File \u001b[0;32m~/.venvs/aem/lib/python3.11/site-packages/sympy/core/expr.py:3396\u001b[0m, in \u001b[0;36mExpr.nseries\u001b[0;34m(self, x, x0, n, dir, logx, cdir)\u001b[0m\n\u001b[1;32m   3394\u001b[0m     \u001b[38;5;28;01mreturn\u001b[39;00m \u001b[38;5;28mself\u001b[39m\u001b[38;5;241m.\u001b[39mseries(x, x0, n, \u001b[38;5;28mdir\u001b[39m, cdir\u001b[38;5;241m=\u001b[39mcdir)\n\u001b[1;32m   3395\u001b[0m \u001b[38;5;28;01melse\u001b[39;00m:\n\u001b[0;32m-> 3396\u001b[0m     \u001b[38;5;28;01mreturn\u001b[39;00m \u001b[38;5;28;43mself\u001b[39;49m\u001b[38;5;241;43m.\u001b[39;49m\u001b[43m_eval_nseries\u001b[49m\u001b[43m(\u001b[49m\u001b[43mx\u001b[49m\u001b[43m,\u001b[49m\u001b[43m \u001b[49m\u001b[43mn\u001b[49m\u001b[38;5;241;43m=\u001b[39;49m\u001b[43mn\u001b[49m\u001b[43m,\u001b[49m\u001b[43m \u001b[49m\u001b[43mlogx\u001b[49m\u001b[38;5;241;43m=\u001b[39;49m\u001b[43mlogx\u001b[49m\u001b[43m,\u001b[49m\u001b[43m \u001b[49m\u001b[43mcdir\u001b[49m\u001b[38;5;241;43m=\u001b[39;49m\u001b[43mcdir\u001b[49m\u001b[43m)\u001b[49m\n",
      "File \u001b[0;32m~/.venvs/aem/lib/python3.11/site-packages/sympy/core/mul.py:1972\u001b[0m, in \u001b[0;36mMul._eval_nseries\u001b[0;34m(self, x, n, logx, cdir)\u001b[0m\n\u001b[1;32m   1970\u001b[0m \u001b[38;5;28;01mfor\u001b[39;00m t, m \u001b[38;5;129;01min\u001b[39;00m ords:\n\u001b[1;32m   1971\u001b[0m     n1 \u001b[38;5;241m=\u001b[39m ceiling(n \u001b[38;5;241m-\u001b[39m n0 \u001b[38;5;241m+\u001b[39m (m \u001b[38;5;28;01mif\u001b[39;00m m\u001b[38;5;241m.\u001b[39mis_number \u001b[38;5;28;01melse\u001b[39;00m \u001b[38;5;241m0\u001b[39m))\n\u001b[0;32m-> 1972\u001b[0m     s \u001b[38;5;241m=\u001b[39m \u001b[43mt\u001b[49m\u001b[38;5;241;43m.\u001b[39;49m\u001b[43mnseries\u001b[49m\u001b[43m(\u001b[49m\u001b[43mx\u001b[49m\u001b[43m,\u001b[49m\u001b[43m \u001b[49m\u001b[43mn\u001b[49m\u001b[38;5;241;43m=\u001b[39;49m\u001b[43mn1\u001b[49m\u001b[43m,\u001b[49m\u001b[43m \u001b[49m\u001b[43mlogx\u001b[49m\u001b[38;5;241;43m=\u001b[39;49m\u001b[43mlogx\u001b[49m\u001b[43m,\u001b[49m\u001b[43m \u001b[49m\u001b[43mcdir\u001b[49m\u001b[38;5;241;43m=\u001b[39;49m\u001b[43mcdir\u001b[49m\u001b[43m)\u001b[49m\n\u001b[1;32m   1973\u001b[0m     ns \u001b[38;5;241m=\u001b[39m s\u001b[38;5;241m.\u001b[39mgetn()\n\u001b[1;32m   1974\u001b[0m     \u001b[38;5;28;01mif\u001b[39;00m ns \u001b[38;5;129;01mis\u001b[39;00m \u001b[38;5;129;01mnot\u001b[39;00m \u001b[38;5;28;01mNone\u001b[39;00m:\n",
      "    \u001b[0;31m[... skipping similar frames: Expr.nseries at line 3396 (1 times)]\u001b[0m\n",
      "File \u001b[0;32m~/.venvs/aem/lib/python3.11/site-packages/sympy/core/power.py:1596\u001b[0m, in \u001b[0;36mPow._eval_nseries\u001b[0;34m(self, x, n, logx, cdir)\u001b[0m\n\u001b[1;32m   1594\u001b[0m \u001b[38;5;28;01mif\u001b[39;00m \u001b[38;5;129;01mnot\u001b[39;00m d\u001b[38;5;241m.\u001b[39mis_positive:\n\u001b[1;32m   1595\u001b[0m     g \u001b[38;5;241m=\u001b[39m ((b \u001b[38;5;241m-\u001b[39m f)\u001b[38;5;241m/\u001b[39mf)\u001b[38;5;241m.\u001b[39mexpand()\n\u001b[0;32m-> 1596\u001b[0m     _, d \u001b[38;5;241m=\u001b[39m \u001b[43mg\u001b[49m\u001b[38;5;241;43m.\u001b[39;49m\u001b[43mleadterm\u001b[49m\u001b[43m(\u001b[49m\u001b[43mx\u001b[49m\u001b[43m,\u001b[49m\u001b[43m \u001b[49m\u001b[43mlogx\u001b[49m\u001b[38;5;241;43m=\u001b[39;49m\u001b[43mlogx\u001b[49m\u001b[43m)\u001b[49m\n\u001b[1;32m   1597\u001b[0m     \u001b[38;5;28;01mif\u001b[39;00m \u001b[38;5;129;01mnot\u001b[39;00m d\u001b[38;5;241m.\u001b[39mis_positive:\n\u001b[1;32m   1598\u001b[0m         \u001b[38;5;28;01mraise\u001b[39;00m \u001b[38;5;167;01mNotImplementedError\u001b[39;00m()\n",
      "File \u001b[0;32m~/.venvs/aem/lib/python3.11/site-packages/sympy/core/expr.py:3527\u001b[0m, in \u001b[0;36mExpr.leadterm\u001b[0;34m(self, x, logx, cdir)\u001b[0m\n\u001b[1;32m   3525\u001b[0m \u001b[38;5;28;01mfrom\u001b[39;00m \u001b[38;5;21;01m.\u001b[39;00m\u001b[38;5;21;01msymbol\u001b[39;00m \u001b[38;5;28;01mimport\u001b[39;00m Dummy\n\u001b[1;32m   3526\u001b[0m \u001b[38;5;28;01mfrom\u001b[39;00m \u001b[38;5;21;01msympy\u001b[39;00m\u001b[38;5;21;01m.\u001b[39;00m\u001b[38;5;21;01mfunctions\u001b[39;00m\u001b[38;5;21;01m.\u001b[39;00m\u001b[38;5;21;01melementary\u001b[39;00m\u001b[38;5;21;01m.\u001b[39;00m\u001b[38;5;21;01mexponential\u001b[39;00m \u001b[38;5;28;01mimport\u001b[39;00m log\n\u001b[0;32m-> 3527\u001b[0m l \u001b[38;5;241m=\u001b[39m \u001b[38;5;28;43mself\u001b[39;49m\u001b[38;5;241;43m.\u001b[39;49m\u001b[43mas_leading_term\u001b[49m\u001b[43m(\u001b[49m\u001b[43mx\u001b[49m\u001b[43m,\u001b[49m\u001b[43m \u001b[49m\u001b[43mlogx\u001b[49m\u001b[38;5;241;43m=\u001b[39;49m\u001b[43mlogx\u001b[49m\u001b[43m,\u001b[49m\u001b[43m \u001b[49m\u001b[43mcdir\u001b[49m\u001b[38;5;241;43m=\u001b[39;49m\u001b[43mcdir\u001b[49m\u001b[43m)\u001b[49m\n\u001b[1;32m   3528\u001b[0m d \u001b[38;5;241m=\u001b[39m Dummy(\u001b[38;5;124m'\u001b[39m\u001b[38;5;124mlogx\u001b[39m\u001b[38;5;124m'\u001b[39m)\n\u001b[1;32m   3529\u001b[0m \u001b[38;5;28;01mif\u001b[39;00m l\u001b[38;5;241m.\u001b[39mhas(log(x)):\n",
      "File \u001b[0;32m~/.venvs/aem/lib/python3.11/site-packages/sympy/core/cache.py:72\u001b[0m, in \u001b[0;36m__cacheit.<locals>.func_wrapper.<locals>.wrapper\u001b[0;34m(*args, **kwargs)\u001b[0m\n\u001b[1;32m     69\u001b[0m \u001b[38;5;129m@wraps\u001b[39m(func)\n\u001b[1;32m     70\u001b[0m \u001b[38;5;28;01mdef\u001b[39;00m \u001b[38;5;21mwrapper\u001b[39m(\u001b[38;5;241m*\u001b[39margs, \u001b[38;5;241m*\u001b[39m\u001b[38;5;241m*\u001b[39mkwargs):\n\u001b[1;32m     71\u001b[0m     \u001b[38;5;28;01mtry\u001b[39;00m:\n\u001b[0;32m---> 72\u001b[0m         retval \u001b[38;5;241m=\u001b[39m \u001b[43mcfunc\u001b[49m\u001b[43m(\u001b[49m\u001b[38;5;241;43m*\u001b[39;49m\u001b[43margs\u001b[49m\u001b[43m,\u001b[49m\u001b[43m \u001b[49m\u001b[38;5;241;43m*\u001b[39;49m\u001b[38;5;241;43m*\u001b[39;49m\u001b[43mkwargs\u001b[49m\u001b[43m)\u001b[49m\n\u001b[1;32m     73\u001b[0m     \u001b[38;5;28;01mexcept\u001b[39;00m \u001b[38;5;167;01mTypeError\u001b[39;00m \u001b[38;5;28;01mas\u001b[39;00m e:\n\u001b[1;32m     74\u001b[0m         \u001b[38;5;28;01mif\u001b[39;00m \u001b[38;5;129;01mnot\u001b[39;00m e\u001b[38;5;241m.\u001b[39margs \u001b[38;5;129;01mor\u001b[39;00m \u001b[38;5;129;01mnot\u001b[39;00m e\u001b[38;5;241m.\u001b[39margs[\u001b[38;5;241m0\u001b[39m]\u001b[38;5;241m.\u001b[39mstartswith(\u001b[38;5;124m'\u001b[39m\u001b[38;5;124munhashable type:\u001b[39m\u001b[38;5;124m'\u001b[39m):\n",
      "File \u001b[0;32m~/.venvs/aem/lib/python3.11/site-packages/sympy/core/expr.py:3490\u001b[0m, in \u001b[0;36mExpr.as_leading_term\u001b[0;34m(self, logx, cdir, *symbols)\u001b[0m\n\u001b[1;32m   3488\u001b[0m \u001b[38;5;28;01mif\u001b[39;00m x \u001b[38;5;129;01mnot\u001b[39;00m \u001b[38;5;129;01min\u001b[39;00m \u001b[38;5;28mself\u001b[39m\u001b[38;5;241m.\u001b[39mfree_symbols:\n\u001b[1;32m   3489\u001b[0m     \u001b[38;5;28;01mreturn\u001b[39;00m \u001b[38;5;28mself\u001b[39m\n\u001b[0;32m-> 3490\u001b[0m obj \u001b[38;5;241m=\u001b[39m \u001b[38;5;28;43mself\u001b[39;49m\u001b[38;5;241;43m.\u001b[39;49m\u001b[43m_eval_as_leading_term\u001b[49m\u001b[43m(\u001b[49m\u001b[43mx\u001b[49m\u001b[43m,\u001b[49m\u001b[43m \u001b[49m\u001b[43mlogx\u001b[49m\u001b[38;5;241;43m=\u001b[39;49m\u001b[43mlogx\u001b[49m\u001b[43m,\u001b[49m\u001b[43m \u001b[49m\u001b[43mcdir\u001b[49m\u001b[38;5;241;43m=\u001b[39;49m\u001b[43mcdir\u001b[49m\u001b[43m)\u001b[49m\n\u001b[1;32m   3491\u001b[0m \u001b[38;5;28;01mif\u001b[39;00m obj \u001b[38;5;129;01mis\u001b[39;00m \u001b[38;5;129;01mnot\u001b[39;00m \u001b[38;5;28;01mNone\u001b[39;00m:\n\u001b[1;32m   3492\u001b[0m     \u001b[38;5;28;01mfrom\u001b[39;00m \u001b[38;5;21;01msympy\u001b[39;00m\u001b[38;5;21;01m.\u001b[39;00m\u001b[38;5;21;01msimplify\u001b[39;00m\u001b[38;5;21;01m.\u001b[39;00m\u001b[38;5;21;01mpowsimp\u001b[39;00m \u001b[38;5;28;01mimport\u001b[39;00m powsimp\n",
      "File \u001b[0;32m~/.venvs/aem/lib/python3.11/site-packages/sympy/core/add.py:1080\u001b[0m, in \u001b[0;36mAdd._eval_as_leading_term\u001b[0;34m(self, x, logx, cdir)\u001b[0m\n\u001b[1;32m   1078\u001b[0m incr \u001b[38;5;241m=\u001b[39m S\u001b[38;5;241m.\u001b[39mOne\n\u001b[1;32m   1079\u001b[0m \u001b[38;5;28;01mwhile\u001b[39;00m res\u001b[38;5;241m.\u001b[39mis_Order:\n\u001b[0;32m-> 1080\u001b[0m     res \u001b[38;5;241m=\u001b[39m \u001b[43mold\u001b[49m\u001b[38;5;241;43m.\u001b[39;49m\u001b[43m_eval_nseries\u001b[49m\u001b[43m(\u001b[49m\u001b[43mx\u001b[49m\u001b[43m,\u001b[49m\u001b[43m \u001b[49m\u001b[43mn\u001b[49m\u001b[38;5;241;43m=\u001b[39;49m\u001b[43mn0\u001b[49m\u001b[38;5;241;43m+\u001b[39;49m\u001b[43mincr\u001b[49m\u001b[43m,\u001b[49m\u001b[43m \u001b[49m\u001b[43mlogx\u001b[49m\u001b[38;5;241;43m=\u001b[39;49m\u001b[43mlogx\u001b[49m\u001b[43m,\u001b[49m\u001b[43m \u001b[49m\u001b[43mcdir\u001b[49m\u001b[38;5;241;43m=\u001b[39;49m\u001b[43mcdir\u001b[49m\u001b[43m)\u001b[49m\u001b[38;5;241m.\u001b[39mcancel()\u001b[38;5;241m.\u001b[39mpowsimp()\u001b[38;5;241m.\u001b[39mtrigsimp()\n\u001b[1;32m   1081\u001b[0m     incr \u001b[38;5;241m*\u001b[39m\u001b[38;5;241m=\u001b[39m \u001b[38;5;241m2\u001b[39m\n\u001b[1;32m   1082\u001b[0m \u001b[38;5;28;01mreturn\u001b[39;00m res\u001b[38;5;241m.\u001b[39mas_leading_term(x, logx\u001b[38;5;241m=\u001b[39mlogx, cdir\u001b[38;5;241m=\u001b[39mcdir)\n",
      "File \u001b[0;32m~/.venvs/aem/lib/python3.11/site-packages/sympy/core/add.py:507\u001b[0m, in \u001b[0;36mAdd._eval_nseries\u001b[0;34m(self, x, n, logx, cdir)\u001b[0m\n\u001b[1;32m    506\u001b[0m \u001b[38;5;28;01mdef\u001b[39;00m \u001b[38;5;21m_eval_nseries\u001b[39m(\u001b[38;5;28mself\u001b[39m, x, n, logx, cdir\u001b[38;5;241m=\u001b[39m\u001b[38;5;241m0\u001b[39m):\n\u001b[0;32m--> 507\u001b[0m     terms \u001b[38;5;241m=\u001b[39m \u001b[43m[\u001b[49m\u001b[43mt\u001b[49m\u001b[38;5;241;43m.\u001b[39;49m\u001b[43mnseries\u001b[49m\u001b[43m(\u001b[49m\u001b[43mx\u001b[49m\u001b[43m,\u001b[49m\u001b[43m \u001b[49m\u001b[43mn\u001b[49m\u001b[38;5;241;43m=\u001b[39;49m\u001b[43mn\u001b[49m\u001b[43m,\u001b[49m\u001b[43m \u001b[49m\u001b[43mlogx\u001b[49m\u001b[38;5;241;43m=\u001b[39;49m\u001b[43mlogx\u001b[49m\u001b[43m,\u001b[49m\u001b[43m \u001b[49m\u001b[43mcdir\u001b[49m\u001b[38;5;241;43m=\u001b[39;49m\u001b[43mcdir\u001b[49m\u001b[43m)\u001b[49m\u001b[43m \u001b[49m\u001b[38;5;28;43;01mfor\u001b[39;49;00m\u001b[43m \u001b[49m\u001b[43mt\u001b[49m\u001b[43m \u001b[49m\u001b[38;5;129;43;01min\u001b[39;49;00m\u001b[43m \u001b[49m\u001b[38;5;28;43mself\u001b[39;49m\u001b[38;5;241;43m.\u001b[39;49m\u001b[43margs\u001b[49m\u001b[43m]\u001b[49m\n\u001b[1;32m    508\u001b[0m     \u001b[38;5;28;01mreturn\u001b[39;00m \u001b[38;5;28mself\u001b[39m\u001b[38;5;241m.\u001b[39mfunc(\u001b[38;5;241m*\u001b[39mterms)\n",
      "File \u001b[0;32m~/.venvs/aem/lib/python3.11/site-packages/sympy/core/add.py:507\u001b[0m, in \u001b[0;36m<listcomp>\u001b[0;34m(.0)\u001b[0m\n\u001b[1;32m    506\u001b[0m \u001b[38;5;28;01mdef\u001b[39;00m \u001b[38;5;21m_eval_nseries\u001b[39m(\u001b[38;5;28mself\u001b[39m, x, n, logx, cdir\u001b[38;5;241m=\u001b[39m\u001b[38;5;241m0\u001b[39m):\n\u001b[0;32m--> 507\u001b[0m     terms \u001b[38;5;241m=\u001b[39m [\u001b[43mt\u001b[49m\u001b[38;5;241;43m.\u001b[39;49m\u001b[43mnseries\u001b[49m\u001b[43m(\u001b[49m\u001b[43mx\u001b[49m\u001b[43m,\u001b[49m\u001b[43m \u001b[49m\u001b[43mn\u001b[49m\u001b[38;5;241;43m=\u001b[39;49m\u001b[43mn\u001b[49m\u001b[43m,\u001b[49m\u001b[43m \u001b[49m\u001b[43mlogx\u001b[49m\u001b[38;5;241;43m=\u001b[39;49m\u001b[43mlogx\u001b[49m\u001b[43m,\u001b[49m\u001b[43m \u001b[49m\u001b[43mcdir\u001b[49m\u001b[38;5;241;43m=\u001b[39;49m\u001b[43mcdir\u001b[49m\u001b[43m)\u001b[49m \u001b[38;5;28;01mfor\u001b[39;00m t \u001b[38;5;129;01min\u001b[39;00m \u001b[38;5;28mself\u001b[39m\u001b[38;5;241m.\u001b[39margs]\n\u001b[1;32m    508\u001b[0m     \u001b[38;5;28;01mreturn\u001b[39;00m \u001b[38;5;28mself\u001b[39m\u001b[38;5;241m.\u001b[39mfunc(\u001b[38;5;241m*\u001b[39mterms)\n",
      "    \u001b[0;31m[... skipping similar frames: Expr.nseries at line 3396 (1 times)]\u001b[0m\n",
      "File \u001b[0;32m~/.venvs/aem/lib/python3.11/site-packages/sympy/core/mul.py:1972\u001b[0m, in \u001b[0;36mMul._eval_nseries\u001b[0;34m(self, x, n, logx, cdir)\u001b[0m\n\u001b[1;32m   1970\u001b[0m \u001b[38;5;28;01mfor\u001b[39;00m t, m \u001b[38;5;129;01min\u001b[39;00m ords:\n\u001b[1;32m   1971\u001b[0m     n1 \u001b[38;5;241m=\u001b[39m ceiling(n \u001b[38;5;241m-\u001b[39m n0 \u001b[38;5;241m+\u001b[39m (m \u001b[38;5;28;01mif\u001b[39;00m m\u001b[38;5;241m.\u001b[39mis_number \u001b[38;5;28;01melse\u001b[39;00m \u001b[38;5;241m0\u001b[39m))\n\u001b[0;32m-> 1972\u001b[0m     s \u001b[38;5;241m=\u001b[39m \u001b[43mt\u001b[49m\u001b[38;5;241;43m.\u001b[39;49m\u001b[43mnseries\u001b[49m\u001b[43m(\u001b[49m\u001b[43mx\u001b[49m\u001b[43m,\u001b[49m\u001b[43m \u001b[49m\u001b[43mn\u001b[49m\u001b[38;5;241;43m=\u001b[39;49m\u001b[43mn1\u001b[49m\u001b[43m,\u001b[49m\u001b[43m \u001b[49m\u001b[43mlogx\u001b[49m\u001b[38;5;241;43m=\u001b[39;49m\u001b[43mlogx\u001b[49m\u001b[43m,\u001b[49m\u001b[43m \u001b[49m\u001b[43mcdir\u001b[49m\u001b[38;5;241;43m=\u001b[39;49m\u001b[43mcdir\u001b[49m\u001b[43m)\u001b[49m\n\u001b[1;32m   1973\u001b[0m     ns \u001b[38;5;241m=\u001b[39m s\u001b[38;5;241m.\u001b[39mgetn()\n\u001b[1;32m   1974\u001b[0m     \u001b[38;5;28;01mif\u001b[39;00m ns \u001b[38;5;129;01mis\u001b[39;00m \u001b[38;5;129;01mnot\u001b[39;00m \u001b[38;5;28;01mNone\u001b[39;00m:\n",
      "    \u001b[0;31m[... skipping similar frames: Expr.nseries at line 3396 (461 times), <listcomp> at line 507 (230 times), Add._eval_as_leading_term at line 1080 (230 times), Pow._eval_nseries at line 1596 (230 times), Add._eval_nseries at line 507 (230 times), Mul._eval_nseries at line 1972 (230 times), Expr.as_leading_term at line 3490 (230 times), Expr.leadterm at line 3527 (230 times), __cacheit.<locals>.func_wrapper.<locals>.wrapper at line 72 (230 times)]\u001b[0m\n",
      "File \u001b[0;32m~/.venvs/aem/lib/python3.11/site-packages/sympy/core/power.py:1596\u001b[0m, in \u001b[0;36mPow._eval_nseries\u001b[0;34m(self, x, n, logx, cdir)\u001b[0m\n\u001b[1;32m   1594\u001b[0m \u001b[38;5;28;01mif\u001b[39;00m \u001b[38;5;129;01mnot\u001b[39;00m d\u001b[38;5;241m.\u001b[39mis_positive:\n\u001b[1;32m   1595\u001b[0m     g \u001b[38;5;241m=\u001b[39m ((b \u001b[38;5;241m-\u001b[39m f)\u001b[38;5;241m/\u001b[39mf)\u001b[38;5;241m.\u001b[39mexpand()\n\u001b[0;32m-> 1596\u001b[0m     _, d \u001b[38;5;241m=\u001b[39m \u001b[43mg\u001b[49m\u001b[38;5;241;43m.\u001b[39;49m\u001b[43mleadterm\u001b[49m\u001b[43m(\u001b[49m\u001b[43mx\u001b[49m\u001b[43m,\u001b[49m\u001b[43m \u001b[49m\u001b[43mlogx\u001b[49m\u001b[38;5;241;43m=\u001b[39;49m\u001b[43mlogx\u001b[49m\u001b[43m)\u001b[49m\n\u001b[1;32m   1597\u001b[0m     \u001b[38;5;28;01mif\u001b[39;00m \u001b[38;5;129;01mnot\u001b[39;00m d\u001b[38;5;241m.\u001b[39mis_positive:\n\u001b[1;32m   1598\u001b[0m         \u001b[38;5;28;01mraise\u001b[39;00m \u001b[38;5;167;01mNotImplementedError\u001b[39;00m()\n",
      "File \u001b[0;32m~/.venvs/aem/lib/python3.11/site-packages/sympy/core/expr.py:3527\u001b[0m, in \u001b[0;36mExpr.leadterm\u001b[0;34m(self, x, logx, cdir)\u001b[0m\n\u001b[1;32m   3525\u001b[0m \u001b[38;5;28;01mfrom\u001b[39;00m \u001b[38;5;21;01m.\u001b[39;00m\u001b[38;5;21;01msymbol\u001b[39;00m \u001b[38;5;28;01mimport\u001b[39;00m Dummy\n\u001b[1;32m   3526\u001b[0m \u001b[38;5;28;01mfrom\u001b[39;00m \u001b[38;5;21;01msympy\u001b[39;00m\u001b[38;5;21;01m.\u001b[39;00m\u001b[38;5;21;01mfunctions\u001b[39;00m\u001b[38;5;21;01m.\u001b[39;00m\u001b[38;5;21;01melementary\u001b[39;00m\u001b[38;5;21;01m.\u001b[39;00m\u001b[38;5;21;01mexponential\u001b[39;00m \u001b[38;5;28;01mimport\u001b[39;00m log\n\u001b[0;32m-> 3527\u001b[0m l \u001b[38;5;241m=\u001b[39m \u001b[38;5;28;43mself\u001b[39;49m\u001b[38;5;241;43m.\u001b[39;49m\u001b[43mas_leading_term\u001b[49m\u001b[43m(\u001b[49m\u001b[43mx\u001b[49m\u001b[43m,\u001b[49m\u001b[43m \u001b[49m\u001b[43mlogx\u001b[49m\u001b[38;5;241;43m=\u001b[39;49m\u001b[43mlogx\u001b[49m\u001b[43m,\u001b[49m\u001b[43m \u001b[49m\u001b[43mcdir\u001b[49m\u001b[38;5;241;43m=\u001b[39;49m\u001b[43mcdir\u001b[49m\u001b[43m)\u001b[49m\n\u001b[1;32m   3528\u001b[0m d \u001b[38;5;241m=\u001b[39m Dummy(\u001b[38;5;124m'\u001b[39m\u001b[38;5;124mlogx\u001b[39m\u001b[38;5;124m'\u001b[39m)\n\u001b[1;32m   3529\u001b[0m \u001b[38;5;28;01mif\u001b[39;00m l\u001b[38;5;241m.\u001b[39mhas(log(x)):\n",
      "File \u001b[0;32m~/.venvs/aem/lib/python3.11/site-packages/sympy/core/cache.py:72\u001b[0m, in \u001b[0;36m__cacheit.<locals>.func_wrapper.<locals>.wrapper\u001b[0;34m(*args, **kwargs)\u001b[0m\n\u001b[1;32m     69\u001b[0m \u001b[38;5;129m@wraps\u001b[39m(func)\n\u001b[1;32m     70\u001b[0m \u001b[38;5;28;01mdef\u001b[39;00m \u001b[38;5;21mwrapper\u001b[39m(\u001b[38;5;241m*\u001b[39margs, \u001b[38;5;241m*\u001b[39m\u001b[38;5;241m*\u001b[39mkwargs):\n\u001b[1;32m     71\u001b[0m     \u001b[38;5;28;01mtry\u001b[39;00m:\n\u001b[0;32m---> 72\u001b[0m         retval \u001b[38;5;241m=\u001b[39m \u001b[43mcfunc\u001b[49m\u001b[43m(\u001b[49m\u001b[38;5;241;43m*\u001b[39;49m\u001b[43margs\u001b[49m\u001b[43m,\u001b[49m\u001b[43m \u001b[49m\u001b[38;5;241;43m*\u001b[39;49m\u001b[38;5;241;43m*\u001b[39;49m\u001b[43mkwargs\u001b[49m\u001b[43m)\u001b[49m\n\u001b[1;32m     73\u001b[0m     \u001b[38;5;28;01mexcept\u001b[39;00m \u001b[38;5;167;01mTypeError\u001b[39;00m \u001b[38;5;28;01mas\u001b[39;00m e:\n\u001b[1;32m     74\u001b[0m         \u001b[38;5;28;01mif\u001b[39;00m \u001b[38;5;129;01mnot\u001b[39;00m e\u001b[38;5;241m.\u001b[39margs \u001b[38;5;129;01mor\u001b[39;00m \u001b[38;5;129;01mnot\u001b[39;00m e\u001b[38;5;241m.\u001b[39margs[\u001b[38;5;241m0\u001b[39m]\u001b[38;5;241m.\u001b[39mstartswith(\u001b[38;5;124m'\u001b[39m\u001b[38;5;124munhashable type:\u001b[39m\u001b[38;5;124m'\u001b[39m):\n",
      "File \u001b[0;32m~/.venvs/aem/lib/python3.11/site-packages/sympy/core/expr.py:3490\u001b[0m, in \u001b[0;36mExpr.as_leading_term\u001b[0;34m(self, logx, cdir, *symbols)\u001b[0m\n\u001b[1;32m   3488\u001b[0m \u001b[38;5;28;01mif\u001b[39;00m x \u001b[38;5;129;01mnot\u001b[39;00m \u001b[38;5;129;01min\u001b[39;00m \u001b[38;5;28mself\u001b[39m\u001b[38;5;241m.\u001b[39mfree_symbols:\n\u001b[1;32m   3489\u001b[0m     \u001b[38;5;28;01mreturn\u001b[39;00m \u001b[38;5;28mself\u001b[39m\n\u001b[0;32m-> 3490\u001b[0m obj \u001b[38;5;241m=\u001b[39m \u001b[38;5;28;43mself\u001b[39;49m\u001b[38;5;241;43m.\u001b[39;49m\u001b[43m_eval_as_leading_term\u001b[49m\u001b[43m(\u001b[49m\u001b[43mx\u001b[49m\u001b[43m,\u001b[49m\u001b[43m \u001b[49m\u001b[43mlogx\u001b[49m\u001b[38;5;241;43m=\u001b[39;49m\u001b[43mlogx\u001b[49m\u001b[43m,\u001b[49m\u001b[43m \u001b[49m\u001b[43mcdir\u001b[49m\u001b[38;5;241;43m=\u001b[39;49m\u001b[43mcdir\u001b[49m\u001b[43m)\u001b[49m\n\u001b[1;32m   3491\u001b[0m \u001b[38;5;28;01mif\u001b[39;00m obj \u001b[38;5;129;01mis\u001b[39;00m \u001b[38;5;129;01mnot\u001b[39;00m \u001b[38;5;28;01mNone\u001b[39;00m:\n\u001b[1;32m   3492\u001b[0m     \u001b[38;5;28;01mfrom\u001b[39;00m \u001b[38;5;21;01msympy\u001b[39;00m\u001b[38;5;21;01m.\u001b[39;00m\u001b[38;5;21;01msimplify\u001b[39;00m\u001b[38;5;21;01m.\u001b[39;00m\u001b[38;5;21;01mpowsimp\u001b[39;00m \u001b[38;5;28;01mimport\u001b[39;00m powsimp\n",
      "File \u001b[0;32m~/.venvs/aem/lib/python3.11/site-packages/sympy/core/add.py:1080\u001b[0m, in \u001b[0;36mAdd._eval_as_leading_term\u001b[0;34m(self, x, logx, cdir)\u001b[0m\n\u001b[1;32m   1078\u001b[0m incr \u001b[38;5;241m=\u001b[39m S\u001b[38;5;241m.\u001b[39mOne\n\u001b[1;32m   1079\u001b[0m \u001b[38;5;28;01mwhile\u001b[39;00m res\u001b[38;5;241m.\u001b[39mis_Order:\n\u001b[0;32m-> 1080\u001b[0m     res \u001b[38;5;241m=\u001b[39m \u001b[43mold\u001b[49m\u001b[38;5;241;43m.\u001b[39;49m\u001b[43m_eval_nseries\u001b[49m\u001b[43m(\u001b[49m\u001b[43mx\u001b[49m\u001b[43m,\u001b[49m\u001b[43m \u001b[49m\u001b[43mn\u001b[49m\u001b[38;5;241;43m=\u001b[39;49m\u001b[43mn0\u001b[49m\u001b[38;5;241;43m+\u001b[39;49m\u001b[43mincr\u001b[49m\u001b[43m,\u001b[49m\u001b[43m \u001b[49m\u001b[43mlogx\u001b[49m\u001b[38;5;241;43m=\u001b[39;49m\u001b[43mlogx\u001b[49m\u001b[43m,\u001b[49m\u001b[43m \u001b[49m\u001b[43mcdir\u001b[49m\u001b[38;5;241;43m=\u001b[39;49m\u001b[43mcdir\u001b[49m\u001b[43m)\u001b[49m\u001b[38;5;241m.\u001b[39mcancel()\u001b[38;5;241m.\u001b[39mpowsimp()\u001b[38;5;241m.\u001b[39mtrigsimp()\n\u001b[1;32m   1081\u001b[0m     incr \u001b[38;5;241m*\u001b[39m\u001b[38;5;241m=\u001b[39m \u001b[38;5;241m2\u001b[39m\n\u001b[1;32m   1082\u001b[0m \u001b[38;5;28;01mreturn\u001b[39;00m res\u001b[38;5;241m.\u001b[39mas_leading_term(x, logx\u001b[38;5;241m=\u001b[39mlogx, cdir\u001b[38;5;241m=\u001b[39mcdir)\n",
      "File \u001b[0;32m~/.venvs/aem/lib/python3.11/site-packages/sympy/core/add.py:507\u001b[0m, in \u001b[0;36mAdd._eval_nseries\u001b[0;34m(self, x, n, logx, cdir)\u001b[0m\n\u001b[1;32m    506\u001b[0m \u001b[38;5;28;01mdef\u001b[39;00m \u001b[38;5;21m_eval_nseries\u001b[39m(\u001b[38;5;28mself\u001b[39m, x, n, logx, cdir\u001b[38;5;241m=\u001b[39m\u001b[38;5;241m0\u001b[39m):\n\u001b[0;32m--> 507\u001b[0m     terms \u001b[38;5;241m=\u001b[39m \u001b[43m[\u001b[49m\u001b[43mt\u001b[49m\u001b[38;5;241;43m.\u001b[39;49m\u001b[43mnseries\u001b[49m\u001b[43m(\u001b[49m\u001b[43mx\u001b[49m\u001b[43m,\u001b[49m\u001b[43m \u001b[49m\u001b[43mn\u001b[49m\u001b[38;5;241;43m=\u001b[39;49m\u001b[43mn\u001b[49m\u001b[43m,\u001b[49m\u001b[43m \u001b[49m\u001b[43mlogx\u001b[49m\u001b[38;5;241;43m=\u001b[39;49m\u001b[43mlogx\u001b[49m\u001b[43m,\u001b[49m\u001b[43m \u001b[49m\u001b[43mcdir\u001b[49m\u001b[38;5;241;43m=\u001b[39;49m\u001b[43mcdir\u001b[49m\u001b[43m)\u001b[49m\u001b[43m \u001b[49m\u001b[38;5;28;43;01mfor\u001b[39;49;00m\u001b[43m \u001b[49m\u001b[43mt\u001b[49m\u001b[43m \u001b[49m\u001b[38;5;129;43;01min\u001b[39;49;00m\u001b[43m \u001b[49m\u001b[38;5;28;43mself\u001b[39;49m\u001b[38;5;241;43m.\u001b[39;49m\u001b[43margs\u001b[49m\u001b[43m]\u001b[49m\n\u001b[1;32m    508\u001b[0m     \u001b[38;5;28;01mreturn\u001b[39;00m \u001b[38;5;28mself\u001b[39m\u001b[38;5;241m.\u001b[39mfunc(\u001b[38;5;241m*\u001b[39mterms)\n",
      "File \u001b[0;32m~/.venvs/aem/lib/python3.11/site-packages/sympy/core/add.py:507\u001b[0m, in \u001b[0;36m<listcomp>\u001b[0;34m(.0)\u001b[0m\n\u001b[1;32m    506\u001b[0m \u001b[38;5;28;01mdef\u001b[39;00m \u001b[38;5;21m_eval_nseries\u001b[39m(\u001b[38;5;28mself\u001b[39m, x, n, logx, cdir\u001b[38;5;241m=\u001b[39m\u001b[38;5;241m0\u001b[39m):\n\u001b[0;32m--> 507\u001b[0m     terms \u001b[38;5;241m=\u001b[39m [\u001b[43mt\u001b[49m\u001b[38;5;241;43m.\u001b[39;49m\u001b[43mnseries\u001b[49m\u001b[43m(\u001b[49m\u001b[43mx\u001b[49m\u001b[43m,\u001b[49m\u001b[43m \u001b[49m\u001b[43mn\u001b[49m\u001b[38;5;241;43m=\u001b[39;49m\u001b[43mn\u001b[49m\u001b[43m,\u001b[49m\u001b[43m \u001b[49m\u001b[43mlogx\u001b[49m\u001b[38;5;241;43m=\u001b[39;49m\u001b[43mlogx\u001b[49m\u001b[43m,\u001b[49m\u001b[43m \u001b[49m\u001b[43mcdir\u001b[49m\u001b[38;5;241;43m=\u001b[39;49m\u001b[43mcdir\u001b[49m\u001b[43m)\u001b[49m \u001b[38;5;28;01mfor\u001b[39;00m t \u001b[38;5;129;01min\u001b[39;00m \u001b[38;5;28mself\u001b[39m\u001b[38;5;241m.\u001b[39margs]\n\u001b[1;32m    508\u001b[0m     \u001b[38;5;28;01mreturn\u001b[39;00m \u001b[38;5;28mself\u001b[39m\u001b[38;5;241m.\u001b[39mfunc(\u001b[38;5;241m*\u001b[39mterms)\n",
      "    \u001b[0;31m[... skipping similar frames: Expr.nseries at line 3396 (1 times)]\u001b[0m\n",
      "File \u001b[0;32m~/.venvs/aem/lib/python3.11/site-packages/sympy/core/mul.py:1972\u001b[0m, in \u001b[0;36mMul._eval_nseries\u001b[0;34m(self, x, n, logx, cdir)\u001b[0m\n\u001b[1;32m   1970\u001b[0m \u001b[38;5;28;01mfor\u001b[39;00m t, m \u001b[38;5;129;01min\u001b[39;00m ords:\n\u001b[1;32m   1971\u001b[0m     n1 \u001b[38;5;241m=\u001b[39m ceiling(n \u001b[38;5;241m-\u001b[39m n0 \u001b[38;5;241m+\u001b[39m (m \u001b[38;5;28;01mif\u001b[39;00m m\u001b[38;5;241m.\u001b[39mis_number \u001b[38;5;28;01melse\u001b[39;00m \u001b[38;5;241m0\u001b[39m))\n\u001b[0;32m-> 1972\u001b[0m     s \u001b[38;5;241m=\u001b[39m \u001b[43mt\u001b[49m\u001b[38;5;241;43m.\u001b[39;49m\u001b[43mnseries\u001b[49m\u001b[43m(\u001b[49m\u001b[43mx\u001b[49m\u001b[43m,\u001b[49m\u001b[43m \u001b[49m\u001b[43mn\u001b[49m\u001b[38;5;241;43m=\u001b[39;49m\u001b[43mn1\u001b[49m\u001b[43m,\u001b[49m\u001b[43m \u001b[49m\u001b[43mlogx\u001b[49m\u001b[38;5;241;43m=\u001b[39;49m\u001b[43mlogx\u001b[49m\u001b[43m,\u001b[49m\u001b[43m \u001b[49m\u001b[43mcdir\u001b[49m\u001b[38;5;241;43m=\u001b[39;49m\u001b[43mcdir\u001b[49m\u001b[43m)\u001b[49m\n\u001b[1;32m   1973\u001b[0m     ns \u001b[38;5;241m=\u001b[39m s\u001b[38;5;241m.\u001b[39mgetn()\n\u001b[1;32m   1974\u001b[0m     \u001b[38;5;28;01mif\u001b[39;00m ns \u001b[38;5;129;01mis\u001b[39;00m \u001b[38;5;129;01mnot\u001b[39;00m \u001b[38;5;28;01mNone\u001b[39;00m:\n",
      "File \u001b[0;32m~/.venvs/aem/lib/python3.11/site-packages/sympy/core/expr.py:3396\u001b[0m, in \u001b[0;36mExpr.nseries\u001b[0;34m(self, x, x0, n, dir, logx, cdir)\u001b[0m\n\u001b[1;32m   3394\u001b[0m     \u001b[38;5;28;01mreturn\u001b[39;00m \u001b[38;5;28mself\u001b[39m\u001b[38;5;241m.\u001b[39mseries(x, x0, n, \u001b[38;5;28mdir\u001b[39m, cdir\u001b[38;5;241m=\u001b[39mcdir)\n\u001b[1;32m   3395\u001b[0m \u001b[38;5;28;01melse\u001b[39;00m:\n\u001b[0;32m-> 3396\u001b[0m     \u001b[38;5;28;01mreturn\u001b[39;00m \u001b[38;5;28;43mself\u001b[39;49m\u001b[38;5;241;43m.\u001b[39;49m\u001b[43m_eval_nseries\u001b[49m\u001b[43m(\u001b[49m\u001b[43mx\u001b[49m\u001b[43m,\u001b[49m\u001b[43m \u001b[49m\u001b[43mn\u001b[49m\u001b[38;5;241;43m=\u001b[39;49m\u001b[43mn\u001b[49m\u001b[43m,\u001b[49m\u001b[43m \u001b[49m\u001b[43mlogx\u001b[49m\u001b[38;5;241;43m=\u001b[39;49m\u001b[43mlogx\u001b[49m\u001b[43m,\u001b[49m\u001b[43m \u001b[49m\u001b[43mcdir\u001b[49m\u001b[38;5;241;43m=\u001b[39;49m\u001b[43mcdir\u001b[49m\u001b[43m)\u001b[49m\n",
      "File \u001b[0;32m~/.venvs/aem/lib/python3.11/site-packages/sympy/core/power.py:1590\u001b[0m, in \u001b[0;36mPow._eval_nseries\u001b[0;34m(self, x, n, logx, cdir)\u001b[0m\n\u001b[1;32m   1588\u001b[0m     _, d \u001b[38;5;241m=\u001b[39m nsimplify(g)\u001b[38;5;241m.\u001b[39mleadterm(x, logx\u001b[38;5;241m=\u001b[39mlogx)\n\u001b[1;32m   1589\u001b[0m \u001b[38;5;28;01mif\u001b[39;00m \u001b[38;5;129;01mnot\u001b[39;00m d\u001b[38;5;241m.\u001b[39mis_positive:\n\u001b[0;32m-> 1590\u001b[0m     g \u001b[38;5;241m=\u001b[39m \u001b[43mg\u001b[49m\u001b[38;5;241;43m.\u001b[39;49m\u001b[43msimplify\u001b[49m\u001b[43m(\u001b[49m\u001b[43m)\u001b[49m\n\u001b[1;32m   1591\u001b[0m     \u001b[38;5;28;01mif\u001b[39;00m g\u001b[38;5;241m.\u001b[39mis_zero:\n\u001b[1;32m   1592\u001b[0m         \u001b[38;5;28;01mreturn\u001b[39;00m f\u001b[38;5;241m*\u001b[39m\u001b[38;5;241m*\u001b[39me\n",
      "File \u001b[0;32m~/.venvs/aem/lib/python3.11/site-packages/sympy/core/basic.py:1936\u001b[0m, in \u001b[0;36mBasic.simplify\u001b[0;34m(self, **kwargs)\u001b[0m\n\u001b[1;32m   1934\u001b[0m \u001b[38;5;250m\u001b[39m\u001b[38;5;124;03m\"\"\"See the simplify function in sympy.simplify\"\"\"\u001b[39;00m\n\u001b[1;32m   1935\u001b[0m \u001b[38;5;28;01mfrom\u001b[39;00m \u001b[38;5;21;01msympy\u001b[39;00m\u001b[38;5;21;01m.\u001b[39;00m\u001b[38;5;21;01msimplify\u001b[39;00m\u001b[38;5;21;01m.\u001b[39;00m\u001b[38;5;21;01msimplify\u001b[39;00m \u001b[38;5;28;01mimport\u001b[39;00m simplify\n\u001b[0;32m-> 1936\u001b[0m \u001b[38;5;28;01mreturn\u001b[39;00m \u001b[43msimplify\u001b[49m\u001b[43m(\u001b[49m\u001b[38;5;28;43mself\u001b[39;49m\u001b[43m,\u001b[49m\u001b[43m \u001b[49m\u001b[38;5;241;43m*\u001b[39;49m\u001b[38;5;241;43m*\u001b[39;49m\u001b[43mkwargs\u001b[49m\u001b[43m)\u001b[49m\n",
      "File \u001b[0;32m~/.venvs/aem/lib/python3.11/site-packages/sympy/simplify/simplify.py:699\u001b[0m, in \u001b[0;36msimplify\u001b[0;34m(expr, ratio, measure, rational, inverse, doit, **kwargs)\u001b[0m\n\u001b[1;32m    696\u001b[0m     expr \u001b[38;5;241m=\u001b[39m besselsimp(expr)\n\u001b[1;32m    698\u001b[0m \u001b[38;5;28;01mif\u001b[39;00m expr\u001b[38;5;241m.\u001b[39mhas(TrigonometricFunction, HyperbolicFunction):\n\u001b[0;32m--> 699\u001b[0m     expr \u001b[38;5;241m=\u001b[39m \u001b[43mtrigsimp\u001b[49m\u001b[43m(\u001b[49m\u001b[43mexpr\u001b[49m\u001b[43m,\u001b[49m\u001b[43m \u001b[49m\u001b[43mdeep\u001b[49m\u001b[38;5;241;43m=\u001b[39;49m\u001b[38;5;28;43;01mTrue\u001b[39;49;00m\u001b[43m)\u001b[49m\n\u001b[1;32m    701\u001b[0m \u001b[38;5;28;01mif\u001b[39;00m expr\u001b[38;5;241m.\u001b[39mhas(log):\n\u001b[1;32m    702\u001b[0m     expr \u001b[38;5;241m=\u001b[39m shorter(expand_log(expr, deep\u001b[38;5;241m=\u001b[39m\u001b[38;5;28;01mTrue\u001b[39;00m), logcombine(expr))\n",
      "File \u001b[0;32m~/.venvs/aem/lib/python3.11/site-packages/sympy/simplify/trigsimp.py:565\u001b[0m, in \u001b[0;36mtrigsimp\u001b[0;34m(expr, inverse, **opts)\u001b[0m\n\u001b[1;32m    554\u001b[0m     \u001b[38;5;28;01mreturn\u001b[39;00m trigsimp_groebner(new, \u001b[38;5;241m*\u001b[39m\u001b[38;5;241m*\u001b[39mopts)\n\u001b[1;32m    556\u001b[0m trigsimpfunc \u001b[38;5;241m=\u001b[39m {\n\u001b[1;32m    557\u001b[0m     \u001b[38;5;124m'\u001b[39m\u001b[38;5;124mfu\u001b[39m\u001b[38;5;124m'\u001b[39m: (\u001b[38;5;28;01mlambda\u001b[39;00m x: fu(x, \u001b[38;5;241m*\u001b[39m\u001b[38;5;241m*\u001b[39mopts)),\n\u001b[1;32m    558\u001b[0m     \u001b[38;5;124m'\u001b[39m\u001b[38;5;124mmatching\u001b[39m\u001b[38;5;124m'\u001b[39m: (\u001b[38;5;28;01mlambda\u001b[39;00m x: futrig(x)),\n\u001b[0;32m   (...)\u001b[0m\n\u001b[1;32m    562\u001b[0m     \u001b[38;5;124m'\u001b[39m\u001b[38;5;124mold\u001b[39m\u001b[38;5;124m'\u001b[39m: \u001b[38;5;28;01mlambda\u001b[39;00m x: trigsimp_old(x, \u001b[38;5;241m*\u001b[39m\u001b[38;5;241m*\u001b[39mopts),\n\u001b[1;32m    563\u001b[0m                }[method]\n\u001b[0;32m--> 565\u001b[0m expr_simplified \u001b[38;5;241m=\u001b[39m \u001b[43mtrigsimpfunc\u001b[49m\u001b[43m(\u001b[49m\u001b[43mexpr\u001b[49m\u001b[43m)\u001b[49m\n\u001b[1;32m    566\u001b[0m \u001b[38;5;28;01mif\u001b[39;00m inverse:\n\u001b[1;32m    567\u001b[0m     expr_simplified \u001b[38;5;241m=\u001b[39m _trigsimp_inverse(expr_simplified)\n",
      "File \u001b[0;32m~/.venvs/aem/lib/python3.11/site-packages/sympy/simplify/trigsimp.py:558\u001b[0m, in \u001b[0;36mtrigsimp.<locals>.<lambda>\u001b[0;34m(x)\u001b[0m\n\u001b[1;32m    553\u001b[0m         \u001b[38;5;28;01mreturn\u001b[39;00m new\n\u001b[1;32m    554\u001b[0m     \u001b[38;5;28;01mreturn\u001b[39;00m trigsimp_groebner(new, \u001b[38;5;241m*\u001b[39m\u001b[38;5;241m*\u001b[39mopts)\n\u001b[1;32m    556\u001b[0m trigsimpfunc \u001b[38;5;241m=\u001b[39m {\n\u001b[1;32m    557\u001b[0m     \u001b[38;5;124m'\u001b[39m\u001b[38;5;124mfu\u001b[39m\u001b[38;5;124m'\u001b[39m: (\u001b[38;5;28;01mlambda\u001b[39;00m x: fu(x, \u001b[38;5;241m*\u001b[39m\u001b[38;5;241m*\u001b[39mopts)),\n\u001b[0;32m--> 558\u001b[0m     \u001b[38;5;124m'\u001b[39m\u001b[38;5;124mmatching\u001b[39m\u001b[38;5;124m'\u001b[39m: (\u001b[38;5;28;01mlambda\u001b[39;00m x: \u001b[43mfutrig\u001b[49m\u001b[43m(\u001b[49m\u001b[43mx\u001b[49m\u001b[43m)\u001b[49m),\n\u001b[1;32m    559\u001b[0m     \u001b[38;5;124m'\u001b[39m\u001b[38;5;124mgroebner\u001b[39m\u001b[38;5;124m'\u001b[39m: (\u001b[38;5;28;01mlambda\u001b[39;00m x: groebnersimp(x, \u001b[38;5;241m*\u001b[39m\u001b[38;5;241m*\u001b[39mopts)),\n\u001b[1;32m    560\u001b[0m     \u001b[38;5;124m'\u001b[39m\u001b[38;5;124mcombined\u001b[39m\u001b[38;5;124m'\u001b[39m: (\u001b[38;5;28;01mlambda\u001b[39;00m x: futrig(groebnersimp(x,\n\u001b[1;32m    561\u001b[0m                            polynomial\u001b[38;5;241m=\u001b[39m\u001b[38;5;28;01mTrue\u001b[39;00m, hints\u001b[38;5;241m=\u001b[39m[\u001b[38;5;241m2\u001b[39m, tan]))),\n\u001b[1;32m    562\u001b[0m     \u001b[38;5;124m'\u001b[39m\u001b[38;5;124mold\u001b[39m\u001b[38;5;124m'\u001b[39m: \u001b[38;5;28;01mlambda\u001b[39;00m x: trigsimp_old(x, \u001b[38;5;241m*\u001b[39m\u001b[38;5;241m*\u001b[39mopts),\n\u001b[1;32m    563\u001b[0m                }[method]\n\u001b[1;32m    565\u001b[0m expr_simplified \u001b[38;5;241m=\u001b[39m trigsimpfunc(expr)\n\u001b[1;32m    566\u001b[0m \u001b[38;5;28;01mif\u001b[39;00m inverse:\n",
      "File \u001b[0;32m~/.venvs/aem/lib/python3.11/site-packages/sympy/simplify/trigsimp.py:1159\u001b[0m, in \u001b[0;36mfutrig\u001b[0;34m(e, hyper, **kwargs)\u001b[0m\n\u001b[1;32m   1156\u001b[0m     \u001b[38;5;28;01mreturn\u001b[39;00m e\n\u001b[1;32m   1158\u001b[0m old \u001b[38;5;241m=\u001b[39m e\n\u001b[0;32m-> 1159\u001b[0m e \u001b[38;5;241m=\u001b[39m \u001b[43mbottom_up\u001b[49m\u001b[43m(\u001b[49m\u001b[43me\u001b[49m\u001b[43m,\u001b[49m\u001b[43m \u001b[49m\u001b[43m_futrig\u001b[49m\u001b[43m)\u001b[49m\n\u001b[1;32m   1161\u001b[0m \u001b[38;5;28;01mif\u001b[39;00m hyper \u001b[38;5;129;01mand\u001b[39;00m e\u001b[38;5;241m.\u001b[39mhas(HyperbolicFunction):\n\u001b[1;32m   1162\u001b[0m     e, f \u001b[38;5;241m=\u001b[39m hyper_as_trig(e)\n",
      "File \u001b[0;32m~/.venvs/aem/lib/python3.11/site-packages/sympy/core/traversal.py:230\u001b[0m, in \u001b[0;36mbottom_up\u001b[0;34m(rv, F, atoms, nonbasic)\u001b[0m\n\u001b[1;32m    228\u001b[0m \u001b[38;5;28;01mif\u001b[39;00m args \u001b[38;5;129;01mis\u001b[39;00m \u001b[38;5;129;01mnot\u001b[39;00m \u001b[38;5;28;01mNone\u001b[39;00m:\n\u001b[1;32m    229\u001b[0m     \u001b[38;5;28;01mif\u001b[39;00m args:\n\u001b[0;32m--> 230\u001b[0m         args \u001b[38;5;241m=\u001b[39m \u001b[38;5;28mtuple\u001b[39m(\u001b[43m[\u001b[49m\u001b[43mbottom_up\u001b[49m\u001b[43m(\u001b[49m\u001b[43ma\u001b[49m\u001b[43m,\u001b[49m\u001b[43m \u001b[49m\u001b[43mF\u001b[49m\u001b[43m,\u001b[49m\u001b[43m \u001b[49m\u001b[43matoms\u001b[49m\u001b[43m,\u001b[49m\u001b[43m \u001b[49m\u001b[43mnonbasic\u001b[49m\u001b[43m)\u001b[49m\u001b[43m \u001b[49m\u001b[38;5;28;43;01mfor\u001b[39;49;00m\u001b[43m \u001b[49m\u001b[43ma\u001b[49m\u001b[43m \u001b[49m\u001b[38;5;129;43;01min\u001b[39;49;00m\u001b[43m \u001b[49m\u001b[43margs\u001b[49m\u001b[43m]\u001b[49m)\n\u001b[1;32m    231\u001b[0m         \u001b[38;5;28;01mif\u001b[39;00m args \u001b[38;5;241m!=\u001b[39m rv\u001b[38;5;241m.\u001b[39margs:\n\u001b[1;32m    232\u001b[0m             rv \u001b[38;5;241m=\u001b[39m rv\u001b[38;5;241m.\u001b[39mfunc(\u001b[38;5;241m*\u001b[39margs)\n",
      "File \u001b[0;32m~/.venvs/aem/lib/python3.11/site-packages/sympy/core/traversal.py:230\u001b[0m, in \u001b[0;36m<listcomp>\u001b[0;34m(.0)\u001b[0m\n\u001b[1;32m    228\u001b[0m \u001b[38;5;28;01mif\u001b[39;00m args \u001b[38;5;129;01mis\u001b[39;00m \u001b[38;5;129;01mnot\u001b[39;00m \u001b[38;5;28;01mNone\u001b[39;00m:\n\u001b[1;32m    229\u001b[0m     \u001b[38;5;28;01mif\u001b[39;00m args:\n\u001b[0;32m--> 230\u001b[0m         args \u001b[38;5;241m=\u001b[39m \u001b[38;5;28mtuple\u001b[39m([\u001b[43mbottom_up\u001b[49m\u001b[43m(\u001b[49m\u001b[43ma\u001b[49m\u001b[43m,\u001b[49m\u001b[43m \u001b[49m\u001b[43mF\u001b[49m\u001b[43m,\u001b[49m\u001b[43m \u001b[49m\u001b[43matoms\u001b[49m\u001b[43m,\u001b[49m\u001b[43m \u001b[49m\u001b[43mnonbasic\u001b[49m\u001b[43m)\u001b[49m \u001b[38;5;28;01mfor\u001b[39;00m a \u001b[38;5;129;01min\u001b[39;00m args])\n\u001b[1;32m    231\u001b[0m         \u001b[38;5;28;01mif\u001b[39;00m args \u001b[38;5;241m!=\u001b[39m rv\u001b[38;5;241m.\u001b[39margs:\n\u001b[1;32m    232\u001b[0m             rv \u001b[38;5;241m=\u001b[39m rv\u001b[38;5;241m.\u001b[39mfunc(\u001b[38;5;241m*\u001b[39margs)\n",
      "File \u001b[0;32m~/.venvs/aem/lib/python3.11/site-packages/sympy/core/traversal.py:230\u001b[0m, in \u001b[0;36mbottom_up\u001b[0;34m(rv, F, atoms, nonbasic)\u001b[0m\n\u001b[1;32m    228\u001b[0m \u001b[38;5;28;01mif\u001b[39;00m args \u001b[38;5;129;01mis\u001b[39;00m \u001b[38;5;129;01mnot\u001b[39;00m \u001b[38;5;28;01mNone\u001b[39;00m:\n\u001b[1;32m    229\u001b[0m     \u001b[38;5;28;01mif\u001b[39;00m args:\n\u001b[0;32m--> 230\u001b[0m         args \u001b[38;5;241m=\u001b[39m \u001b[38;5;28mtuple\u001b[39m(\u001b[43m[\u001b[49m\u001b[43mbottom_up\u001b[49m\u001b[43m(\u001b[49m\u001b[43ma\u001b[49m\u001b[43m,\u001b[49m\u001b[43m \u001b[49m\u001b[43mF\u001b[49m\u001b[43m,\u001b[49m\u001b[43m \u001b[49m\u001b[43matoms\u001b[49m\u001b[43m,\u001b[49m\u001b[43m \u001b[49m\u001b[43mnonbasic\u001b[49m\u001b[43m)\u001b[49m\u001b[43m \u001b[49m\u001b[38;5;28;43;01mfor\u001b[39;49;00m\u001b[43m \u001b[49m\u001b[43ma\u001b[49m\u001b[43m \u001b[49m\u001b[38;5;129;43;01min\u001b[39;49;00m\u001b[43m \u001b[49m\u001b[43margs\u001b[49m\u001b[43m]\u001b[49m)\n\u001b[1;32m    231\u001b[0m         \u001b[38;5;28;01mif\u001b[39;00m args \u001b[38;5;241m!=\u001b[39m rv\u001b[38;5;241m.\u001b[39margs:\n\u001b[1;32m    232\u001b[0m             rv \u001b[38;5;241m=\u001b[39m rv\u001b[38;5;241m.\u001b[39mfunc(\u001b[38;5;241m*\u001b[39margs)\n",
      "File \u001b[0;32m~/.venvs/aem/lib/python3.11/site-packages/sympy/core/traversal.py:230\u001b[0m, in \u001b[0;36m<listcomp>\u001b[0;34m(.0)\u001b[0m\n\u001b[1;32m    228\u001b[0m \u001b[38;5;28;01mif\u001b[39;00m args \u001b[38;5;129;01mis\u001b[39;00m \u001b[38;5;129;01mnot\u001b[39;00m \u001b[38;5;28;01mNone\u001b[39;00m:\n\u001b[1;32m    229\u001b[0m     \u001b[38;5;28;01mif\u001b[39;00m args:\n\u001b[0;32m--> 230\u001b[0m         args \u001b[38;5;241m=\u001b[39m \u001b[38;5;28mtuple\u001b[39m([\u001b[43mbottom_up\u001b[49m\u001b[43m(\u001b[49m\u001b[43ma\u001b[49m\u001b[43m,\u001b[49m\u001b[43m \u001b[49m\u001b[43mF\u001b[49m\u001b[43m,\u001b[49m\u001b[43m \u001b[49m\u001b[43matoms\u001b[49m\u001b[43m,\u001b[49m\u001b[43m \u001b[49m\u001b[43mnonbasic\u001b[49m\u001b[43m)\u001b[49m \u001b[38;5;28;01mfor\u001b[39;00m a \u001b[38;5;129;01min\u001b[39;00m args])\n\u001b[1;32m    231\u001b[0m         \u001b[38;5;28;01mif\u001b[39;00m args \u001b[38;5;241m!=\u001b[39m rv\u001b[38;5;241m.\u001b[39margs:\n\u001b[1;32m    232\u001b[0m             rv \u001b[38;5;241m=\u001b[39m rv\u001b[38;5;241m.\u001b[39mfunc(\u001b[38;5;241m*\u001b[39margs)\n",
      "    \u001b[0;31m[... skipping similar frames: <listcomp> at line 230 (4 times), bottom_up at line 230 (4 times)]\u001b[0m\n",
      "File \u001b[0;32m~/.venvs/aem/lib/python3.11/site-packages/sympy/core/traversal.py:230\u001b[0m, in \u001b[0;36mbottom_up\u001b[0;34m(rv, F, atoms, nonbasic)\u001b[0m\n\u001b[1;32m    228\u001b[0m \u001b[38;5;28;01mif\u001b[39;00m args \u001b[38;5;129;01mis\u001b[39;00m \u001b[38;5;129;01mnot\u001b[39;00m \u001b[38;5;28;01mNone\u001b[39;00m:\n\u001b[1;32m    229\u001b[0m     \u001b[38;5;28;01mif\u001b[39;00m args:\n\u001b[0;32m--> 230\u001b[0m         args \u001b[38;5;241m=\u001b[39m \u001b[38;5;28mtuple\u001b[39m(\u001b[43m[\u001b[49m\u001b[43mbottom_up\u001b[49m\u001b[43m(\u001b[49m\u001b[43ma\u001b[49m\u001b[43m,\u001b[49m\u001b[43m \u001b[49m\u001b[43mF\u001b[49m\u001b[43m,\u001b[49m\u001b[43m \u001b[49m\u001b[43matoms\u001b[49m\u001b[43m,\u001b[49m\u001b[43m \u001b[49m\u001b[43mnonbasic\u001b[49m\u001b[43m)\u001b[49m\u001b[43m \u001b[49m\u001b[38;5;28;43;01mfor\u001b[39;49;00m\u001b[43m \u001b[49m\u001b[43ma\u001b[49m\u001b[43m \u001b[49m\u001b[38;5;129;43;01min\u001b[39;49;00m\u001b[43m \u001b[49m\u001b[43margs\u001b[49m\u001b[43m]\u001b[49m)\n\u001b[1;32m    231\u001b[0m         \u001b[38;5;28;01mif\u001b[39;00m args \u001b[38;5;241m!=\u001b[39m rv\u001b[38;5;241m.\u001b[39margs:\n\u001b[1;32m    232\u001b[0m             rv \u001b[38;5;241m=\u001b[39m rv\u001b[38;5;241m.\u001b[39mfunc(\u001b[38;5;241m*\u001b[39margs)\n",
      "File \u001b[0;32m~/.venvs/aem/lib/python3.11/site-packages/sympy/core/traversal.py:230\u001b[0m, in \u001b[0;36m<listcomp>\u001b[0;34m(.0)\u001b[0m\n\u001b[1;32m    228\u001b[0m \u001b[38;5;28;01mif\u001b[39;00m args \u001b[38;5;129;01mis\u001b[39;00m \u001b[38;5;129;01mnot\u001b[39;00m \u001b[38;5;28;01mNone\u001b[39;00m:\n\u001b[1;32m    229\u001b[0m     \u001b[38;5;28;01mif\u001b[39;00m args:\n\u001b[0;32m--> 230\u001b[0m         args \u001b[38;5;241m=\u001b[39m \u001b[38;5;28mtuple\u001b[39m([\u001b[43mbottom_up\u001b[49m\u001b[43m(\u001b[49m\u001b[43ma\u001b[49m\u001b[43m,\u001b[49m\u001b[43m \u001b[49m\u001b[43mF\u001b[49m\u001b[43m,\u001b[49m\u001b[43m \u001b[49m\u001b[43matoms\u001b[49m\u001b[43m,\u001b[49m\u001b[43m \u001b[49m\u001b[43mnonbasic\u001b[49m\u001b[43m)\u001b[49m \u001b[38;5;28;01mfor\u001b[39;00m a \u001b[38;5;129;01min\u001b[39;00m args])\n\u001b[1;32m    231\u001b[0m         \u001b[38;5;28;01mif\u001b[39;00m args \u001b[38;5;241m!=\u001b[39m rv\u001b[38;5;241m.\u001b[39margs:\n\u001b[1;32m    232\u001b[0m             rv \u001b[38;5;241m=\u001b[39m rv\u001b[38;5;241m.\u001b[39mfunc(\u001b[38;5;241m*\u001b[39margs)\n",
      "File \u001b[0;32m~/.venvs/aem/lib/python3.11/site-packages/sympy/core/traversal.py:233\u001b[0m, in \u001b[0;36mbottom_up\u001b[0;34m(rv, F, atoms, nonbasic)\u001b[0m\n\u001b[1;32m    231\u001b[0m     \u001b[38;5;28;01mif\u001b[39;00m args \u001b[38;5;241m!=\u001b[39m rv\u001b[38;5;241m.\u001b[39margs:\n\u001b[1;32m    232\u001b[0m         rv \u001b[38;5;241m=\u001b[39m rv\u001b[38;5;241m.\u001b[39mfunc(\u001b[38;5;241m*\u001b[39margs)\n\u001b[0;32m--> 233\u001b[0m     rv \u001b[38;5;241m=\u001b[39m \u001b[43mF\u001b[49m\u001b[43m(\u001b[49m\u001b[43mrv\u001b[49m\u001b[43m)\u001b[49m\n\u001b[1;32m    234\u001b[0m \u001b[38;5;28;01melif\u001b[39;00m atoms:\n\u001b[1;32m    235\u001b[0m     rv \u001b[38;5;241m=\u001b[39m F(rv)\n",
      "File \u001b[0;32m~/.venvs/aem/lib/python3.11/site-packages/sympy/simplify/trigsimp.py:1226\u001b[0m, in \u001b[0;36m_futrig\u001b[0;34m(e)\u001b[0m\n\u001b[1;32m   1187\u001b[0m trigs \u001b[38;5;241m=\u001b[39m \u001b[38;5;28;01mlambda\u001b[39;00m x: x\u001b[38;5;241m.\u001b[39mhas(TrigonometricFunction)\n\u001b[1;32m   1189\u001b[0m tree \u001b[38;5;241m=\u001b[39m [identity,\n\u001b[1;32m   1190\u001b[0m     (\n\u001b[1;32m   1191\u001b[0m     TR3,  \u001b[38;5;66;03m# canonical angles\u001b[39;00m\n\u001b[0;32m   (...)\u001b[0m\n\u001b[1;32m   1224\u001b[0m         factor_terms, TR12(x), trigs)],  \u001b[38;5;66;03m# expand tan of sum\u001b[39;00m\n\u001b[1;32m   1225\u001b[0m     )]\n\u001b[0;32m-> 1226\u001b[0m e \u001b[38;5;241m=\u001b[39m \u001b[43mgreedy\u001b[49m\u001b[43m(\u001b[49m\u001b[43mtree\u001b[49m\u001b[43m,\u001b[49m\u001b[43m \u001b[49m\u001b[43mobjective\u001b[49m\u001b[38;5;241;43m=\u001b[39;49m\u001b[43mLops\u001b[49m\u001b[43m)\u001b[49m\u001b[43m(\u001b[49m\u001b[43me\u001b[49m\u001b[43m)\u001b[49m\n\u001b[1;32m   1228\u001b[0m \u001b[38;5;28;01mif\u001b[39;00m coeff \u001b[38;5;129;01mis\u001b[39;00m \u001b[38;5;129;01mnot\u001b[39;00m \u001b[38;5;28;01mNone\u001b[39;00m:\n\u001b[1;32m   1229\u001b[0m     e \u001b[38;5;241m=\u001b[39m coeff \u001b[38;5;241m*\u001b[39m e\n",
      "File \u001b[0;32m~/.venvs/aem/lib/python3.11/site-packages/sympy/strategies/core.py:150\u001b[0m, in \u001b[0;36mminimize.<locals>.minrule\u001b[0;34m(expr)\u001b[0m\n\u001b[1;32m    149\u001b[0m \u001b[38;5;28;01mdef\u001b[39;00m \u001b[38;5;21mminrule\u001b[39m(expr: _S) \u001b[38;5;241m-\u001b[39m\u001b[38;5;241m>\u001b[39m _T:\n\u001b[0;32m--> 150\u001b[0m     \u001b[38;5;28;01mreturn\u001b[39;00m \u001b[38;5;28mmin\u001b[39m(\u001b[43m[\u001b[49m\u001b[43mrule\u001b[49m\u001b[43m(\u001b[49m\u001b[43mexpr\u001b[49m\u001b[43m)\u001b[49m\u001b[43m \u001b[49m\u001b[38;5;28;43;01mfor\u001b[39;49;00m\u001b[43m \u001b[49m\u001b[43mrule\u001b[49m\u001b[43m \u001b[49m\u001b[38;5;129;43;01min\u001b[39;49;00m\u001b[43m \u001b[49m\u001b[43mrules\u001b[49m\u001b[43m]\u001b[49m, key\u001b[38;5;241m=\u001b[39mobjective)\n",
      "File \u001b[0;32m~/.venvs/aem/lib/python3.11/site-packages/sympy/strategies/core.py:150\u001b[0m, in \u001b[0;36m<listcomp>\u001b[0;34m(.0)\u001b[0m\n\u001b[1;32m    149\u001b[0m \u001b[38;5;28;01mdef\u001b[39;00m \u001b[38;5;21mminrule\u001b[39m(expr: _S) \u001b[38;5;241m-\u001b[39m\u001b[38;5;241m>\u001b[39m _T:\n\u001b[0;32m--> 150\u001b[0m     \u001b[38;5;28;01mreturn\u001b[39;00m \u001b[38;5;28mmin\u001b[39m([\u001b[43mrule\u001b[49m\u001b[43m(\u001b[49m\u001b[43mexpr\u001b[49m\u001b[43m)\u001b[49m \u001b[38;5;28;01mfor\u001b[39;00m rule \u001b[38;5;129;01min\u001b[39;00m rules], key\u001b[38;5;241m=\u001b[39mobjective)\n",
      "File \u001b[0;32m~/.venvs/aem/lib/python3.11/site-packages/sympy/strategies/core.py:64\u001b[0m, in \u001b[0;36mchain.<locals>.chain_rl\u001b[0;34m(expr)\u001b[0m\n\u001b[1;32m     62\u001b[0m \u001b[38;5;28;01mdef\u001b[39;00m \u001b[38;5;21mchain_rl\u001b[39m(expr: _T) \u001b[38;5;241m-\u001b[39m\u001b[38;5;241m>\u001b[39m _T:\n\u001b[1;32m     63\u001b[0m     \u001b[38;5;28;01mfor\u001b[39;00m rule \u001b[38;5;129;01min\u001b[39;00m rules:\n\u001b[0;32m---> 64\u001b[0m         expr \u001b[38;5;241m=\u001b[39m \u001b[43mrule\u001b[49m\u001b[43m(\u001b[49m\u001b[43mexpr\u001b[49m\u001b[43m)\u001b[49m\n\u001b[1;32m     65\u001b[0m     \u001b[38;5;28;01mreturn\u001b[39;00m expr\n",
      "File \u001b[0;32m~/.venvs/aem/lib/python3.11/site-packages/sympy/strategies/core.py:150\u001b[0m, in \u001b[0;36mminimize.<locals>.minrule\u001b[0;34m(expr)\u001b[0m\n\u001b[1;32m    149\u001b[0m \u001b[38;5;28;01mdef\u001b[39;00m \u001b[38;5;21mminrule\u001b[39m(expr: _S) \u001b[38;5;241m-\u001b[39m\u001b[38;5;241m>\u001b[39m _T:\n\u001b[0;32m--> 150\u001b[0m     \u001b[38;5;28;01mreturn\u001b[39;00m \u001b[38;5;28;43mmin\u001b[39;49m\u001b[43m(\u001b[49m\u001b[43m[\u001b[49m\u001b[43mrule\u001b[49m\u001b[43m(\u001b[49m\u001b[43mexpr\u001b[49m\u001b[43m)\u001b[49m\u001b[43m \u001b[49m\u001b[38;5;28;43;01mfor\u001b[39;49;00m\u001b[43m \u001b[49m\u001b[43mrule\u001b[49m\u001b[43m \u001b[49m\u001b[38;5;129;43;01min\u001b[39;49;00m\u001b[43m \u001b[49m\u001b[43mrules\u001b[49m\u001b[43m]\u001b[49m\u001b[43m,\u001b[49m\u001b[43m \u001b[49m\u001b[43mkey\u001b[49m\u001b[38;5;241;43m=\u001b[39;49m\u001b[43mobjective\u001b[49m\u001b[43m)\u001b[49m\n",
      "File \u001b[0;32m~/.venvs/aem/lib/python3.11/site-packages/sympy/simplify/trigsimp.py:1186\u001b[0m, in \u001b[0;36m_futrig.<locals>.<lambda>\u001b[0;34m(x)\u001b[0m\n\u001b[1;32m   1183\u001b[0m \u001b[38;5;28;01melse\u001b[39;00m:\n\u001b[1;32m   1184\u001b[0m     coeff \u001b[38;5;241m=\u001b[39m \u001b[38;5;28;01mNone\u001b[39;00m\n\u001b[0;32m-> 1186\u001b[0m Lops \u001b[38;5;241m=\u001b[39m \u001b[38;5;28;01mlambda\u001b[39;00m x: (L(x), \u001b[43mx\u001b[49m\u001b[38;5;241;43m.\u001b[39;49m\u001b[43mcount_ops\u001b[49m\u001b[43m(\u001b[49m\u001b[43m)\u001b[49m, _nodes(x), \u001b[38;5;28mlen\u001b[39m(x\u001b[38;5;241m.\u001b[39margs), x\u001b[38;5;241m.\u001b[39mis_Add)\n\u001b[1;32m   1187\u001b[0m trigs \u001b[38;5;241m=\u001b[39m \u001b[38;5;28;01mlambda\u001b[39;00m x: x\u001b[38;5;241m.\u001b[39mhas(TrigonometricFunction)\n\u001b[1;32m   1189\u001b[0m tree \u001b[38;5;241m=\u001b[39m [identity,\n\u001b[1;32m   1190\u001b[0m     (\n\u001b[1;32m   1191\u001b[0m     TR3,  \u001b[38;5;66;03m# canonical angles\u001b[39;00m\n\u001b[0;32m   (...)\u001b[0m\n\u001b[1;32m   1224\u001b[0m         factor_terms, TR12(x), trigs)],  \u001b[38;5;66;03m# expand tan of sum\u001b[39;00m\n\u001b[1;32m   1225\u001b[0m     )]\n",
      "File \u001b[0;32m~/.venvs/aem/lib/python3.11/site-packages/sympy/core/expr.py:1266\u001b[0m, in \u001b[0;36mExpr.count_ops\u001b[0;34m(self, visual)\u001b[0m\n\u001b[1;32m   1264\u001b[0m \u001b[38;5;28;01mdef\u001b[39;00m \u001b[38;5;21mcount_ops\u001b[39m(\u001b[38;5;28mself\u001b[39m, visual\u001b[38;5;241m=\u001b[39m\u001b[38;5;28;01mNone\u001b[39;00m):\n\u001b[1;32m   1265\u001b[0m     \u001b[38;5;28;01mfrom\u001b[39;00m \u001b[38;5;21;01m.\u001b[39;00m\u001b[38;5;21;01mfunction\u001b[39;00m \u001b[38;5;28;01mimport\u001b[39;00m count_ops\n\u001b[0;32m-> 1266\u001b[0m     \u001b[38;5;28;01mreturn\u001b[39;00m \u001b[43mcount_ops\u001b[49m\u001b[43m(\u001b[49m\u001b[38;5;28;43mself\u001b[39;49m\u001b[43m,\u001b[49m\u001b[43m \u001b[49m\u001b[43mvisual\u001b[49m\u001b[43m)\u001b[49m\n",
      "File \u001b[0;32m~/.venvs/aem/lib/python3.11/site-packages/sympy/core/function.py:3242\u001b[0m, in \u001b[0;36mcount_ops\u001b[0;34m(expr, visual)\u001b[0m\n\u001b[1;32m   3240\u001b[0m     \u001b[38;5;28;01mcontinue\u001b[39;00m\n\u001b[1;32m   3241\u001b[0m \u001b[38;5;28;01mif\u001b[39;00m a\u001b[38;5;241m.\u001b[39mis_Mul \u001b[38;5;129;01mor\u001b[39;00m \u001b[38;5;28misinstance\u001b[39m(a, LatticeOp):\n\u001b[0;32m-> 3242\u001b[0m     o \u001b[38;5;241m=\u001b[39m \u001b[43mSymbol\u001b[49m\u001b[43m(\u001b[49m\u001b[43ma\u001b[49m\u001b[38;5;241;43m.\u001b[39;49m\u001b[43mfunc\u001b[49m\u001b[38;5;241;43m.\u001b[39;49m\u001b[38;5;18;43m__name__\u001b[39;49m\u001b[38;5;241;43m.\u001b[39;49m\u001b[43mupper\u001b[49m\u001b[43m(\u001b[49m\u001b[43m)\u001b[49m\u001b[43m)\u001b[49m\n\u001b[1;32m   3243\u001b[0m     \u001b[38;5;66;03m# count the args\u001b[39;00m\n\u001b[1;32m   3244\u001b[0m     ops\u001b[38;5;241m.\u001b[39mappend(o\u001b[38;5;241m*\u001b[39m(\u001b[38;5;28mlen\u001b[39m(a\u001b[38;5;241m.\u001b[39margs) \u001b[38;5;241m-\u001b[39m \u001b[38;5;241m1\u001b[39m))\n",
      "File \u001b[0;32m~/.venvs/aem/lib/python3.11/site-packages/sympy/core/symbol.py:330\u001b[0m, in \u001b[0;36mSymbol.__new__\u001b[0;34m(cls, name, **assumptions)\u001b[0m\n\u001b[1;32m    320\u001b[0m \u001b[38;5;250m\u001b[39m\u001b[38;5;124;03m\"\"\"Symbols are identified by name and assumptions::\u001b[39;00m\n\u001b[1;32m    321\u001b[0m \n\u001b[1;32m    322\u001b[0m \u001b[38;5;124;03m>>> from sympy import Symbol\u001b[39;00m\n\u001b[0;32m   (...)\u001b[0m\n\u001b[1;32m    327\u001b[0m \n\u001b[1;32m    328\u001b[0m \u001b[38;5;124;03m\"\"\"\u001b[39;00m\n\u001b[1;32m    329\u001b[0m \u001b[38;5;28mcls\u001b[39m\u001b[38;5;241m.\u001b[39m_sanitize(assumptions, \u001b[38;5;28mcls\u001b[39m)\n\u001b[0;32m--> 330\u001b[0m \u001b[38;5;28;01mreturn\u001b[39;00m \u001b[43mSymbol\u001b[49m\u001b[38;5;241;43m.\u001b[39;49m\u001b[43m__xnew_cached_\u001b[49m\u001b[43m(\u001b[49m\u001b[38;5;28;43mcls\u001b[39;49m\u001b[43m,\u001b[49m\u001b[43m \u001b[49m\u001b[43mname\u001b[49m\u001b[43m,\u001b[49m\u001b[43m \u001b[49m\u001b[38;5;241;43m*\u001b[39;49m\u001b[38;5;241;43m*\u001b[39;49m\u001b[43massumptions\u001b[49m\u001b[43m)\u001b[49m\n",
      "File \u001b[0;32m~/.venvs/aem/lib/python3.11/site-packages/sympy/core/cache.py:72\u001b[0m, in \u001b[0;36m__cacheit.<locals>.func_wrapper.<locals>.wrapper\u001b[0;34m(*args, **kwargs)\u001b[0m\n\u001b[1;32m     69\u001b[0m \u001b[38;5;129m@wraps\u001b[39m(func)\n\u001b[1;32m     70\u001b[0m \u001b[38;5;28;01mdef\u001b[39;00m \u001b[38;5;21mwrapper\u001b[39m(\u001b[38;5;241m*\u001b[39margs, \u001b[38;5;241m*\u001b[39m\u001b[38;5;241m*\u001b[39mkwargs):\n\u001b[1;32m     71\u001b[0m     \u001b[38;5;28;01mtry\u001b[39;00m:\n\u001b[0;32m---> 72\u001b[0m         retval \u001b[38;5;241m=\u001b[39m \u001b[43mcfunc\u001b[49m\u001b[43m(\u001b[49m\u001b[38;5;241;43m*\u001b[39;49m\u001b[43margs\u001b[49m\u001b[43m,\u001b[49m\u001b[43m \u001b[49m\u001b[38;5;241;43m*\u001b[39;49m\u001b[38;5;241;43m*\u001b[39;49m\u001b[43mkwargs\u001b[49m\u001b[43m)\u001b[49m\n\u001b[1;32m     73\u001b[0m     \u001b[38;5;28;01mexcept\u001b[39;00m \u001b[38;5;167;01mTypeError\u001b[39;00m \u001b[38;5;28;01mas\u001b[39;00m e:\n\u001b[1;32m     74\u001b[0m         \u001b[38;5;28;01mif\u001b[39;00m \u001b[38;5;129;01mnot\u001b[39;00m e\u001b[38;5;241m.\u001b[39margs \u001b[38;5;129;01mor\u001b[39;00m \u001b[38;5;129;01mnot\u001b[39;00m e\u001b[38;5;241m.\u001b[39margs[\u001b[38;5;241m0\u001b[39m]\u001b[38;5;241m.\u001b[39mstartswith(\u001b[38;5;124m'\u001b[39m\u001b[38;5;124munhashable type:\u001b[39m\u001b[38;5;124m'\u001b[39m):\n",
      "\u001b[0;31mKeyboardInterrupt\u001b[0m: "
     ]
    }
   ],
   "source": [
    "# Expand the solution to separate real and imaginary parts (if needed)\n",
    "real_solution = solution.rhs.expand(complex=True)  # Extract the right-hand side (RHS)\n",
    "\n",
    "# Take the series expansion around alpha -> 0 and beta -> 0 (small alpha and beta)\n",
    "approx_solution = real_solution.series(alpha, 0, 2).removeO().series(beta, 0, 2).removeO()\n",
    "\n",
    "# Create the final approximated solution as an equation\n",
    "approx_eq = sp.Eq(x, approx_solution)"
   ]
  },
  {
   "cell_type": "code",
   "execution_count": 36,
   "metadata": {},
   "outputs": [
    {
     "name": "stdout",
     "output_type": "stream",
     "text": [
      "   ____\n",
      "  ╱  2 \n",
      "╲╱  y  \n",
      "None\n",
      "None\n"
     ]
    }
   ],
   "source": [
    "from sympy import symbols, Q, assuming, ask\n",
    "\n",
    "# Create a symbol (no assumptions at creation)\n",
    "y = symbols('y')\n",
    "\n",
    "# Assume y is positive\n",
    "assuming(Q.positive(y))\n",
    "\n",
    "# Simplify an expression under the assumption that y is positive\n",
    "expr = sp.sqrt(y**2)\n",
    "\n",
    "# Simplify based on the assumption (automatic)\n",
    "sp.pprint(sp.simplify(expr))\n",
    "\n",
    "# Ask SymPy about the assumptions for y\n",
    "print(ask(Q.positive(y)))  # True\n",
    "print(ask(Q.negative(y)))  # False\n"
   ]
  },
  {
   "cell_type": "code",
   "execution_count": 100,
   "metadata": {},
   "outputs": [
    {
     "name": "stdout",
     "output_type": "stream",
     "text": [
      "-alpha/2 - beta/2 - I*sin(atan2(0, alpha**2 - 2*alpha*beta + beta**2 - 4)/2)*Abs(sqrt(-alpha + beta + 2)*sqrt(alpha - beta + 2))/2 - cos(atan2(0, alpha**2 - 2*alpha*beta + beta**2 - 4)/2)*Abs(sqrt(-alpha + beta + 2)*sqrt(alpha - beta + 2))/2\n",
      "(alpha - beta - 2)*(alpha - beta + 2)\n"
     ]
    }
   ],
   "source": [
    "import sympy as sp\n",
    "from sympy.assumptions import assuming, Q\n",
    "\n",
    "# Define symbols\n",
    "alpha, beta = sp.symbols('alpha beta', real=True)\n",
    "\n",
    "# Example expression for testing (char_roots[1])\n",
    "char_roots = [None, -alpha/2 - beta/2 - sp.sqrt(-(-alpha + beta + 2)*(alpha - beta + 2))/2]\n",
    "\n",
    "# Simplify the expression by expanding and simplifying with complex handling\n",
    "complex_root = char_roots[1].expand(complex=True)\n",
    "\n",
    "# Use 'assuming' to declare the part is negative and simplify accordingly\n",
    "with assuming(Q.negative(char_roots[1].args[2].args[1].args[0])):\n",
    "    simp_expr = sp.simplify(complex_root)\n",
    "\n",
    "# Display the simplified expression\n",
    "print(simp_expr)\n",
    "print(char_roots[1].args[2].args[1].args[0])\n"
   ]
  }
 ],
 "metadata": {
  "kernelspec": {
   "display_name": "aem",
   "language": "python",
   "name": "python3"
  },
  "language_info": {
   "codemirror_mode": {
    "name": "ipython",
    "version": 3
   },
   "file_extension": ".py",
   "mimetype": "text/x-python",
   "name": "python",
   "nbconvert_exporter": "python",
   "pygments_lexer": "ipython3",
   "version": "3.11.2"
  }
 },
 "nbformat": 4,
 "nbformat_minor": 2
}
