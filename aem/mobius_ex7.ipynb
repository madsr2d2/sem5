{
 "cells": [
  {
   "cell_type": "code",
   "execution_count": 702,
   "metadata": {},
   "outputs": [],
   "source": [
    "import sympy as sp"
   ]
  },
  {
   "cell_type": "code",
   "execution_count": 710,
   "metadata": {},
   "outputs": [
    {
     "name": "stdout",
     "output_type": "stream",
     "text": [
      "Sum(exp(n/4), (n, 1, oo)) = oo => sum is convergent: False\n",
      "Sum(exp(3*n), (n, 1, oo)) = oo => sum is convergent: False\n",
      "Sum(exp(n), (n, 1, oo)) = oo => sum is convergent: False\n",
      "Sum(exp(-6*n), (n, 1, oo)) = exp(-6)/(1 - exp(-6)) => sum is convergent: True\n",
      "Sum(exp(-n), (n, 1, oo)) = exp(-1)/(1 - exp(-1)) => sum is convergent: True\n",
      "Sum(1, (n, 1, oo)) = oo => sum is convergent: False\n"
     ]
    }
   ],
   "source": [
    "# Q1.1\n",
    "\n",
    "import re\n",
    "\n",
    "\n",
    "x = sp.symbols('x')\n",
    "n = sp.symbols('n' , integer=True, positive=True)\n",
    "\n",
    "f= sp.exp(n*x)\n",
    "\n",
    "fs = sp.Sum(f, (n, 1, sp.oo))\n",
    "test_cases = [sp.Rational(1,4),3,1,-6,-1,0]\n",
    "for tc in test_cases:\n",
    "    fs_subs = fs.subs(x,tc)\n",
    "    print(f'{fs_subs} = {fs_subs.doit()} => sum is convergent: {fs_subs.is_convergent()}')\n"
   ]
  },
  {
   "cell_type": "code",
   "execution_count": 711,
   "metadata": {},
   "outputs": [
    {
     "data": {
      "text/latex": [
       "$\\displaystyle \\frac{1}{\\left(1 - e^{-35}\\right) e^{35}}$"
      ],
      "text/plain": [
       "exp(-35)/(1 - exp(-35))"
      ]
     },
     "execution_count": 711,
     "metadata": {},
     "output_type": "execute_result"
    }
   ],
   "source": [
    "# Q1.2\n",
    "tc = -35\n",
    "fs.subs(x,tc).doit()"
   ]
  },
  {
   "cell_type": "code",
   "execution_count": 712,
   "metadata": {},
   "outputs": [
    {
     "data": {
      "text/plain": [
       "[-8]"
      ]
     },
     "execution_count": 712,
     "metadata": {},
     "output_type": "execute_result"
    }
   ],
   "source": [
    "# Q1.3\n",
    "m = sp.symbols('m', integer=True, positive=True)\n",
    "x = sp.symbols('x', real=True)\n",
    "\n",
    "f = sp.exp(7*x)**n\n",
    "\n",
    "fs = sp.Sum(f, (n,3,  sp.oo))\n",
    "\n",
    "# change summation to go from 0 to infinity\n",
    "fs_shifted = fs.change_index(n, n-3)\n",
    "\n",
    "\n",
    "rhs =sp.exp(-168)/(1 - sp.exp(-56))\n",
    "# lhs.args[1].args[0]\n",
    "# rhs.args[1].args[0]\n",
    "C = fs_shifted.factor().doit().args[1]\n",
    "fs_shifted.factor().doit()\n",
    "lhs = C/(1 - f.subs(n,1))\n",
    "sp.solve(lhs.args[1].args[0] - rhs.args[1].args[0],x)"
   ]
  },
  {
   "cell_type": "code",
   "execution_count": 717,
   "metadata": {},
   "outputs": [
    {
     "name": "stdout",
     "output_type": "stream",
     "text": [
      "Radious of convergance: (-9 < x) & (x < 9)\n",
      "-9\n",
      "-(-9)**n*3**(1 - 2*n)*(n + 1)**5/((n + 1)**6 + 3)\n",
      "True\n",
      "True\n"
     ]
    }
   ],
   "source": [
    "# Q2.1\n",
    "from sympy import O\n",
    "\n",
    "\n",
    "f = (3*(n**5) * x**n) / ((n**6 + 3)*9**n)\n",
    "\n",
    "# Change limits of summation from 1 to infinity to 0 to infinity\n",
    "fs = sp.Sum(f.subs(n,n+1), (n, 0, sp.oo))\n",
    "\n",
    "# Do quotient test to find radius of convergence \n",
    "conv_radius = sp.solve(sp.Abs(fs.args[0].subs(n,n+1)/fs.args[0]).simplify().limit(n,sp.oo) < 1, x)\n",
    "print(f'Radious of convergance: {conv_radius}')\n",
    "# Test if the series converges at - radius of convergence\n",
    "low_bound = conv_radius.args[0].args[0]\n",
    "print(low_bound)\n",
    "\n",
    "# check if the series is oscillating with x = - radius of convergence\n",
    "print(fs.subs(x,low_bound).args[0].simplify()) # It is oscillating in this case so we need to find the non-oscillating part and do the libnitz test\n",
    "\n",
    "# from the print we find the oscillating part and substitute it with the non-oscillating part\n",
    "oscillating_part = (-9)**n  # This represents the alternating sign\n",
    "non_oscillating_part = fs.subs(x, low_bound).args[0].simplify().subs(oscillating_part, 9**n)\n",
    "\n",
    "# Libnitz test\n",
    "# 1. Check if the series is decreasing\n",
    "print(non_oscillating_part.limit(n,sp.oo) >= non_oscillating_part.subs(n,n+1).limit(n,sp.oo)) # The series is decreasing so we can use the libnitz test\n",
    "\n",
    "# 2. Check if the series converges to 0\n",
    "print(non_oscillating_part.limit(n,sp.oo) == 0) # The series converges to 0 so we can use the libnitz test\n",
    "\n",
    "# Thus the series converges at x = - radius of convergence"
   ]
  },
  {
   "cell_type": "code",
   "execution_count": 719,
   "metadata": {},
   "outputs": [
    {
     "name": "stdout",
     "output_type": "stream",
     "text": [
      "Radious of convergance: (-1 < x) & (x < 1)\n"
     ]
    },
    {
     "data": {
      "text/latex": [
       "$\\displaystyle \\begin{cases} \\frac{7 - 6 x}{\\left(x - 1\\right)^{2}} & \\text{for}\\: x > -1 \\wedge x < 1 \\\\\\sum_{n=0}^{\\infty} x^{n} \\left(n + 7\\right) & \\text{otherwise} \\end{cases}$"
      ],
      "text/plain": [
       "Piecewise(((7 - 6*x)/(x - 1)**2, (x > -1) & (x < 1)), (Sum(x**n*(n + 7), (n, 0, oo)), True))"
      ]
     },
     "execution_count": 719,
     "metadata": {},
     "output_type": "execute_result"
    }
   ],
   "source": [
    "# Q3.1\n",
    "\n",
    "expr = (n + 7)*x**n\n",
    "s = sp.Sum(expr, (n, 0, sp.oo))\n",
    "s\n",
    "conv_radius = sp.solve(sp.Abs(s.args[0].subs(n,n+1)/s.args[0]).simplify().limit(n,sp.oo) < 1, x)\n",
    "conv_radius.args[1].args[1]\n",
    "print(f'Radious of convergance: {conv_radius}')\n",
    "sp.refine(s, sp.Abs(x) < conv_radius.args[1].args[1]).doit().simplify()"
   ]
  },
  {
   "cell_type": "code",
   "execution_count": 720,
   "metadata": {},
   "outputs": [
    {
     "data": {
      "text/latex": [
       "$\\displaystyle \\begin{cases} \\frac{- x - 6 \\left(x - 1\\right) \\log{\\left(1 - x \\right)}}{x - 1} & \\text{for}\\: x > -1 \\wedge x < 1 \\\\x \\sum_{n=0}^{\\infty} \\frac{n x^{n}}{n + 1} - 7 \\log{\\left(1 - x \\right)} & \\text{for}\\: x \\geq -1 \\wedge x < 1 \\\\x \\sum_{n=0}^{\\infty} \\frac{x^{n} \\left(n + 7\\right)}{n + 1} & \\text{otherwise} \\end{cases}$"
      ],
      "text/plain": [
       "Piecewise(((-x - 6*(x - 1)*log(1 - x))/(x - 1), (x > -1) & (x < 1)), (x*Sum(n*x**n/(n + 1), (n, 0, oo)) - 7*log(1 - x), (x >= -1) & (x < 1)), (x*Sum(x**n*(n + 7)/(n + 1), (n, 0, oo)), True))"
      ]
     },
     "execution_count": 720,
     "metadata": {},
     "output_type": "execute_result"
    }
   ],
   "source": [
    "# Q3.2\n",
    "\n",
    "expr = ((n + 7)/(n+1))*x**(n+1)\n",
    "s = sp.Sum(expr, (n, 0, sp.oo))\n",
    "s\n",
    "conv_radius = sp.solve(sp.Abs(s.args[0].subs(n,n+1)/s.args[0]).simplify().limit(n,sp.oo) < 1, x)\n",
    "conv_radius.args[1].args[1]\n",
    "\n",
    "sp.refine(s, sp.Abs(x) < conv_radius.args[1].args[1]).doit().simplify()"
   ]
  },
  {
   "cell_type": "markdown",
   "metadata": {},
   "source": []
  }
 ],
 "metadata": {
  "kernelspec": {
   "display_name": "aem",
   "language": "python",
   "name": "python3"
  },
  "language_info": {
   "codemirror_mode": {
    "name": "ipython",
    "version": 3
   },
   "file_extension": ".py",
   "mimetype": "text/x-python",
   "name": "python",
   "nbconvert_exporter": "python",
   "pygments_lexer": "ipython3",
   "version": "3.11.2"
  }
 },
 "nbformat": 4,
 "nbformat_minor": 2
}
