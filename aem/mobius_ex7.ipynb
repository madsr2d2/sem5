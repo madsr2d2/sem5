{
 "cells": [
  {
   "cell_type": "code",
   "execution_count": 702,
   "metadata": {},
   "outputs": [],
   "source": [
    "import sympy as sp"
   ]
  },
  {
   "cell_type": "code",
   "execution_count": 703,
   "metadata": {},
   "outputs": [
    {
     "name": "stdout",
     "output_type": "stream",
     "text": [
      "Sum(exp(n/4), (n, 1, oo)) = oo => sum is convergent: False\n",
      "Sum(exp(3*n), (n, 1, oo)) = oo => sum is convergent: False\n",
      "Sum(exp(n), (n, 1, oo)) = oo => sum is convergent: False\n",
      "Sum(exp(-6*n), (n, 1, oo)) = exp(-6)/(1 - exp(-6)) => sum is convergent: True\n",
      "Sum(exp(-n), (n, 1, oo)) = exp(-1)/(1 - exp(-1)) => sum is convergent: True\n",
      "Sum(1, (n, 1, oo)) = oo => sum is convergent: False\n"
     ]
    }
   ],
   "source": [
    "# Q1.1\n",
    "\n",
    "import re\n",
    "\n",
    "\n",
    "x = sp.symbols('x')\n",
    "n = sp.symbols('n' , integer=True, positive=True)\n",
    "\n",
    "f= sp.exp(n*x)\n",
    "\n",
    "fs = sp.Sum(f, (n, 1, sp.oo))\n",
    "test_cases = [sp.Rational(1,4),3,1,-6,-1,0]\n",
    "for tc in test_cases:\n",
    "    fs_subs = fs.subs(x,tc)\n",
    "    print(f'{fs_subs} = {fs_subs.doit()} => sum is convergent: {fs_subs.is_convergent()}')\n"
   ]
  },
  {
   "cell_type": "code",
   "execution_count": 704,
   "metadata": {},
   "outputs": [
    {
     "data": {
      "text/latex": [
       "$\\displaystyle \\frac{1}{\\left(1 - e^{-26}\\right) e^{26}}$"
      ],
      "text/plain": [
       "exp(-26)/(1 - exp(-26))"
      ]
     },
     "execution_count": 704,
     "metadata": {},
     "output_type": "execute_result"
    }
   ],
   "source": [
    "# Q1.2\n",
    "tc = -26\n",
    "fs.subs(x,tc).doit()"
   ]
  },
  {
   "cell_type": "code",
   "execution_count": 705,
   "metadata": {},
   "outputs": [
    {
     "data": {
      "text/plain": [
       "[-78]"
      ]
     },
     "execution_count": 705,
     "metadata": {},
     "output_type": "execute_result"
    }
   ],
   "source": [
    "# Q1.3\n",
    "m = sp.symbols('m', integer=True, positive=True)\n",
    "x = sp.symbols('x', real=True)\n",
    "\n",
    "f = sp.exp(2*x)**n\n",
    "\n",
    "fs = sp.Sum(f, (n,2,  sp.oo))\n",
    "\n",
    "# change summation to go from 0 to infinity\n",
    "fs_shifted = fs.change_index(n, n-2)\n",
    "\n",
    "\n",
    "rhs =sp.exp(-312)/(1 - sp.exp(-78))\n",
    "# lhs.args[1].args[0]\n",
    "# rhs.args[1].args[0]\n",
    "C = fs_shifted.factor().doit().args[1]\n",
    "fs_shifted.factor().doit()\n",
    "lhs = C/(1 - f.subs(n,1))\n",
    "sp.solve(lhs.args[1].args[0] - rhs.args[1].args[0],x)"
   ]
  },
  {
   "cell_type": "code",
   "execution_count": 706,
   "metadata": {},
   "outputs": [
    {
     "name": "stdout",
     "output_type": "stream",
     "text": [
      "Radious of convergance: (-9 < x) & (x < 9)\n",
      "-4*(-1)**n*(n + 1)**5/((n + 1)**6 + 5)\n",
      "True\n",
      "False\n"
     ]
    }
   ],
   "source": [
    "# Q2.1\n",
    "from sympy import O\n",
    "\n",
    "\n",
    "f = (4*(n**5) * x**n) / ((n**6 + 5)*9**n)\n",
    "\n",
    "# Change limits of summation from 1 to infinity to 0 to infinity\n",
    "fs = sp.Sum(f.subs(n,n+1), (n, 0, sp.oo))\n",
    "\n",
    "# Do quotient test to find radius of convergence \n",
    "conv_radius = sp.solve(sp.Abs(fs.args[0].subs(n,n+1)/fs.args[0]).simplify().limit(n,sp.oo) < 1, x)\n",
    "print(f'Radious of convergance: {conv_radius}')\n",
    "# Test if the series converges at - radius of convergence\n",
    "low_bound = conv_radius.args[0].args[0]\n",
    "\n",
    "# check if the series is oscillating with x = - radius of convergence\n",
    "print(fs.subs(x,low_bound).args[0].simplify()) # It is oscillating in this case so we need to find the non-oscillating part and do the libnitz test\n",
    "\n",
    "# from the print we find the oscillating part and substitute it with the non-oscillating part\n",
    "oscillating_part = (-1)**n  # This represents the alternating sign\n",
    "non_oscillating_part = fs.subs(x, low_bound).args[0].simplify().subs(oscillating_part, 4**n)\n",
    "\n",
    "# Libnitz test\n",
    "# 1. Check if the series is decreasing\n",
    "print(non_oscillating_part.limit(n,sp.oo) >= non_oscillating_part.subs(n,n+1).limit(n,sp.oo)) # The series is decreasing so we can use the libnitz test\n",
    "\n",
    "# 2. Check if the series converges to 0\n",
    "print(non_oscillating_part.limit(n,sp.oo) == 0) # The series converges to 0 so we can use the libnitz test\n",
    "\n",
    "# Thus the series converges at x = - radius of convergence"
   ]
  },
  {
   "cell_type": "code",
   "execution_count": 707,
   "metadata": {},
   "outputs": [
    {
     "name": "stdout",
     "output_type": "stream",
     "text": [
      "Radious of convergance: (-1 < x) & (x < 1)\n"
     ]
    },
    {
     "data": {
      "text/latex": [
       "$\\displaystyle \\begin{cases} \\frac{6 - 5 x}{\\left(x - 1\\right)^{2}} & \\text{for}\\: x > -1 \\wedge x < 1 \\\\\\sum_{n=0}^{\\infty} x^{n} \\left(n + 6\\right) & \\text{otherwise} \\end{cases}$"
      ],
      "text/plain": [
       "Piecewise(((6 - 5*x)/(x - 1)**2, (x > -1) & (x < 1)), (Sum(x**n*(n + 6), (n, 0, oo)), True))"
      ]
     },
     "execution_count": 707,
     "metadata": {},
     "output_type": "execute_result"
    }
   ],
   "source": [
    "# Q3.1\n",
    "\n",
    "expr = (n + 6)*x**n\n",
    "s = sp.Sum(expr, (n, 0, sp.oo))\n",
    "s\n",
    "conv_radius = sp.solve(sp.Abs(s.args[0].subs(n,n+1)/s.args[0]).simplify().limit(n,sp.oo) < 1, x)\n",
    "conv_radius.args[1].args[1]\n",
    "print(f'Radious of convergance: {conv_radius}')\n",
    "sp.refine(s, sp.Abs(x) < conv_radius.args[1].args[1]).doit().simplify()"
   ]
  },
  {
   "cell_type": "code",
   "execution_count": null,
   "metadata": {},
   "outputs": [],
   "source": [
    "# Q3.2\n",
    "\n",
    "expr = ((n + 6)/(n+1))*x**(n+1)\n",
    "s = sp.Sum(expr, (n, 0, sp.oo))\n",
    "s\n",
    "conv_radius = sp.solve(sp.Abs(s.args[0].subs(n,n+1)/s.args[0]).simplify().limit(n,sp.oo) < 1, x)\n",
    "conv_radius.args[1].args[1]\n",
    "\n",
    "sp.refine(s, sp.Abs(x) < conv_radius.args[1].args[1]).doit().simplify()"
   ]
  }
 ],
 "metadata": {
  "kernelspec": {
   "display_name": "aem",
   "language": "python",
   "name": "python3"
  },
  "language_info": {
   "codemirror_mode": {
    "name": "ipython",
    "version": 3
   },
   "file_extension": ".py",
   "mimetype": "text/x-python",
   "name": "python",
   "nbconvert_exporter": "python",
   "pygments_lexer": "ipython3",
   "version": "3.11.2"
  }
 },
 "nbformat": 4,
 "nbformat_minor": 2
}
