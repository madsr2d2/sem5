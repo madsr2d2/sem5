{
 "cells": [
  {
   "cell_type": "code",
   "execution_count": 1,
   "metadata": {},
   "outputs": [
    {
     "data": {
      "text/latex": [
       "$\\displaystyle \\left[\\begin{matrix}c_{1} e^{t \\left(- \\frac{1}{2} + \\frac{\\sqrt{109}}{2}\\right)} + c_{2} e^{t \\left(- \\frac{\\sqrt{109}}{2} - \\frac{1}{2}\\right)}\\\\\\frac{c_{1} e^{t \\left(- \\frac{1}{2} + \\frac{\\sqrt{109}}{2}\\right)}}{\\frac{1}{18} + \\frac{\\sqrt{109}}{18}} + \\frac{c_{2} e^{t \\left(- \\frac{\\sqrt{109}}{2} - \\frac{1}{2}\\right)}}{\\frac{1}{18} - \\frac{\\sqrt{109}}{18}}\\end{matrix}\\right]$"
      ],
      "text/plain": [
       "Matrix([\n",
       "[                                            c1*exp(t*(-1/2 + sqrt(109)/2)) + c2*exp(t*(-sqrt(109)/2 - 1/2))],\n",
       "[c1*exp(t*(-1/2 + sqrt(109)/2))/(1/18 + sqrt(109)/18) + c2*exp(t*(-sqrt(109)/2 - 1/2))/(1/18 - sqrt(109)/18)]])"
      ]
     },
     "execution_count": 1,
     "metadata": {},
     "output_type": "execute_result"
    }
   ],
   "source": [
    "import sympy as sp\n",
    "from sympy import I, exp, ln\n",
    "\n",
    "# Define time variable\n",
    "t = sp.symbols('t', real=True)\n",
    "\n",
    "# Define the inhomogeneous term u(t)\n",
    "u = exp(4*t) * sp.Matrix([[3], [-5]])\n",
    "u = sp.Matrix([[0], [0], [0]])\n",
    "u = sp.Matrix([[0,0,0]]).transpose()\n",
    "#u = sp.Matrix([[2, -9]]).transpose()\n",
    "\n",
    "\n",
    "# Define matrix A\n",
    "A = sp.Matrix([[0, 1], [-8, -4]])\n",
    "# A = sp.Matrix([[0, 0, 1], [2, 0, -1],[-1, 0, 0]])\n",
    "# A = sp.Matrix([[1, 2], [2, 4]])\n",
    "A = sp.Matrix([[3, sp.Rational(5/2), sp.Rational(-5/2)], [10 , 3, -3],[0,0,0]])\n",
    "#A = sp.Matrix([[exp(3*t), 2*exp(2*t)], [0, exp(2*t)]]) \n",
    "\n",
    "def solve_system_of_first_order_differential_equations(A=None,u=None,x0=None,A_is_fundamental_matrix=False,unit_coor = None):\n",
    "    tau = sp.symbols('tau', real=True)\n",
    "\n",
    "\n",
    "\n",
    "    if not A_is_fundamental_matrix:\n",
    "        # Step 1: Compute the eigenvalue decomposition of A\n",
    "        P, D = A.diagonalize()\n",
    "\n",
    "        # set selected coordinate to 1\n",
    "        if not unit_coor==None:\n",
    "            for i in range(P.cols): \n",
    "                if P[unit_coor, i] != 0:  # Ensure the first element of the eigenvector is non-zero\n",
    "                    #    Normalize the vector by dividing the entire column\n",
    "                    P[:, i] = P[:, i] / P[unit_coor, i]\n",
    "        \n",
    "        # Step 2: Exponentiate the diagonal matrix D to get e^{Dt}\n",
    "        D_exp = sp.diag(*[exp(D[i, i] * t) for i in range(D.shape[0])])\n",
    "\n",
    "        # Step 3: Compute the fundamental matrix (e^{At}) as P * e^{Dt}\n",
    "        fundamental_matrix = P * D_exp\n",
    "\n",
    "\n",
    "    else:\n",
    "        fundamental_matrix = A\n",
    "\n",
    "\n",
    "    matrix_size = fundamental_matrix.shape[0]\n",
    "    \n",
    "    if u == None:\n",
    "            u = sp.zeros(matrix_size, 1)\n",
    "\n",
    "    if x0 == None:\n",
    "        constants = sp.symbols(f'c1:{matrix_size+1}')  # Create c1, c2, ..., cn dynamically\n",
    "        constant_vector = sp.Matrix(constants).reshape(matrix_size, 1)\n",
    "        x_homogeneous = fundamental_matrix * constant_vector\n",
    "    else:\n",
    "        x_homogeneous = fundamental_matrix*fundamental_matrix.inv().sub(t,0)*x0 \n",
    "\n",
    "    x_particular = fundamental_matrix*sp.integrate(fundamental_matrix.inv()*u, t)\n",
    "\n",
    "    x_general = x_homogeneous + x_particular\n",
    "\n",
    "\n",
    "\n",
    "    return x_general\n",
    "A = sp.Matrix([[0,3], [9 , -1]]) \n",
    "u= exp(4*t)*sp.Matrix([[3, -5]]).transpose()\n",
    "solve_system_of_first_order_differential_equations(A=A,u=None,unit_coor=0)"
   ]
  },
  {
   "cell_type": "code",
   "execution_count": 2,
   "metadata": {},
   "outputs": [
    {
     "name": "stdout",
     "output_type": "stream",
     "text": [
      "Homogeneous Solution 1:\n",
      "Matrix([[14*exp(3*t) - 8*exp(2*t)], [7*exp(3*t)]])\n",
      "\n",
      "\n",
      "Particular Solution:\n",
      "Matrix([[-25/6], [2/3]])\n"
     ]
    }
   ],
   "source": [
    "import sympy as sp\n",
    "from sympy import exp, I\n",
    "\n",
    "def solve_system_of_first_order_differential_equations(A=None, u=None, x0=None, A_is_fundamental_matrix=False, unit_coor=None, real=False):\n",
    "    t = sp.symbols('t', real=True)\n",
    "    tau = sp.symbols('tau', real=True)\n",
    "\n",
    "    if not A_is_fundamental_matrix:\n",
    "        # Step 1: Compute the eigenvalue decomposition of A\n",
    "        P, D = A.diagonalize()\n",
    "\n",
    "        # Set selected coordinate to 1\n",
    "        if unit_coor is not None:\n",
    "            for i in range(P.cols):\n",
    "                if P[unit_coor, i] != 0:  # Ensure the first element of the eigenvector is non-zero\n",
    "                    P[:, i] = P[:, i] / P[unit_coor, i]\n",
    "        \n",
    "        # Step 2: Exponentiate the diagonal matrix D to get e^{Dt}\n",
    "        D_exp = sp.diag(*[exp(D[i, i] * t) for i in range(D.shape[0])])\n",
    "\n",
    "        # Step 3: Compute the fundamental matrix (e^{At}) as P * e^{Dt}\n",
    "        fundamental_matrix = P * D_exp\n",
    "    else:\n",
    "        fundamental_matrix = A\n",
    "\n",
    "    matrix_size = fundamental_matrix.shape[0]\n",
    "\n",
    "    if u is None:\n",
    "        u = sp.zeros(matrix_size, 1)\n",
    "\n",
    "    # Step 4: Create the homogeneous and particular solutions\n",
    "    solution_vectors = []  # To hold individual homogeneous solution vectors\n",
    "\n",
    "    if x0 is None:\n",
    "        constants = sp.symbols(f'c1:{matrix_size+1}')  # Create c1, c2, ..., cn dynamically\n",
    "        constant_vector = sp.Matrix(constants).reshape(matrix_size, 1)\n",
    "        # Split homogeneous solution into individual vectors\n",
    "        for i in range(matrix_size):\n",
    "            # Multiply the i-th column of fundamental matrix with the constant\n",
    "            homogeneous_vector = constants[i] * fundamental_matrix[:, i]\n",
    "            collect_list = [exp(sp.Wild('w'))] + [const for const in constants] \n",
    "            homogeneous_vector.applyfunc(lambda elem: elem.collect( constants))\n",
    "            # homogeneous_vector.applyfunc(lambda elem: elem.simplify())\n",
    "            solution_vectors.append(homogeneous_vector)\n",
    "    else:\n",
    "        # Homogeneous solution when initial condition is given\n",
    "        x_homogeneous = fundamental_matrix * fundamental_matrix.inv().subs(t, 0) * x0\n",
    "        solution_vectors.append(x_homogeneous)  # Add homogeneous solution based on initial condition\n",
    "\n",
    "    # Step 5: Compute the particular solution\n",
    "    x_particular = fundamental_matrix * sp.integrate(fundamental_matrix.inv() * u, t)\n",
    "\n",
    "    return solution_vectors, x_particular  # Return individual homogeneous vectors and the particular solution\n",
    "\n",
    "# Example usage\n",
    "A = sp.Matrix([[0, 0, 1], [2, 0, -1], [-1, 0, 0]]) \n",
    "# A = sp.Matrix([[5,3], [9 , -1]]) \n",
    "#A = sp.Matrix([[1,2], [2 , 4]]) \n",
    "u = sp.Matrix([[7, -2]]).transpose()\n",
    "x0 = sp.Matrix([[6, 7]]).transpose()\n",
    "A = sp.Matrix([[exp(2*t),2*exp(3*t)], [0 , exp(3*t)]]) \n",
    "\n",
    "homogeneous_solutions, particular_solution = solve_system_of_first_order_differential_equations(A=A, u=u,x0=x0, A_is_fundamental_matrix=True,unit_coor=0, real=False)\n",
    "\n",
    "\n",
    "# Print the individual homogeneous solutions\n",
    "for i, sol in enumerate(homogeneous_solutions, 1):\n",
    "    print(f\"Homogeneous Solution {i}:\")\n",
    "    print(sol)\n",
    "    print()\n",
    "\n",
    "# Print the particular solution\n",
    "print(\"\\nParticular Solution:\")\n",
    "print(particular_solution)\n"
   ]
  },
  {
   "cell_type": "code",
   "execution_count": 3,
   "metadata": {},
   "outputs": [
    {
     "ename": "NameError",
     "evalue": "name 'tau' is not defined",
     "output_type": "error",
     "traceback": [
      "\u001b[0;31m---------------------------------------------------------------------------\u001b[0m",
      "\u001b[0;31mNameError\u001b[0m                                 Traceback (most recent call last)",
      "Cell \u001b[0;32mIn[3], line 11\u001b[0m\n\u001b[1;32m      6\u001b[0m x0 \u001b[38;5;241m=\u001b[39m sp\u001b[38;5;241m.\u001b[39mMatrix([[\u001b[38;5;241m5\u001b[39m, \u001b[38;5;241m6\u001b[39m]])\u001b[38;5;241m.\u001b[39mtranspose()\n\u001b[1;32m      9\u001b[0m x_h \u001b[38;5;241m=\u001b[39m fm\u001b[38;5;241m*\u001b[39mfm\u001b[38;5;241m.\u001b[39minv()\u001b[38;5;241m.\u001b[39msubs(t, \u001b[38;5;241m0\u001b[39m)\u001b[38;5;241m*\u001b[39mx0 \n\u001b[1;32m     10\u001b[0m x_p \u001b[38;5;241m=\u001b[39m sp\u001b[38;5;241m.\u001b[39mintegrate(\n\u001b[0;32m---> 11\u001b[0m     fm\u001b[38;5;241m.\u001b[39minv()\u001b[38;5;241m.\u001b[39msubs(t, \u001b[43mtau\u001b[49m) \u001b[38;5;241m*\u001b[39m u\u001b[38;5;241m.\u001b[39msubs(t, tau), (tau, \u001b[38;5;241m0\u001b[39m, t))\n\u001b[1;32m     13\u001b[0m x_t \u001b[38;5;241m=\u001b[39m x_h \u001b[38;5;241m+\u001b[39m x_p\n\u001b[1;32m     14\u001b[0m \u001b[38;5;28mprint\u001b[39m(x_t\u001b[38;5;241m.\u001b[39msimplify())\n",
      "\u001b[0;31mNameError\u001b[0m: name 'tau' is not defined"
     ]
    }
   ],
   "source": [
    "from re import X\n",
    "\n",
    "\n",
    "fm = sp.Matrix([[exp(3*t), 2*exp(2*t)], [0, exp(2*t)]]) \n",
    "u = sp.Matrix([[2, -9]]).transpose()\n",
    "x0 = sp.Matrix([[5, 6]]).transpose()\n",
    "\n",
    "\n",
    "x_h = fm*fm.inv().subs(t, 0)*x0 \n",
    "x_p = sp.integrate(\n",
    "    fm.inv().subs(t, tau) * u.subs(t, tau), (tau, 0, t))\n",
    "\n",
    "x_t = x_h + x_p\n",
    "print(x_t.simplify())\n"
   ]
  },
  {
   "cell_type": "code",
   "execution_count": 223,
   "metadata": {},
   "outputs": [
    {
     "data": {
      "text/plain": [
       "[(-1,\n",
       "  2,\n",
       "  [Matrix([\n",
       "   [-3],\n",
       "   [ 1]])])]"
      ]
     },
     "execution_count": 223,
     "metadata": {},
     "output_type": "execute_result"
    }
   ],
   "source": [
    "kkkM = sp.Matrix([[2, 9], [-1, -4]])\n",
    "M.eigenvects()"
   ]
  },
  {
   "cell_type": "code",
   "execution_count": 429,
   "metadata": {},
   "outputs": [
    {
     "name": "stdout",
     "output_type": "stream",
     "text": [
      "Eigenvalue: 1 - I\n",
      "Matrix([[1], [-I]])\n",
      "Eigenvalue: 1 + I\n",
      "Matrix([[1], [I]])\n"
     ]
    }
   ],
   "source": [
    "import sympy as sp\n",
    "\n",
    "# Define the matrix\n",
    "A = sp.Matrix([[1, 1], [-1, 1]])\n",
    "\n",
    "# Compute the eigenvalues and eigenvectors\n",
    "eigenvects = A.eigenvects()\n",
    "\n",
    "# Normalize the eigenvectors so that the first coordinate is 1\n",
    "normalized_eigenvects = []\n",
    "for eigenval, multiplicity, eigenvecs in eigenvects:\n",
    "    normalized_vecs = []\n",
    "    for eigenvec in eigenvecs:\n",
    "        if eigenvec[0] != 0:  # Check if the first coordinate is non-zero\n",
    "            eigenvec = eigenvec / eigenvec[0]  # Normalize so the first coordinate is 1\n",
    "        normalized_vecs.append(eigenvec)\n",
    "    normalized_eigenvects.append((eigenval, multiplicity, normalized_vecs))\n",
    "\n",
    "# Output the normalized eigenvectors\n",
    "for eigenval, multiplicity, eigenvecs in normalized_eigenvects:\n",
    "    print(f\"Eigenvalue: {eigenval}\")\n",
    "    for eigenvec in eigenvecs:\n",
    "        print(eigenvec)"
   ]
  },
  {
   "cell_type": "code",
   "execution_count": 260,
   "metadata": {},
   "outputs": [
    {
     "data": {
      "text/plain": [
       "[(0,\n",
       "  1,\n",
       "  [Matrix([\n",
       "   [-2],\n",
       "   [ 1]])]),\n",
       " (5,\n",
       "  1,\n",
       "  [Matrix([\n",
       "   [1/2],\n",
       "   [  1]])])]"
      ]
     },
     "execution_count": 260,
     "metadata": {},
     "output_type": "execute_result"
    }
   ],
   "source": [
    "A = sp.Matrix([[1, 2], [2, 4,]])\n",
    "A.eigenvects()\n",
    "\n"
   ]
  },
  {
   "cell_type": "code",
   "execution_count": 268,
   "metadata": {},
   "outputs": [
    {
     "data": {
      "text/latex": [
       "$\\displaystyle \\left[\\begin{matrix}- 2 c_{1} + c_{2} e^{5 t} - \\frac{4 t}{5} + \\left(- \\frac{t}{5} + \\frac{6}{25} - \\frac{6 e^{- 5 t}}{25}\\right) e^{5 t} - \\frac{6}{25} + \\frac{6 e^{- 5 t}}{25}\\\\c_{1} + 2 c_{2} e^{5 t} + \\frac{2 t}{5} + 2 \\left(- \\frac{t}{5} + \\frac{6}{25} - \\frac{6 e^{- 5 t}}{25}\\right) e^{5 t} + \\frac{3}{25} - \\frac{3 e^{- 5 t}}{25}\\end{matrix}\\right]$"
      ],
      "text/plain": [
       "Matrix([\n",
       "[ -2*c1 + c2*exp(5*t) - 4*t/5 + (-t/5 + 6/25 - 6*exp(-5*t)/25)*exp(5*t) - 6/25 + 6*exp(-5*t)/25],\n",
       "[c1 + 2*c2*exp(5*t) + 2*t/5 + 2*(-t/5 + 6/25 - 6*exp(-5*t)/25)*exp(5*t) + 3/25 - 3*exp(-5*t)/25]])"
      ]
     },
     "execution_count": 268,
     "metadata": {},
     "output_type": "execute_result"
    }
   ],
   "source": [
    "import sympy as sp\n",
    "from sympy import exp\n",
    "\n",
    "# Define time variable and integration variable\n",
    "t, tau = sp.symbols('t tau', real=True)\n",
    "\n",
    "# Define the inhomogeneous term u(tau)\n",
    "u_tau = exp(4 * tau) * sp.Matrix([[3], [-5]])  # Update this for the correct u(tau)\n",
    "u_tau = sp.Matrix([[0], [0], [0]])  # Replace with the actual inhomogeneous term\n",
    "u_tau = sp.Matrix([[1], [1]])\n",
    "\n",
    "# Define matrix A\n",
    "A = sp.Matrix([[1, 2], [2, 4]])\n",
    "\n",
    "# Step 1: Compute the eigenvalue decomposition of A\n",
    "P, D = A.diagonalize()\n",
    "\n",
    "# Step 2: Exponentiate the diagonal matrix D to get e^{Dt}\n",
    "D_exp = sp.diag(*[exp(D[i, i] * t) for i in range(D.shape[0])])\n",
    "\n",
    "# Step 3: Compute the fundamental matrix (e^{At}) as P * e^{Dt}\n",
    "fundamental_matrix = P * D_exp\n",
    "\n",
    "# Step 4: Compute the inverse of the fundamental matrix (e^{-At})\n",
    "inverse_fundamental_matrix = P * sp.diag(*[exp(-D[i, i] * tau) for i in range(D.shape[0])]) * P.inv()\n",
    "\n",
    "# Step 5: Compute the particular solution\n",
    "# y_p(t) = e^{At} * ∫ e^{-A*tau} * u(tau) d_tau (integrate from 0 to t)\n",
    "integral_term = sp.integrate(inverse_fundamental_matrix * u_tau, (tau, 0, t))\n",
    "y_particular = fundamental_matrix * integral_term\n",
    "\n",
    "# Step 6: Define the dynamically sized homogeneous solution\n",
    "matrix_size = fundamental_matrix.shape[0]\n",
    "\n",
    "# Create a dynamically sized constant vector with symbols c1, c2, ..., cn\n",
    "constants = sp.symbols(f'c1:{matrix_size+1}')  # Create c1, c2, ..., cn dynamically\n",
    "constant_vector = sp.Matrix(constants).reshape(matrix_size, 1)\n",
    "\n",
    "# y_h(t) = fundamental_matrix * constant_vector\n",
    "y_homogeneous = fundamental_matrix * constant_vector\n",
    "\n",
    "# Step 7: General solution (homogeneous + particular)\n",
    "y_general = y_homogeneous + y_particular\n",
    "\n",
    "# Output the particular solution and the general solution\n",
    "y_particular_simplified = y_particular.simplify()\n",
    "y_general_simplified = y_general.simplify()\n",
    "\n",
    "# Display results\n",
    "y_general\n"
   ]
  },
  {
   "cell_type": "code",
   "execution_count": 283,
   "metadata": {},
   "outputs": [
    {
     "data": {
      "text/latex": [
       "$\\displaystyle \\left[\\begin{matrix}- \\frac{t e^{5 t}}{5} - \\frac{4 t}{5} + \\frac{11 e^{5 t}}{25} + \\frac{8}{25} + \\frac{6 e^{- 5 t}}{25}\\\\- \\frac{2 t e^{5 t}}{5} + \\frac{2 t}{5} + \\frac{22 e^{5 t}}{25} - \\frac{19}{25} - \\frac{3 e^{- 5 t}}{25}\\end{matrix}\\right]$"
      ],
      "text/plain": [
       "Matrix([\n",
       "[   -t*exp(5*t)/5 - 4*t/5 + 11*exp(5*t)/25 + 8/25 + 6*exp(-5*t)/25],\n",
       "[-2*t*exp(5*t)/5 + 2*t/5 + 22*exp(5*t)/25 - 19/25 - 3*exp(-5*t)/25]])"
      ]
     },
     "execution_count": 283,
     "metadata": {},
     "output_type": "execute_result"
    }
   ],
   "source": [
    "import sympy as sp\n",
    "from sympy import exp\n",
    "\n",
    "# Define time variable\n",
    "t = sp.symbols('t', real=True)\n",
    "\n",
    "# Define the inhomogeneous term u(t)\n",
    "u = exp(4*t) * sp.Matrix([[3], [-5]])\n",
    "u = sp.Matrix([[1], [1]])  # You can set the actual u(t) as required\n",
    "\n",
    "# Define matrix A\n",
    "A = sp.Matrix([[1, 2], [2, 4]])\n",
    "\n",
    "# Step 1: Compute the eigenvalue decomposition of A\n",
    "P, D = A.diagonalize()\n",
    "\n",
    "# Step 2: Exponentiate the diagonal matrix D to get e^{Dt}\n",
    "D_exp = sp.diag(*[exp(D[i, i] * t) for i in range(D.shape[0])])\n",
    "\n",
    "# Step 3: Compute the fundamental matrix (e^{At}) as P * e^{Dt}\n",
    "fundamental_matrix = P * D_exp\n",
    "\n",
    "# Step 4: Compute the inverse of the fundamental matrix (e^{-At})\n",
    "inverse_fundamental_matrix = P * sp.diag(*[exp(-D[i, i] * t) for i in range(D.shape[0])]) * P.inv()\n",
    "\n",
    "# Step 5: Compute the particular solution\n",
    "# y_p(t) = e^{At} * ∫ e^{-A*tau} * u(tau) d_tau (integrate from 0 to t)\n",
    "tau = sp.symbols('tau', real=True)\n",
    "integral_term = sp.integrate(inverse_fundamental_matrix.subs(t, tau) * u.subs(t, tau), (tau, 0, t))\n",
    "y_particular = fundamental_matrix * integral_term\n",
    "\n",
    "# Step 6: Define the dynamically sized homogeneous solution\n",
    "matrix_size = fundamental_matrix.shape[0]\n",
    "\n",
    "# Create a dynamically sized constant vector with symbols c1, c2, ..., cn\n",
    "constants = sp.symbols(f'c1:{matrix_size+1}')  # Create c1, c2, ..., cn dynamically\n",
    "constant_vector = sp.Matrix(constants).reshape(matrix_size, 1)\n",
    "\n",
    "# y_h(t) = fundamental_matrix * constant_vector\n",
    "y_homogeneous = fundamental_matrix * constant_vector\n",
    "\n",
    "# Step 7: General solution (homogeneous + particular)\n",
    "y_general = y_homogeneous + y_particular\n",
    "\n",
    "# Step 8: Apply the initial condition x(0) = (1, 0)^T\n",
    "y_general_at_0 = y_general.subs(t, 0)\n",
    "\n",
    "# Initial condition vector\n",
    "x0 = sp.Matrix([[1], [0]])\n",
    "\n",
    "# Step 9: Solve for constants using the initial condition y(0) = x0\n",
    "constant_solutions = sp.solve(sp.Eq(y_general_at_0, x0), constants)\n",
    "\n",
    "# Step 10: Substitute the solved constants into the general solution\n",
    "y_particular_with_ic = y_general.subs(constant_solutions)\n",
    "\n",
    "# Output the final particular solution\n",
    "y_particular_simplified = y_particular_with_ic.simplify()\n",
    "\n",
    "# Display the simplified solution\n",
    "y_particular_simplified\n"
   ]
  },
  {
   "cell_type": "code",
   "execution_count": 285,
   "metadata": {},
   "outputs": [
    {
     "data": {
      "text/latex": [
       "$\\displaystyle \\left[\\begin{matrix}- \\frac{t e^{5 t}}{5} - \\frac{4 t}{5} + \\frac{11 e^{5 t}}{25} + \\frac{8}{25} + \\frac{6 e^{- 5 t}}{25}\\\\- \\frac{2 t e^{5 t}}{5} + \\frac{2 t}{5} + \\frac{22 e^{5 t}}{25} - \\frac{19}{25} - \\frac{3 e^{- 5 t}}{25}\\end{matrix}\\right]$"
      ],
      "text/plain": [
       "Matrix([\n",
       "[   -t*exp(5*t)/5 - 4*t/5 + 11*exp(5*t)/25 + 8/25 + 6*exp(-5*t)/25],\n",
       "[-2*t*exp(5*t)/5 + 2*t/5 + 22*exp(5*t)/25 - 19/25 - 3*exp(-5*t)/25]])"
      ]
     },
     "execution_count": 285,
     "metadata": {},
     "output_type": "execute_result"
    }
   ],
   "source": [
    "import sympy as sp\n",
    "from sympy import exp\n",
    "\n",
    "# Define time variable\n",
    "t = sp.symbols('t', real=True)\n",
    "\n",
    "# Define the inhomogeneous term u(t)\n",
    "u = exp(4*t) * sp.Matrix([[3], [-5]])\n",
    "u = sp.Matrix([[1], [1]])  # You can set the actual u(t) as required\n",
    "\n",
    "# Define matrix A\n",
    "A = sp.Matrix([[1, 2], [2, 4]])\n",
    "\n",
    "# Step 1: Compute the eigenvalue decomposition of A\n",
    "P, D = A.diagonalize()\n",
    "\n",
    "# Step 2: Exponentiate the diagonal matrix D to get e^{Dt}\n",
    "D_exp = sp.diag(*[exp(D[i, i] * t) for i in range(D.shape[0])])\n",
    "\n",
    "# Step 3: Compute the fundamental matrix (e^{At}) as P * e^{Dt}\n",
    "fundamental_matrix = P * D_exp\n",
    "\n",
    "# Step 4: Compute the inverse of the fundamental matrix (e^{-At})\n",
    "inverse_fundamental_matrix = P * sp.diag(*[exp(-D[i, i] * t) for i in range(D.shape[0])]) * P.inv()\n",
    "\n",
    "# Step 5: Compute the particular solution\n",
    "# y_p(t) = e^{At} * ∫ e^{-A*tau} * u(tau) d_tau (integrate from 0 to t)\n",
    "tau = sp.symbols('tau', real=True)\n",
    "integral_term = sp.integrate(inverse_fundamental_matrix.subs(t, tau) * u.subs(t, tau), (tau, 0, t))\n",
    "y_particular = fundamental_matrix * integral_term\n",
    "\n",
    "# Step 6: Define the dynamically sized homogeneous solution\n",
    "matrix_size = fundamental_matrix.shape[0]\n",
    "\n",
    "# Create a dynamically sized constant vector with symbols c1, c2, ..., cn\n",
    "constants = sp.symbols(f'c1:{matrix_size+1}')  # Create c1, c2, ..., cn dynamically\n",
    "constant_vector = sp.Matrix(constants).reshape(matrix_size, 1)\n",
    "\n",
    "# y_h(t) = fundamental_matrix * constant_vector\n",
    "y_homogeneous = fundamental_matrix * constant_vector\n",
    "\n",
    "# Step 7: General solution (homogeneous + particular)\n",
    "y_general = y_homogeneous + y_particular\n",
    "\n",
    "# Step 8: Apply the initial condition x(0) = (1, 0)^T\n",
    "y_general_at_0 = y_general.subs(t, 0)\n",
    "\n",
    "# Initial condition vector\n",
    "x0 = sp.Matrix([[1], [0]])\n",
    "\n",
    "# Step 9: Solve for constants using the initial condition y(0) = x0\n",
    "constant_solutions = sp.solve(sp.Eq(y_general_at_0, x0), constants)\n",
    "\n",
    "# Step 10: Substitute the solved constants into the general solution\n",
    "y_particular_with_ic = y_general.subs(constant_solutions)\n",
    "\n",
    "# Output the final particular solution\n",
    "y_particular_simplified = y_particular_with_ic.simplify()\n",
    "\n",
    "# Display the simplified solution\n",
    "y_particular_simplified\n"
   ]
  },
  {
   "cell_type": "code",
   "execution_count": 404,
   "metadata": {},
   "outputs": [
    {
     "name": "stdout",
     "output_type": "stream",
     "text": [
      "Matrix([[-7*exp(3*t) + 12*exp(2*t) + 20/3 - 20*exp(-3*t)/3], [6*exp(2*t) - 9/2 + 9*exp(-2*t)/2]])\n"
     ]
    }
   ],
   "source": [
    "from re import X\n",
    "\n",
    "\n",
    "fm = sp.Matrix([[exp(3*t), 2*exp(2*t)], [0, exp(2*t)]]) \n",
    "u = sp.Matrix([[2, -9]]).transpose()\n",
    "x0 = sp.Matrix([[5, 6]]).transpose()\n",
    "\n",
    "\n",
    "x_h = fm*fm.inv().subs(t, 0)*x0 \n",
    "x_p = sp.integrate(\n",
    "    fm.inv().subs(t, tau) * u.subs(t, tau), (tau, 0, t))\n",
    "\n",
    "x_t = x_h + x_p\n",
    "print(x_t.simplify())\n"
   ]
  },
  {
   "cell_type": "code",
   "execution_count": 60,
   "metadata": {},
   "outputs": [
    {
     "name": "stdout",
     "output_type": "stream",
     "text": [
      "Matrix([[2/(s**2 + 2*s + 2)]])\n",
      "Matrix([[-14/85]])\n",
      "Matrix([[-12/85]])\n"
     ]
    }
   ],
   "source": [
    "\n",
    "from math import e\n",
    "\n",
    "from sympy.functions.elementary import exponential\n",
    "\n",
    "#\n",
    "s = sp.symbols('s')\n",
    "t = sp.symbols('t', real=True)\n",
    "n = 3\n",
    "\n",
    "A = sp.Matrix([[0,1],[-2,-2]])\n",
    "b = sp.Matrix([[0,2]]).transpose()\n",
    "d = sp.Matrix([[1,0]])\n",
    "H = -d*(A-s*sp.eye(2)).inv()*b\n",
    "print(H)\n",
    "print(sp.re(H.subs(s, n*I)))\n",
    "print(sp.im(H.subs(s, n*I)))\n",
    "\n",
    "\n",
    "\n",
    "\n",
    "\n",
    "\n"
   ]
  }
 ],
 "metadata": {
  "kernelspec": {
   "display_name": "aem",
   "language": "python",
   "name": "python3"
  },
  "language_info": {
   "codemirror_mode": {
    "name": "ipython",
    "version": 3
   },
   "file_extension": ".py",
   "mimetype": "text/x-python",
   "name": "python",
   "nbconvert_exporter": "python",
   "pygments_lexer": "ipython3",
   "version": "3.11.2"
  }
 },
 "nbformat": 4,
 "nbformat_minor": 2
}
