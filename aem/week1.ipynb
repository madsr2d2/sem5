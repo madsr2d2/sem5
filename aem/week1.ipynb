{
 "cells": [
  {
   "cell_type": "markdown",
   "id": "4c3400e6",
   "metadata": {},
   "source": [
    "# Week 1, advanced engineering math"
   ]
  },
  {
   "cell_type": "code",
   "execution_count": 1,
   "id": "f2ef4370",
   "metadata": {},
   "outputs": [],
   "source": [
    "import sympy as sp"
   ]
  },
  {
   "cell_type": "code",
   "execution_count": null,
   "id": "2e68175d",
   "metadata": {},
   "outputs": [],
   "source": [
    "s = sp.symbols('s')\n",
    "t = sp.symbols('t', real=True)"
   ]
  },
  {
   "cell_type": "markdown",
   "id": "9784a976",
   "metadata": {},
   "source": [
    "## 320"
   ]
  },
  {
   "cell_type": "code",
   "execution_count": 3,
   "id": "5f9dbff2",
   "metadata": {},
   "outputs": [
    {
     "data": {
      "text/latex": [
       "$\\displaystyle \\frac{s + 3}{s^{4} + 6 s^{2} + 25}$"
      ],
      "text/plain": [
       "(s + 3)/(s**4 + 6*s**2 + 25)"
      ]
     },
     "execution_count": 3,
     "metadata": {},
     "output_type": "execute_result"
    }
   ],
   "source": [
    "# i\n",
    "H_s = (s + 3) / (s**4 + 6*s**2 + 25)\n",
    "H_s"
   ]
  },
  {
   "cell_type": "code",
   "execution_count": 4,
   "id": "0c6ea0d4",
   "metadata": {},
   "outputs": [
    {
     "data": {
      "text/latex": [
       "$\\displaystyle \\frac{e^{- t}}{16}$"
      ],
      "text/plain": [
       "exp(-t)/16"
      ]
     },
     "execution_count": 4,
     "metadata": {},
     "output_type": "execute_result"
    }
   ],
   "source": [
    "# ii\n",
    "H_s.subs(s, -1)*sp.exp(-t)"
   ]
  },
  {
   "cell_type": "code",
   "execution_count": 5,
   "id": "88fb0c5f",
   "metadata": {},
   "outputs": [
    {
     "data": {
      "text/latex": [
       "$\\displaystyle \\frac{32}{195} - \\frac{3 i}{65}$"
      ],
      "text/plain": [
       "32/195 - 3*I/65"
      ]
     },
     "execution_count": 5,
     "metadata": {},
     "output_type": "execute_result"
    }
   ],
   "source": [
    "# iii\n",
    "\n",
    "H_s.subs(s,(sp.I + 1)).simplify()\n",
    " "
   ]
  }
 ],
 "metadata": {
  "kernelspec": {
   "display_name": "aem",
   "language": "python",
   "name": "python3"
  },
  "language_info": {
   "codemirror_mode": {
    "name": "ipython",
    "version": 3
   },
   "file_extension": ".py",
   "mimetype": "text/x-python",
   "name": "python",
   "nbconvert_exporter": "python",
   "pygments_lexer": "ipython3",
   "version": "3.11.2"
  }
 },
 "nbformat": 4,
 "nbformat_minor": 5
}
