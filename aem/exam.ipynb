{
 "cells": [
  {
   "cell_type": "code",
   "execution_count": 274,
   "id": "15e20d2b",
   "metadata": {},
   "outputs": [],
   "source": [
    "import sympy as sp\n",
    "from IPython.display import Math"
   ]
  },
  {
   "cell_type": "markdown",
   "id": "223aef77",
   "metadata": {},
   "source": [
    "# Utility functions"
   ]
  },
  {
   "cell_type": "code",
   "execution_count": 275,
   "id": "e8d52a57",
   "metadata": {},
   "outputs": [],
   "source": [
    "def scale_to_clear_fractions(vec):\n",
    "    \"\"\"Scales vector to eliminate fractions (rational denominators).\"\"\"\n",
    "    denominators = [term.as_numer_denom()[1] for term in vec]\n",
    "    lcm = sp.lcm(denominators)\n",
    "    return sp.simplify(lcm * vec)\n"
   ]
  },
  {
   "cell_type": "code",
   "execution_count": 276,
   "id": "a6320666",
   "metadata": {},
   "outputs": [],
   "source": [
    "def display_general_solution_factored(x_t, domain='real', x_symbol='x', symbol_index=None):\n",
    "    \"\"\"\n",
    "    Display the general solution of a linear system of ODEs,\n",
    "    factoring it as a sum of constants times vector expressions,\n",
    "    and separating out any inhomogeneous term.\n",
    "\n",
    "    Parameters:\n",
    "        x_t         : SymPy column vector (Matrix with shape n×1)\n",
    "        domain      : 'real', 'complex', or None — declares the domain of the constants\n",
    "        x_symbol    : solution symbol, e.g., 'x'\n",
    "        symbol_index: optional subscript index, e.g., 1 to produce x₁(t)\n",
    "    \"\"\"\n",
    "    if not isinstance(x_t, sp.MatrixBase) or x_t.shape[1] != 1:\n",
    "        raise TypeError(\"x_t must be a SymPy column vector (n×1 Matrix)\")\n",
    "\n",
    "    t = sp.Symbol('t', real=True)\n",
    "    expr = x_t.expand()\n",
    "\n",
    "    # Identify free variables that look like constants (e.g., c1, c2, ...)\n",
    "    all_syms = expr.free_symbols\n",
    "    ci_syms = sorted([s for s in all_syms if s.name.startswith('c') and s != t], key=lambda s: s.name)\n",
    "\n",
    "    terms = []\n",
    "    constants = set()\n",
    "    remaining = expr.copy()\n",
    "\n",
    "    for ci in ci_syms:\n",
    "        # Extract the coefficient vector of ci\n",
    "        vi = expr.applyfunc(lambda entry: sp.collect(entry, ci).coeff(ci))\n",
    "        if vi != sp.zeros(*x_t.shape):\n",
    "            terms.append(f\"{sp.latex(ci)} {sp.latex(vi)}\")\n",
    "            constants.add(ci)\n",
    "            # Subtract this term from remaining to isolate the inhomogeneous part\n",
    "            remaining -= ci * vi\n",
    "\n",
    "    # Check if any part remains (i.e., particular solution)\n",
    "    if not remaining.equals(sp.zeros(*x_t.shape)):\n",
    "        terms.append(sp.latex(remaining))\n",
    "\n",
    "    # Format display\n",
    "    prefix = f\"{x_symbol}_{{{symbol_index}}}(t)\" if symbol_index is not None else f\"{x_symbol}(t)\"\n",
    "    latex_expr = prefix + \" = \" + \" + \".join(terms)\n",
    "\n",
    "    if domain is not None and constants:\n",
    "        constant_list = \", \".join(sp.latex(c) for c in sorted(constants, key=lambda s: s.name))\n",
    "        number_set = r\"\\mathbb{R}\" if domain == 'real' else r\"\\mathbb{C}\"\n",
    "        latex_expr += rf\", \\quad \\text{{where }} {constant_list} \\in {number_set}\"\n",
    "\n",
    "    display(Math(latex_expr))\n"
   ]
  },
  {
   "cell_type": "markdown",
   "id": "a2b363ed",
   "metadata": {},
   "source": [
    "# Systems of 1st order differential equations"
   ]
  },
  {
   "cell_type": "markdown",
   "id": "6efd5f42",
   "metadata": {},
   "source": [
    "## Homogenous system"
   ]
  },
  {
   "cell_type": "code",
   "execution_count": 278,
   "id": "8060f759",
   "metadata": {},
   "outputs": [],
   "source": [
    "def construct_fundamental_matrix(A, tau_vals=None, verbose=True):\n",
    "    \"\"\"\n",
    "    Construct the fundamental matrix solution Φ(t) to the system x'(t) = A x(t),\n",
    "    using:\n",
    "      - Theorem 2.7(a) for simple real eigenvalues\n",
    "      - Theorem 2.7(b) for simple complex eigenvalues\n",
    "      - Theorem 2.11 (special case) for eigenvalues with algebraic multiplicity 2 and geometric multiplicity 1\n",
    "    \"\"\"\n",
    "    t = sp.symbols('t', real=True)\n",
    "    I_n = sp.eye(A.shape[0])\n",
    "    cols = []\n",
    "    if verbose:\n",
    "        display(Math(r\"\\text{Constructing fundamental matrix } \\Phi(t) \\text{ for the system } x'(t) = A x(t)\"))\n",
    "        display(Math(r\"A = \" + sp.latex(A)))\n",
    "        char_poly = A.charpoly()\n",
    "        display(Math(r\"\\text{Characteristic polynomial: } \" + sp.latex(char_poly)))\n",
    "        display(Math(r\"\\text{Characteristic polynomial factored: } \" + sp.latex(char_poly.as_expr().factor())))\n",
    "\n",
    "    if verbose:\n",
    "      print(\"Iterating over eigenvalues and eigenvectors:\")\n",
    "    for eigenvalue, algebraic_mult, eigenvectors in A.eigenvects():\n",
    "        geometric_mult = len(eigenvectors)\n",
    "\n",
    "        if eigenvalue.is_real:\n",
    "            if algebraic_mult == 1:\n",
    "                # Theorem 2.7(a)\n",
    "                v = eigenvectors[0]\n",
    "                if verbose:\n",
    "                    print(f\"Eigenvalue = {eigenvalue}. Eigenvector = {v}. Algebraic multiplicity = 1. Geometric multiplicity = 1. Using Theorem 2.7(a)\")\n",
    "                cols.append(sp.exp(eigenvalue * t) * v)\n",
    "\n",
    "            elif algebraic_mult == 2 and geometric_mult == 1:\n",
    "                # Theorem 2.11(a)\n",
    "                if verbose:\n",
    "                    print(f\"Eigenvalue = {eigenvalue}. Eigenvector = {eigenvectors[0]}. Algebraic multiplicity = 2. Geometric multiplicity = 1. Using Theorem 2.11(a)\")\n",
    "\n",
    "                b11 = eigenvectors[0]\n",
    "                J = A - eigenvalue * I_n\n",
    "                b21, tau = J.gauss_jordan_solve(b11)\n",
    "\n",
    "                # Set all free parameters\n",
    "                if tau_vals is not None:\n",
    "                    b21 = b21.subs({s: tau_vals for s in tau.free_symbols})\n",
    "\n",
    "                x1 = sp.exp(eigenvalue * t) * b21\n",
    "                x2 = sp.exp(eigenvalue * t) * (b21 + t * b11)\n",
    "\n",
    "                if verbose:\n",
    "                  display(Math(r\"J = A - \\lambda I = \" + sp.latex(J)))\n",
    "                  \n",
    "                  # Display solutions\n",
    "                  display(Math(fr\"b_{{11}} = {sp.latex(b11)}\"))\n",
    "\n",
    "                  display(Math(r\"\\text{find } b_{ 21 } \\text{ by solving } J b_{ 21 } = b_{22} \\text{ for } b_{ 22 } = b_{ 11 }\"))\n",
    "                  display(Math(fr\"b_{{21}} = {sp.latex(b21)}\"))\n",
    "                  display(Math(fr\"b_{{22}} = {sp.latex(b11)}\"))\n",
    "                  display(Math(fr\"x_{{1}} = {sp.latex(x1)}\"))\n",
    "                  display(Math(fr\"x_{{2}} = {sp.latex(x2)}\"))\n",
    "\n",
    "                cols.extend([x1, x2])\n",
    "\n",
    "        else:\n",
    "            if sp.im(eigenvalue) < 0:\n",
    "                continue  # Skip complex conjugate\n",
    "\n",
    "            v = eigenvectors[0]\n",
    "            J = A - eigenvalue * I_n\n",
    "\n",
    "            if algebraic_mult == 1:\n",
    "                # Theorem 2.7(b)\n",
    "                complex_sol = sp.exp(eigenvalue * t) * v\n",
    "                x1 = sp.re(complex_sol)\n",
    "                x2 = sp.im(complex_sol)\n",
    "\n",
    "                if verbose:\n",
    "                    print(f\"Eigenvalue = {eigenvalue}. Eigenvector = {v}. Algebraic multiplicity = 1. Geometric multiplicity = 1. Using Theorem 2.7(b)\")\n",
    "                    display(Math(fr\"complex \\, solution = {sp.latex(complex_sol)}\"))\n",
    "      \n",
    "                    display(Math(fr\"x_{{1}} = {sp.latex(x1)}\"))\n",
    "                    display(Math(fr\"x_{{2}} = {sp.latex(x2)}\"))\n",
    "\n",
    "                cols.extend([x1, x2])\n",
    "\n",
    "            elif algebraic_mult == 2 and geometric_mult == 1:\n",
    "                # Extended complex eigenvalue case\n",
    "                b2 = v\n",
    "                b1, tau = J.gauss_jordan_solve(b2)\n",
    "\n",
    "                if tau_vals is not None:\n",
    "                    b1 = b1.subs({s: tau_vals for s in tau.free_symbols})\n",
    "                else:\n",
    "                    b1 = b1.subs({s: 0 for s in tau.free_symbols})\n",
    "\n",
    "                x1 = sp.exp(eigenvalue * t) * b2\n",
    "                x2 = sp.exp(eigenvalue * t) * (b1 + t * b2)\n",
    "\n",
    "                real_x1 = sp.re(x1)\n",
    "                imag_x1 = sp.im(x1)\n",
    "                real_x2 = sp.re(x2)\n",
    "                imag_x2 = sp.im(x2)\n",
    "\n",
    "                if verbose:\n",
    "                    print(f\"Eigenvalue = {eigenvalue}. Algebraic multiplicity = 2. Geometric multiplicity = 1. Using extended Theorem 2.7(b)\")\n",
    "\n",
    "                cols.extend([real_x1, imag_x1, real_x2, imag_x2])\n",
    "\n",
    "    fundamental_matrix = sp.Matrix.hstack(*cols)\n",
    "    fundamental_matrix = sp.Matrix.hstack(*[scale_to_clear_fractions(fundamental_matrix.col(i)) for i in range(fundamental_matrix.shape[1])])\n",
    "\n",
    "    if verbose:\n",
    "        display(Math(r\"\\Phi(t) = \" + sp.latex(fundamental_matrix)))\n",
    "\n",
    "    # return fundamental_matrix \n",
    "    return fundamental_matrix\n"
   ]
  },
  {
   "cell_type": "markdown",
   "id": "93ba63a8",
   "metadata": {},
   "source": [
    "## Inhomogeneous system"
   ]
  },
  {
   "cell_type": "code",
   "execution_count": 279,
   "id": "57f7b620",
   "metadata": {},
   "outputs": [],
   "source": [
    "def solve_inhomogeneous_linear_system(A, u, x0, t0_val=0, tau_vals=None, verbose=True):\n",
    "    \"\"\"\n",
    "    Solves the inhomogeneous system x'(t) = A x(t) + u with initial condition x(t0) = x0\n",
    "    using Theorem 2.20 (parts i and ii).\n",
    "\n",
    "    Parameters:\n",
    "        A        : system matrix (SymPy Matrix)\n",
    "        u        : input vector (SymPy column Matrix)\n",
    "        x0       : initial condition vector (SymPy column Matrix)\n",
    "        t0_val   : value of t0 (default 0)\n",
    "        tau_vals : dict of free parameter substitutions (default None)\n",
    "        verbose  : if True, display steps\n",
    "\n",
    "    Returns:\n",
    "        general_solution    : symbolic expression for x(t)\n",
    "        particular_solution : symbolic expression for x_p(t)\n",
    "    \"\"\"\n",
    "    t = sp.symbols('t', real=True)\n",
    "    t0 = sp.symbols('t0', real=True)\n",
    "\n",
    "    if verbose:\n",
    "        display(Math(r\"A = \" + sp.latex(A)))\n",
    "        display(Math(r\"u = \" + sp.latex(u)))\n",
    "        display(Math(r\"x_0 = \" + sp.latex(x0)))\n",
    "        display(Math(r\"t_0 = \" + sp.latex(t0_val)))\n",
    "\n",
    "        display(Math(r\"\\text{General solution: } x(t) = \\Phi(t) \\bold{c} + \\Phi(t) \\int_{t_0}^{t} \\Phi(t)^{-1} \\bold{u} \\, dt\"))\n",
    "\n",
    "    fundamental_matrix = construct_fundamental_matrix(A, tau_vals=tau_vals, verbose=True)\n",
    "    inv_fundamental_matrix = fundamental_matrix.inv()\n",
    "    inv_fundamental_matrix_u = inv_fundamental_matrix * u\n",
    "\n",
    "    integral = sp.integrate(inv_fundamental_matrix_u, (t, t0, t))\n",
    "    if t0_val is not None:\n",
    "        integral = integral.subs(t0, t0_val)\n",
    "    integral_term = fundamental_matrix * integral\n",
    "\n",
    "    if verbose:\n",
    "        display(Math(r\"\\Phi(t) = \" + sp.latex(fundamental_matrix)))\n",
    "        display(Math(r\"\\Phi(t)^{-1} = \" + sp.latex(inv_fundamental_matrix)))\n",
    "        display(Math(r\"\\Phi(t)^{-1} \\bold{u} = \" + sp.latex(inv_fundamental_matrix_u)))\n",
    "        display(Math(r\"\\int_{t_0}^{t} \\Phi(t)^{-1} \\bold{u} \\, dt = \" + sp.latex(integral)))\n",
    "        display(Math(r\"\\Phi(t) \\int_{t_0}^{t} \\Phi(t)^{-1} \\bold{u} \\, dt = \" + sp.latex(integral_term)))\n",
    "\n",
    "    # General solution\n",
    "    c = sp.Matrix([sp.symbols(f'c{i+1}', real=True) for i in range(A.shape[1])])\n",
    "    general_solution = fundamental_matrix * c + integral_term\n",
    "    if verbose:\n",
    "        display_general_solution_factored(general_solution, domain='real', x_symbol='x', symbol_index=None)\n",
    "\n",
    "    # Particular solution (Theorem 2.20 ii)\n",
    "    if x0 is not None:\n",
    "      Φ_t0_inv = fundamental_matrix.subs(t, t0_val).inv()\n",
    "      term1 = fundamental_matrix * Φ_t0_inv * x0\n",
    "      term2 = integral_term.subs(t0, t0_val)\n",
    "      particular_solution = term1 + term2\n",
    "\n",
    "      if verbose:\n",
    "          display(Math(r\"\\text{Particular solution: } x_p(t) = \\Phi(t)\\Phi(t_0)^{-1}\\bold{x}_0 + \\Phi(t) \\int_{t_0}^{t} \\Phi(t)^{-1} \\bold{u} \\, dt\"))\n",
    "          display(Math(r\"\\Phi(t) \\Phi(t_0)^{-1} \\bold{x}_0 = \" + sp.latex(term1)))\n",
    "          display_general_solution_factored(particular_solution, domain='real', x_symbol='x', symbol_index=None)\n",
    "      return general_solution, particular_solution\n",
    "\n",
    "    return general_solution\n"
   ]
  },
  {
   "cell_type": "markdown",
   "id": "b4e7e32f",
   "metadata": {},
   "source": [
    "# Week 2"
   ]
  },
  {
   "cell_type": "code",
   "execution_count": 281,
   "id": "d7ec4bc6",
   "metadata": {},
   "outputs": [
    {
     "data": {
      "text/latex": [
       "$\\displaystyle \\text{Constructing fundamental matrix } \\Phi(t) \\text{ for the system } x'(t) = A x(t)$"
      ],
      "text/plain": [
       "<IPython.core.display.Math object>"
      ]
     },
     "metadata": {},
     "output_type": "display_data"
    },
    {
     "data": {
      "text/latex": [
       "$\\displaystyle A = \\left[\\begin{matrix}5 & 3\\\\9 & -1\\end{matrix}\\right]$"
      ],
      "text/plain": [
       "<IPython.core.display.Math object>"
      ]
     },
     "metadata": {},
     "output_type": "display_data"
    },
    {
     "data": {
      "text/latex": [
       "$\\displaystyle \\text{Characteristic polynomial: } \\operatorname{PurePoly}{\\left( \\lambda^{2} - 4 \\lambda - 32, \\lambda, domain=\\mathbb{Z} \\right)}$"
      ],
      "text/plain": [
       "<IPython.core.display.Math object>"
      ]
     },
     "metadata": {},
     "output_type": "display_data"
    },
    {
     "data": {
      "text/latex": [
       "$\\displaystyle \\text{Characteristic polynomial factored: } \\left(\\lambda - 8\\right) \\left(\\lambda + 4\\right)$"
      ],
      "text/plain": [
       "<IPython.core.display.Math object>"
      ]
     },
     "metadata": {},
     "output_type": "display_data"
    },
    {
     "name": "stdout",
     "output_type": "stream",
     "text": [
      "Iterating over eigenvalues and eigenvectors:\n",
      "Eigenvalue = -4. Eigenvector = Matrix([[-1/3], [1]]). Algebraic multiplicity = 1. Geometric multiplicity = 1. Using Theorem 2.7(a)\n",
      "Eigenvalue = 8. Eigenvector = Matrix([[1], [1]]). Algebraic multiplicity = 1. Geometric multiplicity = 1. Using Theorem 2.7(a)\n"
     ]
    },
    {
     "data": {
      "text/latex": [
       "$\\displaystyle \\Phi(t) = \\left[\\begin{matrix}-1 & e^{8 t}\\\\3 & e^{8 t}\\end{matrix}\\right]$"
      ],
      "text/plain": [
       "<IPython.core.display.Math object>"
      ]
     },
     "metadata": {},
     "output_type": "display_data"
    }
   ],
   "source": [
    "# 409,i)\n",
    "A = sp.Matrix([[5, 3], [9, -1]]) \n",
    "sol = construct_fundamental_matrix(A, verbose=True, tau_vals=None) "
   ]
  },
  {
   "cell_type": "code",
   "execution_count": 282,
   "id": "1193105e",
   "metadata": {},
   "outputs": [
    {
     "data": {
      "text/latex": [
       "$\\displaystyle A = \\left[\\begin{matrix}5 & 3\\\\9 & -1\\end{matrix}\\right]$"
      ],
      "text/plain": [
       "<IPython.core.display.Math object>"
      ]
     },
     "metadata": {},
     "output_type": "display_data"
    },
    {
     "data": {
      "text/latex": [
       "$\\displaystyle u = \\left[\\begin{matrix}3 e^{4 t}\\\\- 5 e^{4 t}\\end{matrix}\\right]$"
      ],
      "text/plain": [
       "<IPython.core.display.Math object>"
      ]
     },
     "metadata": {},
     "output_type": "display_data"
    },
    {
     "data": {
      "text/latex": [
       "$\\displaystyle x_0 = \\text{None}$"
      ],
      "text/plain": [
       "<IPython.core.display.Math object>"
      ]
     },
     "metadata": {},
     "output_type": "display_data"
    },
    {
     "data": {
      "text/latex": [
       "$\\displaystyle t_0 = 0$"
      ],
      "text/plain": [
       "<IPython.core.display.Math object>"
      ]
     },
     "metadata": {},
     "output_type": "display_data"
    },
    {
     "data": {
      "text/latex": [
       "$\\displaystyle \\text{General solution: } x(t) = \\Phi(t) \\bold{c} + \\Phi(t) \\int_{t_0}^{t} \\Phi(t)^{-1} \\bold{u} \\, dt$"
      ],
      "text/plain": [
       "<IPython.core.display.Math object>"
      ]
     },
     "metadata": {},
     "output_type": "display_data"
    },
    {
     "data": {
      "text/latex": [
       "$\\displaystyle \\text{Constructing fundamental matrix } \\Phi(t) \\text{ for the system } x'(t) = A x(t)$"
      ],
      "text/plain": [
       "<IPython.core.display.Math object>"
      ]
     },
     "metadata": {},
     "output_type": "display_data"
    },
    {
     "data": {
      "text/latex": [
       "$\\displaystyle A = \\left[\\begin{matrix}5 & 3\\\\9 & -1\\end{matrix}\\right]$"
      ],
      "text/plain": [
       "<IPython.core.display.Math object>"
      ]
     },
     "metadata": {},
     "output_type": "display_data"
    },
    {
     "data": {
      "text/latex": [
       "$\\displaystyle \\text{Characteristic polynomial: } \\operatorname{PurePoly}{\\left( \\lambda^{2} - 4 \\lambda - 32, \\lambda, domain=\\mathbb{Z} \\right)}$"
      ],
      "text/plain": [
       "<IPython.core.display.Math object>"
      ]
     },
     "metadata": {},
     "output_type": "display_data"
    },
    {
     "data": {
      "text/latex": [
       "$\\displaystyle \\text{Characteristic polynomial factored: } \\left(\\lambda - 8\\right) \\left(\\lambda + 4\\right)$"
      ],
      "text/plain": [
       "<IPython.core.display.Math object>"
      ]
     },
     "metadata": {},
     "output_type": "display_data"
    },
    {
     "name": "stdout",
     "output_type": "stream",
     "text": [
      "Iterating over eigenvalues and eigenvectors:\n",
      "Eigenvalue = -4. Eigenvector = Matrix([[-1/3], [1]]). Algebraic multiplicity = 1. Geometric multiplicity = 1. Using Theorem 2.7(a)\n",
      "Eigenvalue = 8. Eigenvector = Matrix([[1], [1]]). Algebraic multiplicity = 1. Geometric multiplicity = 1. Using Theorem 2.7(a)\n"
     ]
    },
    {
     "data": {
      "text/latex": [
       "$\\displaystyle \\Phi(t) = \\left[\\begin{matrix}-1 & e^{8 t}\\\\3 & e^{8 t}\\end{matrix}\\right]$"
      ],
      "text/plain": [
       "<IPython.core.display.Math object>"
      ]
     },
     "metadata": {},
     "output_type": "display_data"
    },
    {
     "data": {
      "text/latex": [
       "$\\displaystyle \\Phi(t) = \\left[\\begin{matrix}-1 & e^{8 t}\\\\3 & e^{8 t}\\end{matrix}\\right]$"
      ],
      "text/plain": [
       "<IPython.core.display.Math object>"
      ]
     },
     "metadata": {},
     "output_type": "display_data"
    },
    {
     "data": {
      "text/latex": [
       "$\\displaystyle \\Phi(t)^{-1} = \\left[\\begin{matrix}- \\frac{1}{4} & \\frac{1}{4}\\\\\\frac{3 e^{- 8 t}}{4} & \\frac{e^{- 8 t}}{4}\\end{matrix}\\right]$"
      ],
      "text/plain": [
       "<IPython.core.display.Math object>"
      ]
     },
     "metadata": {},
     "output_type": "display_data"
    },
    {
     "data": {
      "text/latex": [
       "$\\displaystyle \\Phi(t)^{-1} \\bold{u} = \\left[\\begin{matrix}- 2 e^{4 t}\\\\e^{- 4 t}\\end{matrix}\\right]$"
      ],
      "text/plain": [
       "<IPython.core.display.Math object>"
      ]
     },
     "metadata": {},
     "output_type": "display_data"
    },
    {
     "data": {
      "text/latex": [
       "$\\displaystyle \\int_{t_0}^{t} \\Phi(t)^{-1} \\bold{u} \\, dt = \\left[\\begin{matrix}\\frac{1}{2} - \\frac{e^{4 t}}{2}\\\\\\frac{1}{4} - \\frac{e^{- 4 t}}{4}\\end{matrix}\\right]$"
      ],
      "text/plain": [
       "<IPython.core.display.Math object>"
      ]
     },
     "metadata": {},
     "output_type": "display_data"
    },
    {
     "data": {
      "text/latex": [
       "$\\displaystyle \\Phi(t) \\int_{t_0}^{t} \\Phi(t)^{-1} \\bold{u} \\, dt = \\left[\\begin{matrix}\\left(\\frac{1}{4} - \\frac{e^{- 4 t}}{4}\\right) e^{8 t} + \\frac{e^{4 t}}{2} - \\frac{1}{2}\\\\\\left(\\frac{1}{4} - \\frac{e^{- 4 t}}{4}\\right) e^{8 t} - \\frac{3 e^{4 t}}{2} + \\frac{3}{2}\\end{matrix}\\right]$"
      ],
      "text/plain": [
       "<IPython.core.display.Math object>"
      ]
     },
     "metadata": {},
     "output_type": "display_data"
    },
    {
     "data": {
      "text/latex": [
       "$\\displaystyle x(t) = c_{1} \\left[\\begin{matrix}-1\\\\3\\end{matrix}\\right] + c_{2} \\left[\\begin{matrix}e^{8 t}\\\\e^{8 t}\\end{matrix}\\right] + \\left[\\begin{matrix}\\frac{e^{8 t}}{4} + \\frac{e^{4 t}}{4} - \\frac{1}{2}\\\\\\frac{e^{8 t}}{4} - \\frac{7 e^{4 t}}{4} + \\frac{3}{2}\\end{matrix}\\right], \\quad \\text{where } c_{1}, c_{2} \\in \\mathbb{R}$"
      ],
      "text/plain": [
       "<IPython.core.display.Math object>"
      ]
     },
     "metadata": {},
     "output_type": "display_data"
    }
   ],
   "source": [
    "# 409,ii)\n",
    "A = sp.Matrix([[5, 3], [9, -1]])\n",
    "t = sp.symbols('t', real=True)\n",
    "u = sp.Matrix([[3],[-5]])*sp.exp(4*t)\n",
    "sol = solve_inhomogeneous_linear_system(A, u, x0=None, t0_val=0, tau_vals=None, verbose=True)\n"
   ]
  },
  {
   "cell_type": "code",
   "execution_count": 285,
   "id": "d224fbee",
   "metadata": {},
   "outputs": [
    {
     "data": {
      "text/latex": [
       "$\\displaystyle \\text{Constructing fundamental matrix } \\Phi(t) \\text{ for the system } x'(t) = A x(t)$"
      ],
      "text/plain": [
       "<IPython.core.display.Math object>"
      ]
     },
     "metadata": {},
     "output_type": "display_data"
    },
    {
     "data": {
      "text/latex": [
       "$\\displaystyle A = \\left[\\begin{matrix}0 & 0 & 1\\\\2 & 0 & -1\\\\-1 & 0 & 0\\end{matrix}\\right]$"
      ],
      "text/plain": [
       "<IPython.core.display.Math object>"
      ]
     },
     "metadata": {},
     "output_type": "display_data"
    },
    {
     "data": {
      "text/latex": [
       "$\\displaystyle \\text{Characteristic polynomial: } \\operatorname{PurePoly}{\\left( \\lambda^{3} + \\lambda, \\lambda, domain=\\mathbb{Z} \\right)}$"
      ],
      "text/plain": [
       "<IPython.core.display.Math object>"
      ]
     },
     "metadata": {},
     "output_type": "display_data"
    },
    {
     "data": {
      "text/latex": [
       "$\\displaystyle \\text{Characteristic polynomial factored: } \\lambda \\left(\\lambda^{2} + 1\\right)$"
      ],
      "text/plain": [
       "<IPython.core.display.Math object>"
      ]
     },
     "metadata": {},
     "output_type": "display_data"
    },
    {
     "name": "stdout",
     "output_type": "stream",
     "text": [
      "Iterating over eigenvalues and eigenvectors:\n",
      "Eigenvalue = 0. Eigenvector = Matrix([[0], [1], [0]]). Algebraic multiplicity = 1. Geometric multiplicity = 1. Using Theorem 2.7(a)\n",
      "Eigenvalue = I. Eigenvector = Matrix([[-I], [-2 + I], [1]]). Algebraic multiplicity = 1. Geometric multiplicity = 1. Using Theorem 2.7(b)\n"
     ]
    },
    {
     "data": {
      "text/latex": [
       "$\\displaystyle complex \\, solution = \\left[\\begin{matrix}- i e^{i t}\\\\\\left(-2 + i\\right) e^{i t}\\\\e^{i t}\\end{matrix}\\right]$"
      ],
      "text/plain": [
       "<IPython.core.display.Math object>"
      ]
     },
     "metadata": {},
     "output_type": "display_data"
    },
    {
     "data": {
      "text/latex": [
       "$\\displaystyle x_{1} = \\left[\\begin{matrix}\\sin{\\left(t \\right)}\\\\- \\sin{\\left(t \\right)} - 2 \\cos{\\left(t \\right)}\\\\\\cos{\\left(t \\right)}\\end{matrix}\\right]$"
      ],
      "text/plain": [
       "<IPython.core.display.Math object>"
      ]
     },
     "metadata": {},
     "output_type": "display_data"
    },
    {
     "data": {
      "text/latex": [
       "$\\displaystyle x_{2} = \\left[\\begin{matrix}- \\cos{\\left(t \\right)}\\\\- 2 \\sin{\\left(t \\right)} + \\cos{\\left(t \\right)}\\\\\\sin{\\left(t \\right)}\\end{matrix}\\right]$"
      ],
      "text/plain": [
       "<IPython.core.display.Math object>"
      ]
     },
     "metadata": {},
     "output_type": "display_data"
    },
    {
     "data": {
      "text/latex": [
       "$\\displaystyle \\Phi(t) = \\left[\\begin{matrix}0 & \\sin{\\left(t \\right)} & - \\cos{\\left(t \\right)}\\\\1 & - \\sin{\\left(t \\right)} - 2 \\cos{\\left(t \\right)} & - 2 \\sin{\\left(t \\right)} + \\cos{\\left(t \\right)}\\\\0 & \\cos{\\left(t \\right)} & \\sin{\\left(t \\right)}\\end{matrix}\\right]$"
      ],
      "text/plain": [
       "<IPython.core.display.Math object>"
      ]
     },
     "metadata": {},
     "output_type": "display_data"
    }
   ],
   "source": [
    "# 411\n",
    "A = sp.Matrix([[0, 0, 1], [2, 0, -1],[-1,0,0]])\n",
    "sol = construct_fundamental_matrix(A, verbose=True, tau_vals=None)"
   ]
  },
  {
   "cell_type": "code",
   "execution_count": 286,
   "id": "ddfa7b9a",
   "metadata": {},
   "outputs": [
    {
     "data": {
      "text/latex": [
       "$\\displaystyle A = \\left[\\begin{matrix}1 & 2\\\\2 & 4\\end{matrix}\\right]$"
      ],
      "text/plain": [
       "<IPython.core.display.Math object>"
      ]
     },
     "metadata": {},
     "output_type": "display_data"
    },
    {
     "data": {
      "text/latex": [
       "$\\displaystyle u = \\left[\\begin{matrix}1\\\\1\\end{matrix}\\right]$"
      ],
      "text/plain": [
       "<IPython.core.display.Math object>"
      ]
     },
     "metadata": {},
     "output_type": "display_data"
    },
    {
     "data": {
      "text/latex": [
       "$\\displaystyle x_0 = \\left[\\begin{matrix}1\\\\0\\end{matrix}\\right]$"
      ],
      "text/plain": [
       "<IPython.core.display.Math object>"
      ]
     },
     "metadata": {},
     "output_type": "display_data"
    },
    {
     "data": {
      "text/latex": [
       "$\\displaystyle t_0 = 0$"
      ],
      "text/plain": [
       "<IPython.core.display.Math object>"
      ]
     },
     "metadata": {},
     "output_type": "display_data"
    },
    {
     "data": {
      "text/latex": [
       "$\\displaystyle \\text{General solution: } x(t) = \\Phi(t) \\bold{c} + \\Phi(t) \\int_{t_0}^{t} \\Phi(t)^{-1} \\bold{u} \\, dt$"
      ],
      "text/plain": [
       "<IPython.core.display.Math object>"
      ]
     },
     "metadata": {},
     "output_type": "display_data"
    },
    {
     "data": {
      "text/latex": [
       "$\\displaystyle \\text{Constructing fundamental matrix } \\Phi(t) \\text{ for the system } x'(t) = A x(t)$"
      ],
      "text/plain": [
       "<IPython.core.display.Math object>"
      ]
     },
     "metadata": {},
     "output_type": "display_data"
    },
    {
     "data": {
      "text/latex": [
       "$\\displaystyle A = \\left[\\begin{matrix}1 & 2\\\\2 & 4\\end{matrix}\\right]$"
      ],
      "text/plain": [
       "<IPython.core.display.Math object>"
      ]
     },
     "metadata": {},
     "output_type": "display_data"
    },
    {
     "data": {
      "text/latex": [
       "$\\displaystyle \\text{Characteristic polynomial: } \\operatorname{PurePoly}{\\left( \\lambda^{2} - 5 \\lambda, \\lambda, domain=\\mathbb{Z} \\right)}$"
      ],
      "text/plain": [
       "<IPython.core.display.Math object>"
      ]
     },
     "metadata": {},
     "output_type": "display_data"
    },
    {
     "data": {
      "text/latex": [
       "$\\displaystyle \\text{Characteristic polynomial factored: } \\lambda \\left(\\lambda - 5\\right)$"
      ],
      "text/plain": [
       "<IPython.core.display.Math object>"
      ]
     },
     "metadata": {},
     "output_type": "display_data"
    },
    {
     "name": "stdout",
     "output_type": "stream",
     "text": [
      "Iterating over eigenvalues and eigenvectors:\n",
      "Eigenvalue = 0. Eigenvector = Matrix([[-2], [1]]). Algebraic multiplicity = 1. Geometric multiplicity = 1. Using Theorem 2.7(a)\n",
      "Eigenvalue = 5. Eigenvector = Matrix([[1/2], [1]]). Algebraic multiplicity = 1. Geometric multiplicity = 1. Using Theorem 2.7(a)\n"
     ]
    },
    {
     "data": {
      "text/latex": [
       "$\\displaystyle \\Phi(t) = \\left[\\begin{matrix}-2 & e^{5 t}\\\\1 & 2 e^{5 t}\\end{matrix}\\right]$"
      ],
      "text/plain": [
       "<IPython.core.display.Math object>"
      ]
     },
     "metadata": {},
     "output_type": "display_data"
    },
    {
     "data": {
      "text/latex": [
       "$\\displaystyle \\Phi(t) = \\left[\\begin{matrix}-2 & e^{5 t}\\\\1 & 2 e^{5 t}\\end{matrix}\\right]$"
      ],
      "text/plain": [
       "<IPython.core.display.Math object>"
      ]
     },
     "metadata": {},
     "output_type": "display_data"
    },
    {
     "data": {
      "text/latex": [
       "$\\displaystyle \\Phi(t)^{-1} = \\left[\\begin{matrix}- \\frac{2}{5} & \\frac{1}{5}\\\\\\frac{e^{- 5 t}}{5} & \\frac{2 e^{- 5 t}}{5}\\end{matrix}\\right]$"
      ],
      "text/plain": [
       "<IPython.core.display.Math object>"
      ]
     },
     "metadata": {},
     "output_type": "display_data"
    },
    {
     "data": {
      "text/latex": [
       "$\\displaystyle \\Phi(t)^{-1} \\bold{u} = \\left[\\begin{matrix}- \\frac{1}{5}\\\\\\frac{3 e^{- 5 t}}{5}\\end{matrix}\\right]$"
      ],
      "text/plain": [
       "<IPython.core.display.Math object>"
      ]
     },
     "metadata": {},
     "output_type": "display_data"
    },
    {
     "data": {
      "text/latex": [
       "$\\displaystyle \\int_{t_0}^{t} \\Phi(t)^{-1} \\bold{u} \\, dt = \\left[\\begin{matrix}- \\frac{t}{5}\\\\\\frac{3}{25} - \\frac{3 e^{- 5 t}}{25}\\end{matrix}\\right]$"
      ],
      "text/plain": [
       "<IPython.core.display.Math object>"
      ]
     },
     "metadata": {},
     "output_type": "display_data"
    },
    {
     "data": {
      "text/latex": [
       "$\\displaystyle \\Phi(t) \\int_{t_0}^{t} \\Phi(t)^{-1} \\bold{u} \\, dt = \\left[\\begin{matrix}\\frac{2 t}{5} + \\left(\\frac{3}{25} - \\frac{3 e^{- 5 t}}{25}\\right) e^{5 t}\\\\- \\frac{t}{5} + 2 \\left(\\frac{3}{25} - \\frac{3 e^{- 5 t}}{25}\\right) e^{5 t}\\end{matrix}\\right]$"
      ],
      "text/plain": [
       "<IPython.core.display.Math object>"
      ]
     },
     "metadata": {},
     "output_type": "display_data"
    },
    {
     "data": {
      "text/latex": [
       "$\\displaystyle x(t) = c_{1} \\left[\\begin{matrix}-2\\\\1\\end{matrix}\\right] + c_{2} \\left[\\begin{matrix}e^{5 t}\\\\2 e^{5 t}\\end{matrix}\\right] + \\left[\\begin{matrix}\\frac{2 t}{5} + \\frac{3 e^{5 t}}{25} - \\frac{3}{25}\\\\- \\frac{t}{5} + \\frac{6 e^{5 t}}{25} - \\frac{6}{25}\\end{matrix}\\right], \\quad \\text{where } c_{1}, c_{2} \\in \\mathbb{R}$"
      ],
      "text/plain": [
       "<IPython.core.display.Math object>"
      ]
     },
     "metadata": {},
     "output_type": "display_data"
    },
    {
     "data": {
      "text/latex": [
       "$\\displaystyle \\text{Particular solution: } x_p(t) = \\Phi(t)\\Phi(t_0)^{-1}\\bold{x}_0 + \\Phi(t) \\int_{t_0}^{t} \\Phi(t)^{-1} \\bold{u} \\, dt$"
      ],
      "text/plain": [
       "<IPython.core.display.Math object>"
      ]
     },
     "metadata": {},
     "output_type": "display_data"
    },
    {
     "data": {
      "text/latex": [
       "$\\displaystyle \\Phi(t) \\Phi(t_0)^{-1} \\bold{x}_0 = \\left[\\begin{matrix}\\frac{e^{5 t}}{5} + \\frac{4}{5}\\\\\\frac{2 e^{5 t}}{5} - \\frac{2}{5}\\end{matrix}\\right]$"
      ],
      "text/plain": [
       "<IPython.core.display.Math object>"
      ]
     },
     "metadata": {},
     "output_type": "display_data"
    },
    {
     "data": {
      "text/latex": [
       "$\\displaystyle x(t) = \\left[\\begin{matrix}\\frac{2 t}{5} + \\frac{8 e^{5 t}}{25} + \\frac{17}{25}\\\\- \\frac{t}{5} + \\frac{16 e^{5 t}}{25} - \\frac{16}{25}\\end{matrix}\\right]$"
      ],
      "text/plain": [
       "<IPython.core.display.Math object>"
      ]
     },
     "metadata": {},
     "output_type": "display_data"
    }
   ],
   "source": [
    "# 431\n",
    "A = sp.Matrix([[1, 2], [2, 4]])\n",
    "u = sp.Matrix([1, 1])\n",
    "x0 = sp.Matrix([[1],[0]])\n",
    "sol = solve_inhomogeneous_linear_system(A, u, x0=x0, t0_val=0, tau_vals=None, verbose=True)"
   ]
  },
  {
   "cell_type": "markdown",
   "id": "7e871f63",
   "metadata": {},
   "source": [
    "# Week 3"
   ]
  }
 ],
 "metadata": {
  "kernelspec": {
   "display_name": "aem",
   "language": "python",
   "name": "python3"
  },
  "language_info": {
   "codemirror_mode": {
    "name": "ipython",
    "version": 3
   },
   "file_extension": ".py",
   "mimetype": "text/x-python",
   "name": "python",
   "nbconvert_exporter": "python",
   "pygments_lexer": "ipython3",
   "version": "3.11.2"
  }
 },
 "nbformat": 4,
 "nbformat_minor": 5
}
