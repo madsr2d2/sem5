{
 "cells": [
  {
   "cell_type": "code",
   "execution_count": 262,
   "id": "15e20d2b",
   "metadata": {},
   "outputs": [],
   "source": [
    "import sympy as sp\n",
    "from IPython.display import Math"
   ]
  },
  {
   "cell_type": "markdown",
   "id": "223aef77",
   "metadata": {},
   "source": [
    "# Utility functions"
   ]
  },
  {
   "cell_type": "code",
   "execution_count": 263,
   "id": "ee48acd7",
   "metadata": {},
   "outputs": [],
   "source": [
    "def display_general_solution_latex_factored(sols, domain='real', x_symbol='x', symbol_index=None):\n",
    "    \"\"\"\n",
    "    Display general solution of a linear system of ODEs with symbolic constants and\n",
    "    factored common multiplicative terms (e.g., exp(t)).\n",
    "\n",
    "    Parameters:\n",
    "        sols        : SymPy Matrix where each column is a solution vector\n",
    "        domain      : 'real', 'complex', or None — determines cᵢ ∈ ℝ or ℂ, or omits constants\n",
    "        x_symbol    : function name for the solution vector (default: 'x')\n",
    "        symbol_index: optional index for subscripting x_symbol\n",
    "    \"\"\"\n",
    "    terms = []\n",
    "    constants = []\n",
    "\n",
    "    for idx in range(sols.shape[1]):\n",
    "        sol = sols[:, idx]\n",
    "        \n",
    "        if domain is not None:\n",
    "            c = sp.symbols(f'c{idx + 1}', real=(domain == 'real'))\n",
    "            constants.append(c)\n",
    "        else:\n",
    "            c = None\n",
    "\n",
    "        flat_entries = list(sol)\n",
    "        factor = sp.gcd_list(flat_entries)\n",
    "\n",
    "        if factor == 1:\n",
    "            term = sp.latex(sol)\n",
    "            if c is not None:\n",
    "                term_latex = f\"{sp.latex(c)} {term}\"\n",
    "            else:\n",
    "                term_latex = term\n",
    "        else:\n",
    "            simplified_vec = sp.simplify(sol / factor)\n",
    "            term = f\"{sp.latex(factor)} {sp.latex(simplified_vec)}\"\n",
    "            if c is not None:\n",
    "                term_latex = f\"{sp.latex(c)} {term}\"\n",
    "            else:\n",
    "                term_latex = term\n",
    "\n",
    "        terms.append(term_latex)\n",
    "\n",
    "    # Construct solution expression\n",
    "    prefix = rf\"{x_symbol}_{{{symbol_index}}}(t)\" if symbol_index else rf\"{x_symbol}(t)\"\n",
    "    latex_expr = f\"{prefix} = \" + \" + \".join(terms)\n",
    "\n",
    "    if domain is not None and constants:\n",
    "        constant_list = \", \".join(sp.latex(c) for c in constants)\n",
    "        number_set = r\"\\mathbb{R}\" if domain == 'real' else r\"\\mathbb{C}\"\n",
    "        latex_expr += rf\", \\quad \\text{{where }} {constant_list} \\in {number_set}\"\n",
    "\n",
    "    display(Math(latex_expr))\n"
   ]
  },
  {
   "cell_type": "markdown",
   "id": "a2b363ed",
   "metadata": {},
   "source": [
    "# Systems of 1st order differential equations"
   ]
  },
  {
   "cell_type": "code",
   "execution_count": 405,
   "id": "db62ec69",
   "metadata": {},
   "outputs": [
    {
     "data": {
      "text/latex": [
       "$\\displaystyle \\left[\\begin{matrix}1 & 2\\\\2 & 4\\end{matrix}\\right]$"
      ],
      "text/plain": [
       "Matrix([\n",
       "[1, 2],\n",
       "[2, 4]])"
      ]
     },
     "execution_count": 405,
     "metadata": {},
     "output_type": "execute_result"
    }
   ],
   "source": [
    "\n",
    "# Define the matrix\n",
    "A = sp.Matrix([[2, 9], [-1, -4]]) # Example matrix with 2 real eigenvalues\n",
    "A = sp.Matrix([[0, 0, 1], [2, 0, -1], [-1, 0, 0]]) # Example matrix with 1 real and 2 complex eigenvalues\n",
    "A = sp.Matrix([[2, 9], [-1, -4]])\n",
    "A = sp.Matrix([[1, 2], [2, 4]])\n",
    "t = sp.symbols('t', real=True)\n",
    "A"
   ]
  },
  {
   "cell_type": "markdown",
   "id": "6efd5f42",
   "metadata": {},
   "source": [
    "### Homogenous system"
   ]
  },
  {
   "cell_type": "markdown",
   "id": "9277ec5c",
   "metadata": {},
   "source": [
    "#### General real solution"
   ]
  },
  {
   "cell_type": "code",
   "execution_count": 380,
   "id": "8060f759",
   "metadata": {},
   "outputs": [],
   "source": [
    "def construct_real_solutions(A, tau_vals=None, verbose=True):\n",
    "    \"\"\"\n",
    "    Construct the fundamental matrix solution Φ(t) to the system x'(t) = A x(t),\n",
    "    using:\n",
    "      - Theorem 2.7(a) for simple real eigenvalues\n",
    "      - Theorem 2.7(b) for simple complex eigenvalues\n",
    "      - Theorem 2.11 (special case) for eigenvalues with algebraic multiplicity 2 and geometric multiplicity 1\n",
    "    \"\"\"\n",
    "    t = sp.symbols('t', real=True)\n",
    "    I_n = sp.eye(A.shape[0])\n",
    "    cols = []\n",
    "    if verbose:\n",
    "        display(Math(r\"\\text{Constructing fundamental matrix } \\Phi(t) \\text{ for the system } x'(t) = A x(t)\"))\n",
    "        display(Math(r\"A = \" + sp.latex(A)))\n",
    "        char_poly = A.charpoly()\n",
    "        display(Math(r\"\\text{Characteristic polynomial: } \" + sp.latex(char_poly)))\n",
    "        display(Math(r\"\\text{Characteristic polynomial factored: } \" + sp.latex(char_poly.as_expr().factor())))\n",
    "\n",
    "    if verbose:\n",
    "      print(\"Iterating over eigenvalues and eigenvectors:\")\n",
    "    for eigenvalue, algebraic_mult, eigenvectors in A.eigenvects():\n",
    "        geometric_mult = len(eigenvectors)\n",
    "\n",
    "        if eigenvalue.is_real:\n",
    "            if algebraic_mult == 1:\n",
    "                # Theorem 2.7(a)\n",
    "                v = eigenvectors[0]\n",
    "                if verbose:\n",
    "                    print(f\"Eigenvalue = {eigenvalue}. Algebraic multiplicity = 1. Geometric multiplicity = 1. Using Theorem 2.7(a)\")\n",
    "                cols.append(sp.exp(eigenvalue * t) * v)\n",
    "\n",
    "            elif algebraic_mult == 2 and geometric_mult == 1:\n",
    "                # Theorem 2.11(a)\n",
    "                if verbose:\n",
    "                    print(f\"Eigenvalue = {eigenvalue}. Eigenvector = {eigenvectors[0]}. Algebraic multiplicity = 2. Geometric multiplicity = 1. Using Theorem 2.11(a)\")\n",
    "\n",
    "                b11 = eigenvectors[0]\n",
    "                J = A - eigenvalue * I_n\n",
    "                b21, tau = J.gauss_jordan_solve(b11)\n",
    "\n",
    "                # Set all free parameters\n",
    "                if tau_vals is not None:\n",
    "                    b21 = b21.subs({s: tau_vals for s in tau.free_symbols})\n",
    "\n",
    "                x1 = sp.exp(eigenvalue * t) * b21\n",
    "                x2 = sp.exp(eigenvalue * t) * (b21 + t * b11)\n",
    "\n",
    "                if verbose:\n",
    "                  display(Math(r\"J = A - \\lambda I = \" + sp.latex(J)))\n",
    "                  \n",
    "                  # Display solutions\n",
    "                  display(Math(fr\"b_{{11}} = {sp.latex(b11)}\"))\n",
    "\n",
    "                  display(Math(r\"\\text{find } b_{ 21 } \\text{ by solving } J b_{ 21 } = b_{22} \\text{ for } b_{ 22 } = b_{ 11 }\"))\n",
    "                  display(Math(fr\"b_{{21}} = {sp.latex(b21)}\"))\n",
    "                  display(Math(fr\"b_{{22}} = {sp.latex(b11)}\"))\n",
    "                  display(Math(fr\"x_{{1}} = {sp.latex(x1)}\"))\n",
    "                  display(Math(fr\"x_{{2}} = {sp.latex(x2)}\"))\n",
    "\n",
    "                cols.extend([x1, x2])\n",
    "\n",
    "        else:\n",
    "            if sp.im(eigenvalue) < 0:\n",
    "                continue  # Skip complex conjugate\n",
    "\n",
    "            v = eigenvectors[0]\n",
    "            J = A - eigenvalue * I_n\n",
    "\n",
    "            if algebraic_mult == 1:\n",
    "                # Theorem 2.7(b)\n",
    "                complex_sol = sp.exp(eigenvalue * t) * v\n",
    "                x1 = sp.re(complex_sol)\n",
    "                x2 = sp.im(complex_sol)\n",
    "\n",
    "                if verbose:\n",
    "                    print(f\"Eigenvalue = {eigenvalue}. Eigenvector = {v}. Algebraic multiplicity = 1. Geometric multiplicity = 1. Using Theorem 2.7(b)\")\n",
    "                    display(Math(fr\"complex \\, solution = {sp.latex(complex_sol)}\"))\n",
    "      \n",
    "                    display(Math(fr\"x_{{1}} = {sp.latex(x1)}\"))\n",
    "                    display(Math(fr\"x_{{2}} = {sp.latex(x2)}\"))\n",
    "\n",
    "                cols.extend([x1, x2])\n",
    "\n",
    "            elif algebraic_mult == 2 and geometric_mult == 1:\n",
    "                # Extended complex eigenvalue case\n",
    "                b2 = v\n",
    "                b1, tau = J.gauss_jordan_solve(b2)\n",
    "\n",
    "                if tau_vals is not None:\n",
    "                    b1 = b1.subs({s: tau_vals for s in tau.free_symbols})\n",
    "                else:\n",
    "                    b1 = b1.subs({s: 0 for s in tau.free_symbols})\n",
    "\n",
    "                x1 = sp.exp(eigenvalue * t) * b2\n",
    "                x2 = sp.exp(eigenvalue * t) * (b1 + t * b2)\n",
    "\n",
    "                real_x1 = sp.re(x1)\n",
    "                imag_x1 = sp.im(x1)\n",
    "                real_x2 = sp.re(x2)\n",
    "                imag_x2 = sp.im(x2)\n",
    "\n",
    "                if verbose:\n",
    "                    print(f\"Eigenvalue = {eigenvalue}. Algebraic multiplicity = 2. Geometric multiplicity = 1. Using extended Theorem 2.7(b)\")\n",
    "\n",
    "                cols.extend([real_x1, imag_x1, real_x2, imag_x2])\n",
    "\n",
    "    fundamental_matrix = sp.Matrix.hstack(*cols)\n",
    "\n",
    "    if verbose:\n",
    "        display(Math(r\"\\Phi(t) = \" + sp.latex(fundamental_matrix)))\n",
    "        display_general_solution_latex_factored(fundamental_matrix, domain='real', x_symbol='x')\n",
    "\n",
    "    return fundamental_matrix, t\n"
   ]
  },
  {
   "cell_type": "code",
   "execution_count": 406,
   "id": "c20428f8",
   "metadata": {},
   "outputs": [
    {
     "data": {
      "text/latex": [
       "$\\displaystyle \\text{Constructing fundamental matrix } \\Phi(t) \\text{ for the system } x'(t) = A x(t)$"
      ],
      "text/plain": [
       "<IPython.core.display.Math object>"
      ]
     },
     "metadata": {},
     "output_type": "display_data"
    },
    {
     "data": {
      "text/latex": [
       "$\\displaystyle A = \\left[\\begin{matrix}1 & 2\\\\2 & 4\\end{matrix}\\right]$"
      ],
      "text/plain": [
       "<IPython.core.display.Math object>"
      ]
     },
     "metadata": {},
     "output_type": "display_data"
    },
    {
     "data": {
      "text/latex": [
       "$\\displaystyle \\text{Characteristic polynomial: } \\operatorname{PurePoly}{\\left( \\lambda^{2} - 5 \\lambda, \\lambda, domain=\\mathbb{Z} \\right)}$"
      ],
      "text/plain": [
       "<IPython.core.display.Math object>"
      ]
     },
     "metadata": {},
     "output_type": "display_data"
    },
    {
     "data": {
      "text/latex": [
       "$\\displaystyle \\text{Characteristic polynomial factored: } \\lambda \\left(\\lambda - 5\\right)$"
      ],
      "text/plain": [
       "<IPython.core.display.Math object>"
      ]
     },
     "metadata": {},
     "output_type": "display_data"
    },
    {
     "name": "stdout",
     "output_type": "stream",
     "text": [
      "Iterating over eigenvalues and eigenvectors:\n",
      "Eigenvalue = 0. Algebraic multiplicity = 1. Geometric multiplicity = 1. Using Theorem 2.7(a)\n",
      "Eigenvalue = 5. Algebraic multiplicity = 1. Geometric multiplicity = 1. Using Theorem 2.7(a)\n"
     ]
    },
    {
     "data": {
      "text/latex": [
       "$\\displaystyle \\Phi(t) = \\left[\\begin{matrix}-2 & \\frac{e^{5 t}}{2}\\\\1 & e^{5 t}\\end{matrix}\\right]$"
      ],
      "text/plain": [
       "<IPython.core.display.Math object>"
      ]
     },
     "metadata": {},
     "output_type": "display_data"
    },
    {
     "data": {
      "text/latex": [
       "$\\displaystyle x(t) = c_{1} \\left[\\begin{matrix}-2\\\\1\\end{matrix}\\right] + c_{2} e^{5 t} \\left[\\begin{matrix}\\frac{1}{2}\\\\1\\end{matrix}\\right], \\quad \\text{where } c_{1}, c_{2} \\in \\mathbb{R}$"
      ],
      "text/plain": [
       "<IPython.core.display.Math object>"
      ]
     },
     "metadata": {},
     "output_type": "display_data"
    },
    {
     "data": {
      "text/plain": [
       "(Matrix([\n",
       " [-2, exp(5*t)/2],\n",
       " [ 1,   exp(5*t)]]),\n",
       " t)"
      ]
     },
     "execution_count": 406,
     "metadata": {},
     "output_type": "execute_result"
    }
   ],
   "source": [
    "sols = construct_real_solutions(A, verbose = True , tau_vals = 1)\n",
    "sols"
   ]
  },
  {
   "cell_type": "markdown",
   "id": "93ba63a8",
   "metadata": {},
   "source": [
    "### Inhomogeneous system"
   ]
  },
  {
   "cell_type": "code",
   "execution_count": 442,
   "id": "a18815d5",
   "metadata": {},
   "outputs": [
    {
     "data": {
      "text/latex": [
       "$\\displaystyle A = \\left[\\begin{matrix}1 & 2\\\\2 & 4\\end{matrix}\\right]$"
      ],
      "text/plain": [
       "<IPython.core.display.Math object>"
      ]
     },
     "metadata": {},
     "output_type": "display_data"
    },
    {
     "data": {
      "text/latex": [
       "$\\displaystyle u = \\left[\\begin{matrix}1\\\\1\\end{matrix}\\right]$"
      ],
      "text/plain": [
       "<IPython.core.display.Math object>"
      ]
     },
     "metadata": {},
     "output_type": "display_data"
    },
    {
     "data": {
      "text/latex": [
       "$\\displaystyle \\text{Find general real solution for the system } x'(t) = A x(t) + u$"
      ],
      "text/plain": [
       "<IPython.core.display.Math object>"
      ]
     },
     "metadata": {},
     "output_type": "display_data"
    },
    {
     "data": {
      "text/latex": [
       "$\\displaystyle \\text{Constructing fundamental matrix } \\Phi(t) \\text{ for the homogenous system } x'(t) = A x(t)$"
      ],
      "text/plain": [
       "<IPython.core.display.Math object>"
      ]
     },
     "metadata": {},
     "output_type": "display_data"
    },
    {
     "data": {
      "text/latex": [
       "$\\displaystyle \\Phi(t) = \\left[\\begin{matrix}-2 & \\frac{e^{5 t}}{2}\\\\1 & e^{5 t}\\end{matrix}\\right]$"
      ],
      "text/plain": [
       "<IPython.core.display.Math object>"
      ]
     },
     "metadata": {},
     "output_type": "display_data"
    },
    {
     "data": {
      "text/latex": [
       "$\\displaystyle \\Phi(t)^{-1} = \\left[\\begin{matrix}- \\frac{2}{5} & \\frac{1}{5}\\\\\\frac{2 e^{- 5 t}}{5} & \\frac{4 e^{- 5 t}}{5}\\end{matrix}\\right]$"
      ],
      "text/plain": [
       "<IPython.core.display.Math object>"
      ]
     },
     "metadata": {},
     "output_type": "display_data"
    },
    {
     "data": {
      "text/latex": [
       "$\\displaystyle \\Phi(t)^{-1} u = \\left[\\begin{matrix}- \\frac{1}{5}\\\\\\frac{6 e^{- 5 t}}{5}\\end{matrix}\\right]$"
      ],
      "text/plain": [
       "<IPython.core.display.Math object>"
      ]
     },
     "metadata": {},
     "output_type": "display_data"
    },
    {
     "data": {
      "text/latex": [
       "$\\displaystyle \\int_{t_0}^{t} \\Phi(t)^{-1} \\bold{u} \\, dt = \\left[\\begin{matrix}- \\frac{t}{5} + \\frac{t_{0}}{5}\\\\\\frac{6 e^{- 5 t_{0}}}{25} - \\frac{6 e^{- 5 t}}{25}\\end{matrix}\\right]$"
      ],
      "text/plain": [
       "<IPython.core.display.Math object>"
      ]
     },
     "metadata": {},
     "output_type": "display_data"
    },
    {
     "data": {
      "text/latex": [
       "$\\displaystyle \\Phi(t) \\int_{t_0}^{t} \\Phi(t)^{-1} \\bold{u} \\, dt = \\left[\\begin{matrix}\\frac{2 t}{5} - \\frac{2 t_{0}}{5} + \\frac{\\left(\\frac{6 e^{- 5 t_{0}}}{25} - \\frac{6 e^{- 5 t}}{25}\\right) e^{5 t}}{2}\\\\- \\frac{t}{5} + \\frac{t_{0}}{5} + \\left(\\frac{6 e^{- 5 t_{0}}}{25} - \\frac{6 e^{- 5 t}}{25}\\right) e^{5 t}\\end{matrix}\\right]$"
      ],
      "text/plain": [
       "<IPython.core.display.Math object>"
      ]
     },
     "metadata": {},
     "output_type": "display_data"
    },
    {
     "data": {
      "text/latex": [
       "$\\displaystyle \\text{General solution: } x(t) = \\Phi(t) \\bold{c}  + \\Phi(t) \\int_{t_0}^{t} \\Phi(t)^{-1} \\bold{u} \\, dt \\, \\text{ where } \\bold{c} \\in \\mathbb{R}^{2}$"
      ],
      "text/plain": [
       "<IPython.core.display.Math object>"
      ]
     },
     "metadata": {},
     "output_type": "display_data"
    },
    {
     "data": {
      "text/latex": [
       "$\\displaystyle \\bold{x}(t) = \\left[\\begin{matrix}- 2 c_{1} + \\frac{c_{2} e^{5 t}}{2} + \\frac{2 t}{5} - \\frac{2 t_{0}}{5} + \\frac{3 e^{5 t - 5 t_{0}}}{25} - \\frac{3}{25}\\\\c_{1} + c_{2} e^{5 t} - \\frac{t}{5} + \\frac{t_{0}}{5} + \\frac{6 e^{5 t - 5 t_{0}}}{25} - \\frac{6}{25}\\end{matrix}\\right]$"
      ],
      "text/plain": [
       "<IPython.core.display.Math object>"
      ]
     },
     "metadata": {},
     "output_type": "display_data"
    }
   ],
   "source": [
    "\n",
    "import dis\n",
    "\n",
    "\n",
    "A = sp.Matrix([[1, 2], [2, 4]])\n",
    "display(Math(r\"A = \" + sp.latex(A)))\n",
    "u = sp.Matrix([[1],[1]])\n",
    "display(Math(r\"u = \" + sp.latex(u)))\n",
    "# display find general real solution for the system\n",
    "display(Math(r\"\\text{Find general real solution for the system } x'(t) = A x(t) + u\"))\n",
    "\n",
    "display(Math(r\"\\text{Constructing fundamental matrix } \\Phi(t) \\text{ for the homogenous system } x'(t) = A x(t)\"))\n",
    "fundamental_matrix, t = construct_real_solutions(A, verbose = False, tau_vals = None)\n",
    "c_vec = sp.Matrix([sp.symbols(f'c{idx + 1}', real=True) for idx in range(sols[0].shape[1])])\n",
    "t0 = sp.symbols('t0', real=True)\n",
    "\n",
    "\n",
    "display(Math(r\"\\Phi(t) = \" + sp.latex(fundamental_matrix)))\n",
    "inv_fundamental_matrix = fundamental_matrix.inv()\n",
    "display(Math(r\"\\Phi(t)^{-1} = \" + sp.latex(inv_fundamental_matrix)))\n",
    "inv_fundamental_matrix_u = inv_fundamental_matrix * u\n",
    "display(Math(r\"\\Phi(t)^{-1} u = \" + sp.latex(inv_fundamental_matrix_u)))\n",
    "integral = sp.integrate(inv_fundamental_matrix_u, (t, t0, t))\n",
    "display(Math(r\"\\int_{t_0}^{t} \\Phi(t)^{-1} \\bold{u} \\, dt = \" + sp.latex(integral)))\n",
    "fundamental_matrix_integral = fundamental_matrix * integral\n",
    "display(Math(r\"\\Phi(t) \\int_{t_0}^{t} \\Phi(t)^{-1} \\bold{u} \\, dt = \" + sp.latex(fundamental_matrix_integral)))\n",
    "display(Math(r\"\\text{General solution: } x(t) = \\Phi(t) \\bold{c}  + \\Phi(t) \\int_{t_0}^{t} \\Phi(t)^{-1} \\bold{u} \\, dt \\, \\text{ where } \\bold{c} \\in \\mathbb{R}^{\" + str(c_vec.shape[0]) + \"}\"))\n",
    "general_solution = fundamental_matrix * c_vec + fundamental_matrix_integral\n",
    "display(Math(r\"\\bold{x}(t) = \" + sp.latex(general_solution.simplify())))\n",
    "# term_1 = fundamental_matrix * c_vec\n",
    "# term_2 = fundamental_matrix * integral\n",
    "\n",
    "# term_2\n",
    "\n"
   ]
  }
 ],
 "metadata": {
  "kernelspec": {
   "display_name": "aem",
   "language": "python",
   "name": "python3"
  },
  "language_info": {
   "codemirror_mode": {
    "name": "ipython",
    "version": 3
   },
   "file_extension": ".py",
   "mimetype": "text/x-python",
   "name": "python",
   "nbconvert_exporter": "python",
   "pygments_lexer": "ipython3",
   "version": "3.11.2"
  }
 },
 "nbformat": 4,
 "nbformat_minor": 5
}
