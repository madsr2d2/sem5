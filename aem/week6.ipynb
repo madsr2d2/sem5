{
 "cells": [
  {
   "cell_type": "code",
   "execution_count": 59,
   "metadata": {},
   "outputs": [
    {
     "data": {
      "text/latex": [
       "$\\displaystyle 1.07484567901235$"
      ],
      "text/plain": [
       "1.07484567901235"
      ]
     },
     "execution_count": 59,
     "metadata": {},
     "output_type": "execute_result"
    }
   ],
   "source": [
    "x = sp.symbols('x')\n",
    "N = sp.symbols('N', integer=True, positive=True)\n",
    "e = 0.02 # error\n",
    "expr = 1/x**4\n",
    "\n",
    "integral = sp.integrate(expr, (x,N,sp.oo))\n",
    "ineq = integral <= e\n",
    "\n",
    "N_val = sp.solve(ineq, N).args[0]\n",
    "N_val = sp.ceiling(N_val)\n",
    "\n",
    "sum_estimate = sp.Sum(expr, (x, 1, N_val)).evalf()\n",
    "\n",
    "sum_estimate"
   ]
  }
 ],
 "metadata": {
  "kernelspec": {
   "display_name": "aem",
   "language": "python",
   "name": "python3"
  },
  "language_info": {
   "codemirror_mode": {
    "name": "ipython",
    "version": 3
   },
   "file_extension": ".py",
   "mimetype": "text/x-python",
   "name": "python",
   "nbconvert_exporter": "python",
   "pygments_lexer": "ipython3",
   "version": "3.11.2"
  }
 },
 "nbformat": 4,
 "nbformat_minor": 2
}
