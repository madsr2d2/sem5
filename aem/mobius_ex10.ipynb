{
 "cells": [
  {
   "cell_type": "code",
   "execution_count": 247,
   "metadata": {},
   "outputs": [],
   "source": [
    "import sympy as sp"
   ]
  },
  {
   "cell_type": "code",
   "execution_count": 280,
   "metadata": {},
   "outputs": [
    {
     "data": {
      "text/latex": [
       "$\\displaystyle -4 < x \\wedge x < 0$"
      ],
      "text/plain": [
       "(-4 < x) & (x < 0)"
      ]
     },
     "execution_count": 280,
     "metadata": {},
     "output_type": "execute_result"
    }
   ],
   "source": [
    "# Q.1\n",
    "# Use the ratio test to find the interval of convergence of the series\n",
    "x = sp.Symbol('x', real=True) \n",
    "n = sp.Symbol('n', integer=True, positive=True)\n",
    "f = (-1)**(n)*(2+x)**n/(2**(n+2))\n",
    "q_abs=sp.Abs(sp.simplify(f.subs(n, n + 1)/f))\n",
    "sp.solve(q_abs<1, x) # Quotient test. \n"
   ]
  },
  {
   "cell_type": "code",
   "execution_count": 281,
   "metadata": {},
   "outputs": [
    {
     "data": {
      "text/latex": [
       "$\\displaystyle - \\frac{x + 2}{4 \\left(x + 4\\right)}$"
      ],
      "text/plain": [
       "-(x + 2)/(4*(x + 4))"
      ]
     },
     "execution_count": 281,
     "metadata": {},
     "output_type": "execute_result"
    }
   ],
   "source": [
    "# Q1.2\n",
    "res=sp.refine(sp.Sum(f, (n, 1, sp.oo)).doit(), q_abs<1)\n",
    "res.simplify().factor() # Sum of the series"
   ]
  },
  {
   "cell_type": "code",
   "execution_count": 271,
   "metadata": {},
   "outputs": [
    {
     "data": {
      "text/plain": [
       "72"
      ]
     },
     "execution_count": 271,
     "metadata": {},
     "output_type": "execute_result"
    }
   ],
   "source": [
    "9*8"
   ]
  },
  {
   "cell_type": "code",
   "execution_count": 286,
   "metadata": {},
   "outputs": [
    {
     "name": "stdout",
     "output_type": "stream",
     "text": [
      "a/b_0 = 8.25000\n",
      "a/b_7 = -0.20285\n",
      "a/b_4 = 0.15915\n"
     ]
    },
    {
     "data": {
      "text/latex": [
       "$\\displaystyle \\frac{1}{2 \\pi}$"
      ],
      "text/plain": [
       "1/(2*pi)"
      ]
     },
     "execution_count": 286,
     "metadata": {},
     "output_type": "execute_result"
    }
   ],
   "source": [
    "# Q2.1\n",
    "# define piecewise function with lower and upper limits \n",
    "x = sp.Symbol('x', real=True)\n",
    "f = sp.Piecewise((6, ((-sp.pi <= x) & (x < -sp.pi*3/8))),\n",
    "                 (2, ((-sp.pi*3/8 <= x) & (x < sp.pi*1/8))),\n",
    "                 (4, ((sp.pi*1/8 <= x) & (x < sp.pi))))\n",
    "f\n",
    "\n",
    "# find Fourier series for the piecewise function\n",
    "a_n = 1/(sp.pi)*sp.integrate(f*sp.cos(n*x), (x, -sp.pi, sp.pi))\n",
    "b_n = 1/(sp.pi)*sp.integrate(f*sp.sin(n*x), (x, -sp.pi, sp.pi))\n",
    "a_0 = 1/(sp.pi)*sp.integrate(f*sp.cos(0*x), (x, -sp.pi, sp.pi))\n",
    "a_7 = 1/(sp.pi)*sp.integrate(f*sp.cos(7*x), (x, -sp.pi, sp.pi))\n",
    "a_4 = 1/(sp.pi)*sp.integrate(f*sp.cos(4*x), (x, -sp.pi, sp.pi))\n",
    "b_4 = 1/(sp.pi)*sp.integrate(f*sp.sin(4*x), (x, -sp.pi, sp.pi))\n",
    "\n",
    "for index,res in zip([0,7,4],[a_0, a_7, b_4]):\n",
    "    print(f'a/b_{index} = {round(res.evalf(),5)}')\n",
    "\n",
    "f\n",
    "a_4"
   ]
  },
  {
   "cell_type": "code",
   "execution_count": 251,
   "metadata": {},
   "outputs": [],
   "source": [
    "# Q2.2\n",
    "# Find the convergence of the Fourier series at the discontinuity points. (midpoints between the discontinuity points)"
   ]
  },
  {
   "cell_type": "code",
   "execution_count": 252,
   "metadata": {},
   "outputs": [],
   "source": [
    "# Q2.3\n",
    "# The Fourier series does NOT converge uniformly to f(x) because the function is discontinuous."
   ]
  },
  {
   "cell_type": "code",
   "execution_count": 290,
   "metadata": {},
   "outputs": [
    {
     "name": "stdout",
     "output_type": "stream",
     "text": [
      "-2/(255*pi)\n"
     ]
    }
   ],
   "source": [
    "# Q3.1\n",
    "f = sp.sin(x) # functions is even and 2pi periodic and defined on the interval [0, pi]\n",
    "\n",
    "a_n = 2/(sp.pi)*sp.integrate(f*sp.cos(n*x), (x, 0, sp.pi)) # a_n for even functions\n",
    "a_0 = a_n.subs(n, 0)\n",
    "a_2 = a_n.subs(n, 2)\n",
    "a_20 = a_n.subs(n, 20)\n",
    "c_0 = a_0/2\n",
    "c_14 = a_n.subs(n, 14)/2\n",
    "c_20 = a_n.subs(n, 20)/2\n",
    "c_neg4 = a_n.subs(n, -4)/2\n",
    "c_neg16 = a_n.subs(n, -16)/2\n",
    "\n",
    "print(c_neg16)"
   ]
  }
 ],
 "metadata": {
  "kernelspec": {
   "display_name": "aem",
   "language": "python",
   "name": "python3"
  },
  "language_info": {
   "codemirror_mode": {
    "name": "ipython",
    "version": 3
   },
   "file_extension": ".py",
   "mimetype": "text/x-python",
   "name": "python",
   "nbconvert_exporter": "python",
   "pygments_lexer": "ipython3",
   "version": "3.11.2"
  }
 },
 "nbformat": 4,
 "nbformat_minor": 2
}
