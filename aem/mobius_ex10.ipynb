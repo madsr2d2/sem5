{
 "cells": [
  {
   "cell_type": "code",
   "execution_count": 210,
   "metadata": {},
   "outputs": [],
   "source": [
    "import sympy as sp"
   ]
  },
  {
   "cell_type": "code",
   "execution_count": 211,
   "metadata": {},
   "outputs": [
    {
     "data": {
      "text/latex": [
       "$\\displaystyle -9 < x \\wedge x < -5$"
      ],
      "text/plain": [
       "(-9 < x) & (x < -5)"
      ]
     },
     "execution_count": 211,
     "metadata": {},
     "output_type": "execute_result"
    }
   ],
   "source": [
    "# Q.1\n",
    "# Use the ratio test to find the interval of convergence of the series\n",
    "x = sp.Symbol('x', real=True) \n",
    "n = sp.Symbol('n', integer=True, positive=True)\n",
    "f = (-1)**(n)*(7+x)**n/(2**(n+2))\n",
    "q_abs=sp.Abs(sp.simplify(f.subs(n, n + 1)/f))\n",
    "sp.solve(q_abs<1, x) # Quotient test. \n"
   ]
  },
  {
   "cell_type": "code",
   "execution_count": 212,
   "metadata": {},
   "outputs": [
    {
     "data": {
      "text/latex": [
       "$\\displaystyle - \\frac{x + 7}{4 \\left(x + 9\\right)}$"
      ],
      "text/plain": [
       "-(x + 7)/(4*(x + 9))"
      ]
     },
     "execution_count": 212,
     "metadata": {},
     "output_type": "execute_result"
    }
   ],
   "source": [
    "# Q1.2\n",
    "res=sp.refine(sp.Sum(f, (n, 1, sp.oo)).doit(), q_abs<1)\n",
    "res.simplify().factor() # Sum of the series"
   ]
  },
  {
   "cell_type": "code",
   "execution_count": 246,
   "metadata": {},
   "outputs": [
    {
     "name": "stdout",
     "output_type": "stream",
     "text": [
      "a_0 = 12.25000\n",
      "a_7 = -0.15363\n",
      "a_4 = -0.47746\n"
     ]
    }
   ],
   "source": [
    "# Q2.1\n",
    "# define piecewise function with lower and upper limits \n",
    "x = sp.Symbol('x', real=True)\n",
    "f = sp.Piecewise((6, ((-sp.pi <= x) & (x < -sp.pi*5/8))),\n",
    "                 (4, ((-sp.pi*5/8 <= x) & (x < sp.pi/8))),\n",
    "                 (8, ((sp.pi/8 <= x) & (x < sp.pi))))\n",
    "f\n",
    "\n",
    "# find Fourier series for the piecewise function\n",
    "a_n = 1/(sp.pi)*sp.integrate(f*sp.cos(n*x), (x, -sp.pi, sp.pi))\n",
    "a_0 = 1/(sp.pi)*sp.integrate(f*sp.cos(0*x), (x, -sp.pi, sp.pi))\n",
    "a_7 = 1/(sp.pi)*sp.integrate(f*sp.cos(7*x), (x, -sp.pi, sp.pi))\n",
    "a_4 = 1/(sp.pi)*sp.integrate(f*sp.cos(4*x), (x, -sp.pi, sp.pi))\n",
    "\n",
    "for index,res in zip([0,7,4],[a_0, a_7, a_4]):\n",
    "    print(f'a_{index} = {round(res.evalf(),5)}')"
   ]
  },
  {
   "cell_type": "code",
   "execution_count": null,
   "metadata": {},
   "outputs": [],
   "source": [
    "# Q2.2\n",
    "# Find the convergence of the Fourier series at the discontinuity points. (midpoints between the discontinuity points)"
   ]
  },
  {
   "cell_type": "code",
   "execution_count": null,
   "metadata": {},
   "outputs": [],
   "source": [
    "# Q2.3\n",
    "# The Fourier series does NOT converge uniformly to f(x) because the function is discontinuous."
   ]
  },
  {
   "cell_type": "code",
   "execution_count": null,
   "metadata": {},
   "outputs": [
    {
     "data": {
      "text/latex": [
       "$\\displaystyle \\frac{\\begin{cases} i \\pi & \\text{for}\\: n = -1 \\\\- i \\pi & \\text{for}\\: n = 1 \\\\- \\frac{1}{n^{2} e^{i \\pi n} - e^{i \\pi n}} + \\frac{1}{n^{2} e^{- i \\pi n} - e^{- i \\pi n}} & \\text{otherwise} \\end{cases}}{2 \\pi}$"
      ],
      "text/plain": [
       "Piecewise((I*pi, Eq(n, -1)), (-I*pi, Eq(n, 1)), (-1/(n**2*exp(I*pi*n) - exp(I*pi*n)) + 1/(n**2*exp(-I*pi*n) - exp(-I*pi*n)), True))/(2*pi)"
      ]
     },
     "execution_count": 245,
     "metadata": {},
     "output_type": "execute_result"
    }
   ],
   "source": [
    "# Q3.1\n",
    "f = sp.sin(x)\n",
    "\n",
    "# complex fourier constants\n",
    "\n",
    "a_n = 1/(sp.pi)*sp.integrate(f*sp.cos(n*x), (x, -sp.pi, sp.pi))\n",
    "c_n = (1/(2*sp.pi))*sp.integrate(f*sp.exp(-sp.I*n*x), (x, -sp.pi, sp.pi))\n",
    "c_n.simplify()\n",
    "# c_0 = c_n.subs(n, 0)\n",
    "# c_neg14 = c_n.subs(n, -14)\n",
    "# c_neg14\n",
    "c_n"
   ]
  }
 ],
 "metadata": {
  "kernelspec": {
   "display_name": "aem",
   "language": "python",
   "name": "python3"
  },
  "language_info": {
   "codemirror_mode": {
    "name": "ipython",
    "version": 3
   },
   "file_extension": ".py",
   "mimetype": "text/x-python",
   "name": "python",
   "nbconvert_exporter": "python",
   "pygments_lexer": "ipython3",
   "version": "3.11.2"
  }
 },
 "nbformat": 4,
 "nbformat_minor": 2
}
