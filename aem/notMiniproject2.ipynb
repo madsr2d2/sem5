{
 "cells": [
  {
   "cell_type": "code",
   "execution_count": 3,
   "metadata": {},
   "outputs": [],
   "source": [
    "import sympy as sp"
   ]
  },
  {
   "cell_type": "code",
   "execution_count": 25,
   "metadata": {},
   "outputs": [
    {
     "name": "stdout",
     "output_type": "stream",
     "text": [
      "Eigenvalues:  [-3]\n"
     ]
    },
    {
     "data": {
      "text/plain": [
       "{-3: 2}"
      ]
     },
     "execution_count": 25,
     "metadata": {},
     "output_type": "execute_result"
    }
   ],
   "source": [
    "# Defnine a system of 1st order ODEs x' = Ax\n",
    "# Define system matrix A\n",
    "A = sp.Matrix([[0,1],[-9,-6]])\n",
    "\n",
    "# Find the eigenvalues of A using the characteristic polynomial\n",
    "lam = sp.symbols('lambda')\n",
    "char_poly = A.charpoly(lam) # Find characteristic polynomial using sympy\n",
    "char_poly = sp.det(A - lam*sp.eye(2)) # Find characteristic polynomial by hand\n",
    "\n",
    "\n",
    "eigenvalues = sp.solve(char_poly,lam)\n",
    "print(\"Eigenvalues: \", eigenvalues)\n",
    "\n",
    "# find the eigenvectors of A\n",
    "eigenvectors = []\n",
    "\n",
    "A.eigenvals() # Find eigenvalues and their multiplicities\n",
    "\n"
   ]
  },
  {
   "cell_type": "code",
   "execution_count": 33,
   "metadata": {},
   "outputs": [
    {
     "data": {
      "text/plain": [
       "[Eq(x1(t), 3*C1*t*exp(-3*t) + (C1 + 3*C2)*exp(-3*t) + (4 - 3*I)*exp(I*t)/50),\n",
       " Eq(x2(t), -9*C1*t*exp(-3*t) - 9*C2*exp(-3*t) + (3 + 4*I)*exp(I*t)/50)]"
      ]
     },
     "execution_count": 33,
     "metadata": {},
     "output_type": "execute_result"
    }
   ],
   "source": [
    "import sympy as sp\n",
    "\n",
    "# Define time variable\n",
    "t = sp.symbols('t')\n",
    "\n",
    "# Define state variables as functions of t\n",
    "x1 = sp.Function('x1')(t)\n",
    "x2 = sp.Function('x2')(t)\n",
    "\n",
    "# Define matrix A and input vector u\n",
    "A = sp.Matrix([[0, 1], [-9, -6]])\n",
    "b = sp.Matrix([0, 1])\n",
    "u = b*sp.exp(t*sp.I) \n",
    "\n",
    "# Define the state vector x and its derivative\n",
    "x = sp.Matrix([x1, x2])\n",
    "x_prime = x.diff(t)\n",
    "\n",
    "# Define the system of differential equations in matrix form\n",
    "eq_matrix = sp.Eq(x_prime, A * x + u)\n",
    "# eq_matrix = sp.Eq(x_prime, A * x)\n",
    "\n",
    "# Extract individual scalar equations from the matrix equation\n",
    "eq1 = sp.Eq(x1.diff(t), A[0, 0] * x1 + A[0, 1] * x2 + u[0])\n",
    "eq2 = sp.Eq(x2.diff(t), A[1, 0] * x1 + A[1, 1] * x2 + u[1])\n",
    "\n",
    "# Solve the system\n",
    "solution = sp.dsolve((eq1, eq2))\n",
    "\n",
    "# Display the solutions\n",
    "solution\n",
    "\n"
   ]
  },
  {
   "cell_type": "code",
   "execution_count": 49,
   "metadata": {},
   "outputs": [],
   "source": [
    "c2=solution[1].args[1].args[0].args[1]\n",
    "\n",
    "c2.is_complex\n"
   ]
  },
  {
   "cell_type": "code",
   "execution_count": 29,
   "metadata": {},
   "outputs": [
    {
     "data": {
      "text/latex": [
       "$\\displaystyle \\left[\\begin{matrix}3 & 1 & 1\\\\0 & 0 & 0\\end{matrix}\\right]$"
      ],
      "text/plain": [
       "Matrix([\n",
       "[3, 1, 1],\n",
       "[0, 0, 0]])"
      ]
     },
     "execution_count": 29,
     "metadata": {},
     "output_type": "execute_result"
    }
   ],
   "source": [
    "M=(A -sp.eye(2)*-3)\n",
    "M=M.row_join(sp.Matrix([[1],[-3]]))\n",
    "M.echelon_form()"
   ]
  },
  {
   "cell_type": "code",
   "execution_count": 32,
   "metadata": {},
   "outputs": [
    {
     "data": {
      "text/latex": [
       "$\\displaystyle \\left[\\begin{matrix}0 & 1\\\\-9 & -6\\end{matrix}\\right]$"
      ],
      "text/plain": [
       "Matrix([\n",
       "[ 0,  1],\n",
       "[-9, -6]])"
      ]
     },
     "execution_count": 32,
     "metadata": {},
     "output_type": "execute_result"
    }
   ],
   "source": [
    "A"
   ]
  },
  {
   "cell_type": "code",
   "execution_count": 60,
   "metadata": {},
   "outputs": [
    {
     "name": "stdout",
     "output_type": "stream",
     "text": [
      "1.68030968785775\n",
      "-4.48873941938197\n",
      "-1.68030968785775\n",
      "4.48873941938197\n"
     ]
    },
    {
     "data": {
      "text/latex": [
       "$\\displaystyle 2 \\operatorname{atan}{\\left(- \\frac{\\sqrt{2} \\sqrt{\\sqrt{73} + 19}}{6} + \\frac{1}{6} + \\frac{\\sqrt{73}}{6} \\right)}$"
      ],
      "text/plain": [
       "2*atan(-sqrt(2)*sqrt(sqrt(73) + 19)/6 + 1/6 + sqrt(73)/6)"
      ]
     },
     "execution_count": 60,
     "metadata": {},
     "output_type": "execute_result"
    }
   ],
   "source": [
    "x = sp.symbols('x', real=True) \n",
    "f = 3*sp.sin(2*x) + 2*sp.cos(x)\n",
    "crits=sp.solve(sp.diff(f,x),x)\n",
    "\n",
    "for crit in crits:\n",
    "    print(f.subs(x,crit).evalf())\n",
    "\n",
    "crits[3]"
   ]
  },
  {
   "cell_type": "code",
   "execution_count": 61,
   "metadata": {},
   "outputs": [
    {
     "data": {
      "text/latex": [
       "$\\displaystyle 1$"
      ],
      "text/plain": [
       "1"
      ]
     },
     "execution_count": 61,
     "metadata": {},
     "output_type": "execute_result"
    }
   ],
   "source": [
    "n = sp.symbols('n', integer=True)\n",
    "\n",
    "sp.limit((1+n)**(3/2)/n**(3/2),n,sp.oo)"
   ]
  }
 ],
 "metadata": {
  "kernelspec": {
   "display_name": "aem",
   "language": "python",
   "name": "python3"
  },
  "language_info": {
   "codemirror_mode": {
    "name": "ipython",
    "version": 3
   },
   "file_extension": ".py",
   "mimetype": "text/x-python",
   "name": "python",
   "nbconvert_exporter": "python",
   "pygments_lexer": "ipython3",
   "version": "3.11.2"
  }
 },
 "nbformat": 4,
 "nbformat_minor": 2
}
