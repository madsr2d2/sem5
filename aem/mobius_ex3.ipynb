{
 "cells": [
  {
   "cell_type": "code",
   "execution_count": 107,
   "metadata": {},
   "outputs": [
    {
     "name": "stdout",
     "output_type": "stream",
     "text": [
      "H(s) = Matrix([[2/(s**2 + 2*s + 2)]])\n"
     ]
    }
   ],
   "source": [
    "# Q1.1\n",
    "import sympy as sp\n",
    "from sympy import I, exp, ln\n",
    "#\n",
    "s = sp.symbols('s')\n",
    "t = sp.symbols('t', real=True)\n",
    "n = 3\n",
    "\n",
    "A = sp.Matrix([[0,1],[-2,-2]])\n",
    "b = sp.Matrix([[0,2]]).transpose()\n",
    "d = sp.Matrix([[1,0]])\n",
    "H = -d*(A-s*sp.eye(2)).inv()*b  \n",
    "print(f'H(s) = {H}')\n"
   ]
  },
  {
   "cell_type": "code",
   "execution_count": 108,
   "metadata": {},
   "outputs": [
    {
     "name": "stdout",
     "output_type": "stream",
     "text": [
      "Re(H(i3) = Matrix([[-14/85]])\n",
      "Im(H(i3) = Matrix([[-12/85]])\n"
     ]
    }
   ],
   "source": [
    "# Q1.2\n",
    "print(f'Re(H(i{n}) = {sp.re(H.subs(s, n*I))}')\n",
    "print(f'Im(H(i{n}) = {sp.im(H.subs(s, n*I))}')"
   ]
  },
  {
   "cell_type": "code",
   "execution_count": 112,
   "metadata": {},
   "outputs": [
    {
     "name": "stdout",
     "output_type": "stream",
     "text": [
      "u(t) = -sin(3*t)/3\n",
      "y(t) = Matrix([[14*sin(3*t)/255 + 4*cos(3*t)/85]])\n"
     ]
    }
   ],
   "source": [
    "# Q1.3\n",
    "u = sp.simplify((I/(2*n))*(exp(I*n*t) - exp(-I*n*t)))\n",
    "print(f'u(t) = {u}')\n",
    "\n",
    "coeff, _ = u.as_coeff_mul()\n",
    "\n",
    "\n",
    "H = -d*(A-s*sp.eye(2)).inv()*(b*coeff)\n",
    "\n",
    "y = sp.im(sp.expand(H.subs(s, n*I)*exp(n*I*t), complex=True))\n",
    "\n",
    "print(f'y(t) = {y}')\n"
   ]
  },
  {
   "cell_type": "code",
   "execution_count": 105,
   "metadata": {},
   "outputs": [
    {
     "name": "stdout",
     "output_type": "stream",
     "text": [
      "P(lambda) = lambda**3 + 10*lambda**2 + 21*lambda - 90\n",
      "a3 = -90 => system is unstable\n"
     ]
    }
   ],
   "source": [
    "# Q2.1\n",
    "\n",
    "A = sp.Matrix([[-6,3,0],[-3,-6,0],[8,-3,2]])\n",
    "P = A.charpoly().as_expr()\n",
    "print(f'P(lambda) = {P}')\n",
    "print('a3 = -90 => system is unstable') "
   ]
  },
  {
   "cell_type": "code",
   "execution_count": 123,
   "metadata": {},
   "outputs": [
    {
     "name": "stdout",
     "output_type": "stream",
     "text": [
      "D2 = 182\n",
      "D3 = 392\n"
     ]
    }
   ],
   "source": [
    "# Q3.1\n",
    "a1 = a2 = a3 = 14\n",
    "a4 = 11\n",
    "\n",
    "A2 = sp.Matrix([[a1,a3],[1,a2]])\n",
    "A3  = sp.Matrix([[a1,a3,0],[1,a2,a4],[0,a1,a3]])\n",
    "\n",
    "print(f'D2 = {A2.det()}')\n",
    "print(f'D3 = {A3.det()}')\n"
   ]
  },
  {
   "cell_type": "code",
   "execution_count": 156,
   "metadata": {},
   "outputs": [
    {
     "data": {
      "text/latex": [
       "$\\displaystyle a < 12$"
      ],
      "text/plain": [
       "a < 12"
      ]
     },
     "execution_count": 156,
     "metadata": {},
     "output_type": "execute_result"
    }
   ],
   "source": [
    "# Q4.1\n",
    "\n",
    "a = sp.symbols('a', real=True)\n",
    "l = sp.symbols('lambda', real=True)\n",
    "\n",
    "\n",
    "a_1 = 2\n",
    "a_2 = 6\n",
    "a_3 = a\n",
    "\n",
    "P = l**3 + a_1*l**2 + a_2*l + a3\n",
    "\n",
    "A2 = sp.Matrix([[a_1,a_3],[1,a_2]])\n",
    "expr = A.det() > 0\n",
    "\n",
    "\n",
    "sp.solve(expr,a)\n",
    "\n"
   ]
  }
 ],
 "metadata": {
  "kernelspec": {
   "display_name": "aem",
   "language": "python",
   "name": "python3"
  },
  "language_info": {
   "codemirror_mode": {
    "name": "ipython",
    "version": 3
   },
   "file_extension": ".py",
   "mimetype": "text/x-python",
   "name": "python",
   "nbconvert_exporter": "python",
   "pygments_lexer": "ipython3",
   "version": "3.11.2"
  }
 },
 "nbformat": 4,
 "nbformat_minor": 2
}
