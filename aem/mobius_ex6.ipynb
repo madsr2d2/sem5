{
 "cells": [
  {
   "cell_type": "code",
   "execution_count": 1,
   "metadata": {},
   "outputs": [],
   "source": [
    "import sympy as sp"
   ]
  },
  {
   "cell_type": "code",
   "execution_count": 2,
   "metadata": {},
   "outputs": [
    {
     "name": "stdout",
     "output_type": "stream",
     "text": [
      "Absolutly convergent: False\n",
      "Convergent:  True\n"
     ]
    },
    {
     "data": {
      "text/latex": [
       "$\\displaystyle \\sum_{n=2}^{\\infty} \\frac{\\left(-1\\right)^{n}}{n \\log{\\left(n^{5} \\right)}}$"
      ],
      "text/plain": [
       "Sum((-1)**n/(n*log(n**5)), (n, 2, oo))"
      ]
     },
     "execution_count": 2,
     "metadata": {},
     "output_type": "execute_result"
    }
   ],
   "source": [
    "#Q1.1\n",
    "import re\n",
    "\n",
    "n = sp.symbols('n', integer=True, positive=True)\n",
    "min_index = 2\n",
    "alternating_part = (-1)**n\n",
    "b_n =1/(n*sp.ln(n**5))\n",
    "s = sp.Sum(alternating_part*b_n, (n, min_index, sp.oo))\n",
    "print('Absolutly convergent:', s.is_absolutely_convergent())\n",
    "print('Convergent: ', s.is_constant())\n",
    "s.doit()"
   ]
  },
  {
   "cell_type": "code",
   "execution_count": 3,
   "metadata": {},
   "outputs": [
    {
     "data": {
      "text/latex": [
       "$\\displaystyle 0.000429067456109964$"
      ],
      "text/plain": [
       "0.000429067456109964"
      ]
     },
     "execution_count": 3,
     "metadata": {},
     "output_type": "execute_result"
    }
   ],
   "source": [
    "#Q1.2\n",
    "\n",
    "N = 100\n",
    "b_n.subs(n, N+1).evalf()"
   ]
  },
  {
   "cell_type": "code",
   "execution_count": 4,
   "metadata": {},
   "outputs": [
    {
     "data": {
      "text/latex": [
       "$\\displaystyle 49.8939099374901$"
      ],
      "text/plain": [
       "49.8939099374901"
      ]
     },
     "execution_count": 4,
     "metadata": {},
     "output_type": "execute_result"
    }
   ],
   "source": [
    "#Q1.3\n",
    "error = sp.Rational(1, 1000)\n",
    "\n",
    "in_eq = b_n.subs(n, n+1) - error\n",
    "in_eq\n",
    "sp.nsolve(in_eq, n,1)\n"
   ]
  },
  {
   "cell_type": "code",
   "execution_count": 5,
   "metadata": {},
   "outputs": [
    {
     "ename": "SyntaxError",
     "evalue": "invalid syntax (3641430343.py, line 1)",
     "output_type": "error",
     "traceback": [
      "\u001b[0;36m  Cell \u001b[0;32mIn[5], line 1\u001b[0;36m\u001b[0m\n\u001b[0;31m    jQ2.1\u001b[0m\n\u001b[0m       ^\u001b[0m\n\u001b[0;31mSyntaxError\u001b[0m\u001b[0;31m:\u001b[0m invalid syntax\n"
     ]
    }
   ],
   "source": [
    "jQ2.1\n",
    "from re import I\n",
    "\n",
    "alternating_part = (-1)**n\n",
    "\n",
    "expr1 = alternating_part/n\n",
    "expr2 = alternating_part/n**2\n",
    "expr3 = 1/n**2\n",
    "expr4 = sp.ln(n)**-1\n",
    "expr5 = alternating_part * sp.ln(n)**-1\n",
    "\n",
    "low_index = [1,1,1,2,2]\n",
    "lst = [expr1, expr2, expr3, expr4, expr5]\n",
    "\n",
    "for i,index in zip(lst,low_index):\n",
    "    print(i,'Is convergent',sp.Sum(i,(n,index,sp.oo)).is_convergent())\n",
    "    print(sp.Abs(i),'Is convergent',sp.Sum(sp.Abs(i),(n,index,sp.oo)).is_convergent())\n",
    "    print()\n",
    "\n"
   ]
  },
  {
   "cell_type": "code",
   "execution_count": 340,
   "metadata": {},
   "outputs": [
    {
     "data": {
      "text/plain": [
       "[12]"
      ]
     },
     "execution_count": 340,
     "metadata": {},
     "output_type": "execute_result"
    }
   ],
   "source": [
    "#Q2.2\n",
    "\n",
    "# Define variables\n",
    "n = sp.symbols('n', integer=True, positive=True)\n",
    "a = sp.symbols('a', real=True, positive=True) \n",
    "bound = sp.Rational(289,66)\n",
    "\n",
    "# Define the expression\n",
    "term1 = 5/(n*(n+1))\n",
    "term2 = -7/(sp.pi**2 * n**2)\n",
    "term3 = 6*(1/a)**n\n",
    "\n",
    "# Compute the sum from n=1 to infinity\n",
    "sum_term1 = sp.Sum(term1, (n, 1, sp.oo)).doit()\n",
    "sum_term2 = sp.Sum(term2, (n, 1, sp.oo)).doit()\n",
    "sum_term3 = sp.Sum(term3, (n, 1, sp.oo)).doit()\n",
    "\n",
    "sum_term3_simplified = sum_term3.subs(1/a < 1, a > 1)\n",
    "\n",
    "refined_sum_term3_simplified = sp.refine(sum_term3_simplified, a > 1)\n",
    "\n",
    "sp.solve(sum_term1 + sum_term2 + refined_sum_term3_simplified - bound,a)"
   ]
  },
  {
   "cell_type": "code",
   "execution_count": 341,
   "metadata": {},
   "outputs": [
    {
     "data": {
      "text/latex": [
       "$\\displaystyle e^{-2}$"
      ],
      "text/plain": [
       "exp(-2)"
      ]
     },
     "execution_count": 341,
     "metadata": {},
     "output_type": "execute_result"
    }
   ],
   "source": [
    "#Q3.1\n",
    "x = sp.symbols('x', real=True)\n",
    "expr = sp.exp(-x)\n",
    "sp.integrate(expr, (x, 2, sp.oo))"
   ]
  },
  {
   "cell_type": "code",
   "execution_count": 342,
   "metadata": {},
   "outputs": [
    {
     "data": {
      "text/latex": [
       "$\\displaystyle 21$"
      ],
      "text/plain": [
       "21"
      ]
     },
     "execution_count": 342,
     "metadata": {},
     "output_type": "execute_result"
    }
   ],
   "source": [
    "#Q3.2 \n",
    "n = sp.symbols('n', integer=True, positive=True)\n",
    "x = sp.symbols('x', real=True)\n",
    "expr = sp.exp(-x)\n",
    "error =sp.Rational(1, 10**9)\n",
    "ineq = sp.integrate(expr, (x, n, sp.oo)) <= error\n",
    "sp.ceiling(sp.solve(ineq,n).evalf().args[0])"
   ]
  },
  {
   "cell_type": "code",
   "execution_count": 343,
   "metadata": {},
   "outputs": [
    {
     "data": {
      "text/latex": [
       "$\\displaystyle 20$"
      ],
      "text/plain": [
       "20"
      ]
     },
     "execution_count": 343,
     "metadata": {},
     "output_type": "execute_result"
    }
   ],
   "source": [
    "#Q3.3 \n",
    "n = sp.symbols('n', integer=True, positive=True)\n",
    "x = sp.symbols('x', real=True)\n",
    "expr = sp.exp(-x)\n",
    "error =sp.Rational(1, 10**9)\n",
    "expr = expr.subs(x, n+1)\n",
    "ineq = expr <= error\n",
    "sp.ceiling(sp.solve(ineq,n).evalf().args[0])"
   ]
  },
  {
   "cell_type": "code",
   "execution_count": 345,
   "metadata": {},
   "outputs": [
    {
     "data": {
      "text/latex": [
       "$\\displaystyle 0.581976706428039$"
      ],
      "text/plain": [
       "0.581976706428039"
      ]
     },
     "execution_count": 345,
     "metadata": {},
     "output_type": "execute_result"
    }
   ],
   "source": [
    "#Q3.4\n",
    "n = sp.symbols('n', integer=True, positive=True)\n",
    "expr = sp.exp(-n)\n",
    "sp.Sum(expr, (n, 1, 21)).doit().evalf()"
   ]
  },
  {
   "cell_type": "code",
   "execution_count": null,
   "metadata": {},
   "outputs": [],
   "source": []
  }
 ],
 "metadata": {
  "kernelspec": {
   "display_name": "aem",
   "language": "python",
   "name": "python3"
  },
  "language_info": {
   "codemirror_mode": {
    "name": "ipython",
    "version": 3
   },
   "file_extension": ".py",
   "mimetype": "text/x-python",
   "name": "python",
   "nbconvert_exporter": "python",
   "pygments_lexer": "ipython3",
   "version": "3.11.2"
  }
 },
 "nbformat": 4,
 "nbformat_minor": 2
}
